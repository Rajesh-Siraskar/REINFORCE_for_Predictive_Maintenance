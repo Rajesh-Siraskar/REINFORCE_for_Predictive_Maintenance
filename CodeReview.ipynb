{
 "cells": [
  {
   "cell_type": "markdown",
   "id": "b3c15c68-04b6-4591-9e1d-9c232b135cc0",
   "metadata": {
    "tags": []
   },
   "source": [
    "## CODE REVIEW \n",
    "#### Milling Tool Wear Maintenance Policy using the REINFORCE algorithm"
   ]
  },
  {
   "cell_type": "code",
   "execution_count": 19,
   "id": "8cbcfb2b-0165-444c-9b9c-b49afa4dff06",
   "metadata": {
    "tags": []
   },
   "outputs": [],
   "source": [
    "import numpy as np\n",
    "import pandas as pd\n",
    "import stable_baselines3 as sb3\n",
    "from stable_baselines3.common.vec_env import DummyVecEnv\n",
    "from stable_baselines3 import A2C, PPO, DQN\n",
    "\n",
    "from milling_tool_environment import MillingTool_SS_NT\n",
    "from utilities import compute_metrics, compute_metrics_simple, test_script, write_test_results, downsample\n",
    "from reinforce_classes import PolicyNetwork, Agent"
   ]
  },
  {
   "cell_type": "code",
   "execution_count": 5,
   "id": "7e89f986-2004-4d4b-954a-8cf5336771c6",
   "metadata": {
    "tags": []
   },
   "outputs": [
    {
     "name": "stdout",
     "output_type": "stream",
     "text": [
      "expt_n                                                                    0\n",
      "environment                                                              SS\n",
      "environment_info                                       Simulated Dasic 2006\n",
      "data_file                 data\\Simulated_Dasic_2006_Tool_Wear_Model_Trai...\n",
      "Model_name                                         RF_Model_Dasic_NoNBD.mdl\n",
      "environment.1                                                            SS\n",
      "R1                                                                        1\n",
      "R2                                                                       -1\n",
      "R3                                                                     -100\n",
      "wear_threshold                                                          3.0\n",
      "threshold_factor                                                        1.0\n",
      "add_noise                                                                 0\n",
      "breakdown_chance                                                        0.0\n",
      "episodes                                                                800\n",
      "milling_operations_max                                                  121\n",
      "version_prefix                                                        Dasic\n",
      "test_info                                                Separate test set.\n",
      "test_cases                                                               40\n",
      "test_rounds                                                               5\n",
      "results_folder                                         results/TrainingTime\n",
      "test_file                 data\\Simulated_Dasic_2006_Tool_Wear_Model_Test...\n",
      "train_sample_rate                                                         1\n",
      "test_sample_rate                                                          2\n",
      "Name: 0, dtype: object\n"
     ]
    }
   ],
   "source": [
    "df_expts = pd.read_csv('Experiments.csv')\n",
    "n_expts = len(df_expts.index)\n",
    "n_expt = 0\n",
    "experiment_summary = []\n",
    "print(df_expts.iloc[0])"
   ]
  },
  {
   "cell_type": "code",
   "execution_count": 6,
   "id": "5d4ae223-4b58-4971-8a87-7a8403761b41",
   "metadata": {
    "tags": []
   },
   "outputs": [
    {
     "name": "stdout",
     "output_type": "stream",
     "text": [
      "Episodes: 800 x 121\n"
     ]
    }
   ],
   "source": [
    "# Load experiment parameters\n",
    "ENVIRONMENT_CLASS = df_expts['environment'][n_expt]\n",
    "DATA_FILE = df_expts['data_file'][n_expt]\n",
    "R1 = df_expts['R1'][n_expt]\n",
    "R2 = df_expts['R2'][n_expt]\n",
    "R3 = df_expts['R3'][n_expt]\n",
    "WEAR_THRESHOLD = df_expts['wear_threshold'][n_expt]\n",
    "THRESHOLD_FACTOR = df_expts['threshold_factor'][n_expt]\n",
    "ADD_NOISE = df_expts['add_noise'][n_expt]\n",
    "BREAKDOWN_CHANCE = df_expts['breakdown_chance'][n_expt]\n",
    "EPISODES = df_expts['episodes'][n_expt]\n",
    "MILLING_OPERATIONS_MAX = df_expts['milling_operations_max'][n_expt]\n",
    "TEST_CASES = df_expts['test_cases'][n_expt]\n",
    "TEST_ROUNDS = df_expts['test_rounds'][n_expt]\n",
    "\n",
    "RESULTS_FOLDER = df_expts['results_folder'][n_expt]\n",
    "TEST_FILE = df_expts['test_file'][n_expt]\n",
    "TRAIN_SR = df_expts['train_sample_rate'][n_expt]\n",
    "TEST_SR = df_expts['test_sample_rate'][n_expt]\n",
    "\n",
    "METRICS_METHOD = 'binary'\n",
    "WEAR_THRESHOLD_NORMALIZED = 0.0\n",
    "\n",
    "# EPISODES=20\n",
    "# MILLING_OPERATIONS_MAX=10\n",
    "\n",
    "print(f'Episodes: {EPISODES} x {MILLING_OPERATIONS_MAX}')"
   ]
  },
  {
   "cell_type": "markdown",
   "id": "ecb50230-6d28-43c4-a277-c495c65e8a07",
   "metadata": {
    "tags": []
   },
   "source": [
    "### Read tool wear data"
   ]
  },
  {
   "cell_type": "code",
   "execution_count": 7,
   "id": "555269d5-184a-432b-9775-b8adca7268d0",
   "metadata": {
    "tags": []
   },
   "outputs": [
    {
     "name": "stdout",
     "output_type": "stream",
     "text": [
      "- Tool wear data imported (121 records).\n",
      "- Down-sampling. Input data records: 121. Sampling rate: 1. Expected rows 121. Down-sampled to 121 rows.\n",
      "- Down-sampling. Input data records: 121. Sampling rate: 2. Expected rows 60. Down-sampled to 61 rows.\n",
      "- Tool wear data split into train (121 records) and test (61 records).\n"
     ]
    }
   ],
   "source": [
    "df = pd.read_csv(DATA_FILE)\n",
    "n_records = len(df.index)\n",
    "\n",
    "df['ACTION_CODE'] = np.where(df['tool_wear'] < WEAR_THRESHOLD, 0.0, 1.0)\n",
    "\n",
    "# 3. Normalize\n",
    "WEAR_MIN = df['tool_wear'].min()\n",
    "WEAR_MAX = df['tool_wear'].max()\n",
    "WEAR_THRESHOLD_ORG_NORMALIZED = (WEAR_THRESHOLD-WEAR_MIN)/(WEAR_MAX-WEAR_MIN)\n",
    "WEAR_THRESHOLD_NORMALIZED = THRESHOLD_FACTOR*(WEAR_THRESHOLD-WEAR_MIN)/(WEAR_MAX-WEAR_MIN)\n",
    "df_normalized = (df-df.min())/(df.max()-df.min())\n",
    "df_normalized['ACTION_CODE'] = df['ACTION_CODE']\n",
    "print(f'- Tool wear data imported ({len(df.index)} records).')\n",
    "\n",
    "# 4. Split into train and test\n",
    "df_train = downsample(df_normalized, TRAIN_SR)\n",
    "df_train.to_csv('TempTrain.csv')\n",
    "df_train = pd.read_csv('TempTrain.csv')\n",
    "\n",
    "df_test = downsample(df_normalized, TEST_SR)\n",
    "df_test.to_csv('TempTest.csv')\n",
    "df_test = pd.read_csv('TempTest.csv')\n",
    "print(f'- Tool wear data split into train ({len(df_train.index)} records) and test ({len(df_test.index)} records).')"
   ]
  },
  {
   "cell_type": "code",
   "execution_count": 8,
   "id": "3a25b6a9-8e08-4045-880b-313b04ff15de",
   "metadata": {
    "tags": []
   },
   "outputs": [
    {
     "name": "stdout",
     "output_type": "stream",
     "text": [
      "** -- Single-variate env. Terminate on (1) tool breakdown (2) data-end (3) milling operations end.  R1: 1, R2: -1, R3: -100. Noise: 0. Break-down chance: 0.0 -- **\n",
      "** -- Single-variate env. Terminate on (1) tool breakdown (2) data-end (3) milling operations end.  R1: 1, R2: -1, R3: -100. Noise: 0. Break-down chance: 0.0 -- **\n"
     ]
    }
   ],
   "source": [
    "env = MillingTool_SS_NT(df_train, WEAR_THRESHOLD_NORMALIZED, MILLING_OPERATIONS_MAX, ADD_NOISE, BREAKDOWN_CHANCE, R1, R2, R3)\n",
    "env_test = MillingTool_SS_NT(df_test, WEAR_THRESHOLD_NORMALIZED, MILLING_OPERATIONS_MAX, ADD_NOISE, BREAKDOWN_CHANCE, R1, R2, R3)"
   ]
  },
  {
   "cell_type": "markdown",
   "id": "1615d7ad-5984-44b1-8c73-1b62482987d6",
   "metadata": {},
   "source": [
    "### Train REINFORCE"
   ]
  },
  {
   "cell_type": "code",
   "execution_count": 11,
   "id": "431b5d8e-f548-412f-89e9-85f632e3fdf6",
   "metadata": {
    "tags": []
   },
   "outputs": [
    {
     "name": "stdout",
     "output_type": "stream",
     "text": [
      "[0000] Loss:  -6.60e+01 | Reward:  -1.10e+00 | Ep.length: 0348\n",
      "[0100] Loss:   3.96e+00 | Reward:   2.30e+00 | Ep.length: 0348\n",
      "[0200] Loss:   4.82e+00 | Reward:   3.27e+00 | Ep.length: 0348\n",
      "[0300] Loss:   8.80e+00 | Reward:   4.70e+00 | Ep.length: 0348\n",
      "[0400] Loss:   7.38e+00 | Reward:   4.16e+00 | Ep.length: 0348\n",
      "[0500] Loss:   9.55e+00 | Reward:   3.92e+00 | Ep.length: 0348\n",
      "[0600] Loss:   5.79e+00 | Reward:   4.54e+00 | Ep.length: 0348\n",
      "[0700] Loss:   3.66e+00 | Reward:   3.46e+00 | Ep.length: 0348\n"
     ]
    }
   ],
   "source": [
    "# Policy network learning parameters\n",
    "gamma = 0.99\n",
    "alpha = 0.01\n",
    "\n",
    "rewards_history = []\n",
    "loss_history = []\n",
    "\n",
    "input_dim = env.observation_space.shape[0]\n",
    "output_dim = env.action_space.n\n",
    "\n",
    "agent_RF = Agent(input_dim, output_dim, alpha, gamma)\n",
    "\n",
    "for episode in range(EPISODES):\n",
    "    state = env.reset()\n",
    "\n",
    "    # Sample a trajectory\n",
    "    for t in range(MILLING_OPERATIONS_MAX): # Max. milling operations desired\n",
    "        action = agent_RF.act(state)\n",
    "        state, reward, done, info = env.step(action)\n",
    "        agent_RF.rewards.append(reward)\n",
    "        if done:\n",
    "            break\n",
    "\n",
    "    # Learn during this episode\n",
    "    loss = agent_RF.learn() # train per episode\n",
    "    total_reward = sum(agent_RF.rewards)\n",
    "\n",
    "    # Record statistics for this episode\n",
    "    rewards_history.append(total_reward)\n",
    "    loss_history.append(loss.item()) # Extract values from list of torch items for plotting\n",
    "\n",
    "    # On-policy - so discard all data\n",
    "    agent_RF.onpolicy_reset()\n",
    "\n",
    "    if (episode%100 == 0):\n",
    "        # print(f'[{episode:04d}] Loss: {loss:>10.2f} | Reward: {total_reward:>10.2f} | Ep.length: {env.ep_length:04d}')\n",
    "        print(f'[{episode:04d}] Loss: {loss:>10.2e} | Reward: {total_reward:>10.2e} | Ep.length: {env.ep_length:04d}')"
   ]
  },
  {
   "cell_type": "markdown",
   "id": "6906af9b-22b7-4519-bcc4-78f2b1a7e372",
   "metadata": {},
   "source": [
    "### Test"
   ]
  },
  {
   "cell_type": "code",
   "execution_count": 9,
   "id": "00602ddb-0348-402e-9c83-a49f1aaf2270",
   "metadata": {
    "tags": []
   },
   "outputs": [
    {
     "ename": "NameError",
     "evalue": "name 'agent_RF' is not defined",
     "output_type": "error",
     "traceback": [
      "\u001b[1;31m---------------------------------------------------------------------------\u001b[0m",
      "\u001b[1;31mNameError\u001b[0m                                 Traceback (most recent call last)",
      "Cell \u001b[1;32mIn[9], line 11\u001b[0m\n\u001b[0;32m      8\u001b[0m idx_normal_cases \u001b[38;5;241m=\u001b[39m np\u001b[38;5;241m.\u001b[39mrandom\u001b[38;5;241m.\u001b[39mchoice(idx_normal_cases, \u001b[38;5;28mint\u001b[39m(TEST_CASES\u001b[38;5;241m/\u001b[39m\u001b[38;5;241m2\u001b[39m), replace\u001b[38;5;241m=\u001b[39m\u001b[38;5;28;01mFalse\u001b[39;00m)\n\u001b[0;32m      9\u001b[0m test_cases \u001b[38;5;241m=\u001b[39m [\u001b[38;5;241m*\u001b[39midx_normal_cases, \u001b[38;5;241m*\u001b[39midx_replace_cases]\n\u001b[1;32m---> 11\u001b[0m results \u001b[38;5;241m=\u001b[39m test_script(METRICS_METHOD, \u001b[38;5;241m1\u001b[39m, df_test, \u001b[38;5;124m'\u001b[39m\u001b[38;5;124mREINFORCE\u001b[39m\u001b[38;5;124m'\u001b[39m, EPISODES, env_test, \u001b[38;5;124m'\u001b[39m\u001b[38;5;124mENVIRONMENT_INFO\u001b[39m\u001b[38;5;124m'\u001b[39m, \u001b[43magent_RF\u001b[49m,\n\u001b[0;32m     12\u001b[0m                       test_cases, \u001b[38;5;124m'\u001b[39m\u001b[38;5;124mTEST_INFO\u001b[39m\u001b[38;5;124m'\u001b[39m, DATA_FILE, WEAR_THRESHOLD, \u001b[38;5;124m'\u001b[39m\u001b[38;5;124mRESULTS_FILE.csv\u001b[39m\u001b[38;5;124m'\u001b[39m)\n\u001b[0;32m     13\u001b[0m avg_Pr, avg_Rc, avg_F1 \u001b[38;5;241m=\u001b[39m results[\u001b[38;5;241m14\u001b[39m:\u001b[38;5;241m17\u001b[39m]\n\u001b[0;32m     14\u001b[0m \u001b[38;5;28mprint\u001b[39m(\u001b[38;5;124mf\u001b[39m\u001b[38;5;124m'\u001b[39m\u001b[38;5;124m- RF:  Pr: \u001b[39m\u001b[38;5;132;01m{\u001b[39;00mavg_Pr\u001b[38;5;132;01m:\u001b[39;00m\u001b[38;5;124m0.3f\u001b[39m\u001b[38;5;132;01m}\u001b[39;00m\u001b[38;5;124m \u001b[39m\u001b[38;5;130;01m\\t\u001b[39;00m\u001b[38;5;124m Rc: \u001b[39m\u001b[38;5;132;01m{\u001b[39;00mavg_Rc\u001b[38;5;132;01m:\u001b[39;00m\u001b[38;5;124m0.3f\u001b[39m\u001b[38;5;132;01m}\u001b[39;00m\u001b[38;5;124m \u001b[39m\u001b[38;5;130;01m\\t\u001b[39;00m\u001b[38;5;124m F1:\u001b[39m\u001b[38;5;132;01m{\u001b[39;00mavg_F1\u001b[38;5;132;01m:\u001b[39;00m\u001b[38;5;124m0.3f\u001b[39m\u001b[38;5;132;01m}\u001b[39;00m\u001b[38;5;124m'\u001b[39m)\n",
      "\u001b[1;31mNameError\u001b[0m: name 'agent_RF' is not defined"
     ]
    }
   ],
   "source": [
    "idx_replace_cases = df_test.index[df_test['ACTION_CODE'] >= 1.0]\n",
    "idx_normal_cases = df_test.index[df_test['ACTION_CODE'] < 1.0]\n",
    "\n",
    "avg_Pr = avg_Rc = avg_F1 = 0.0\n",
    "\n",
    "# Create test cases\n",
    "idx_replace_cases = np.random.choice(idx_replace_cases, int(TEST_CASES/2), replace=False)\n",
    "idx_normal_cases = np.random.choice(idx_normal_cases, int(TEST_CASES/2), replace=False)\n",
    "test_cases = [*idx_normal_cases, *idx_replace_cases]\n",
    "\n",
    "results = test_script(METRICS_METHOD, 1, df_test, 'REINFORCE', EPISODES, env_test, 'ENVIRONMENT_INFO', agent_RF,\n",
    "                      test_cases, 'TEST_INFO', DATA_FILE, WEAR_THRESHOLD, 'RESULTS_FILE.csv')\n",
    "avg_Pr, avg_Rc, avg_F1 = results[14:17]\n",
    "print(f'- RF:  Pr: {avg_Pr:0.3f} \\t Rc: {avg_Rc:0.3f} \\t F1:{avg_F1:0.3f}')"
   ]
  },
  {
   "cell_type": "markdown",
   "id": "611faf91-7126-4cc7-a346-eeb06ba0f64a",
   "metadata": {},
   "source": [
    "### Stable-Baselines Algorithms"
   ]
  },
  {
   "cell_type": "markdown",
   "id": "b704a199-18cd-4e7c-8e38-536db07aa166",
   "metadata": {},
   "source": [
    "## Network architectures for Stable-Baselines Algorithms"
   ]
  },
  {
   "cell_type": "code",
   "execution_count": null,
   "id": "4ce66d80-5a3f-4829-9a2d-5570df0d5730",
   "metadata": {},
   "outputs": [],
   "source": [
    "env = MillingTool_SS_NT(df_train, WEAR_THRESHOLD_NORMALIZED, MILLING_OPERATIONS_MAX, ADD_NOISE, BREAKDOWN_CHANCE, R1, R2, R3)"
   ]
  },
  {
   "cell_type": "code",
   "execution_count": 24,
   "id": "e43fe902-6819-4922-809d-c126fd7c9121",
   "metadata": {
    "tags": []
   },
   "outputs": [
    {
     "name": "stdout",
     "output_type": "stream",
     "text": [
      "------------------------------------------------------------------------------------------------------------------------\n",
      "ActorCriticPolicy(\n",
      "  (features_extractor): FlattenExtractor(\n",
      "    (flatten): Flatten(start_dim=1, end_dim=-1)\n",
      "  )\n",
      "  (pi_features_extractor): FlattenExtractor(\n",
      "    (flatten): Flatten(start_dim=1, end_dim=-1)\n",
      "  )\n",
      "  (vf_features_extractor): FlattenExtractor(\n",
      "    (flatten): Flatten(start_dim=1, end_dim=-1)\n",
      "  )\n",
      "  (mlp_extractor): MlpExtractor(\n",
      "    (shared_net): Sequential()\n",
      "    (policy_net): Sequential(\n",
      "      (0): Linear(in_features=2, out_features=64, bias=True)\n",
      "      (1): Tanh()\n",
      "      (2): Linear(in_features=64, out_features=64, bias=True)\n",
      "      (3): Tanh()\n",
      "    )\n",
      "    (value_net): Sequential(\n",
      "      (0): Linear(in_features=2, out_features=64, bias=True)\n",
      "      (1): Tanh()\n",
      "      (2): Linear(in_features=64, out_features=64, bias=True)\n",
      "      (3): Tanh()\n",
      "    )\n",
      "  )\n",
      "  (action_net): Linear(in_features=64, out_features=2, bias=True)\n",
      "  (value_net): Linear(in_features=64, out_features=1, bias=True)\n",
      ")\n",
      "------------------------------------------------------------------------------------------------------------------------\n",
      "DQNPolicy(\n",
      "  (q_net): QNetwork(\n",
      "    (features_extractor): FlattenExtractor(\n",
      "      (flatten): Flatten(start_dim=1, end_dim=-1)\n",
      "    )\n",
      "    (q_net): Sequential(\n",
      "      (0): Linear(in_features=2, out_features=64, bias=True)\n",
      "      (1): ReLU()\n",
      "      (2): Linear(in_features=64, out_features=64, bias=True)\n",
      "      (3): ReLU()\n",
      "      (4): Linear(in_features=64, out_features=2, bias=True)\n",
      "    )\n",
      "  )\n",
      "  (q_net_target): QNetwork(\n",
      "    (features_extractor): FlattenExtractor(\n",
      "      (flatten): Flatten(start_dim=1, end_dim=-1)\n",
      "    )\n",
      "    (q_net): Sequential(\n",
      "      (0): Linear(in_features=2, out_features=64, bias=True)\n",
      "      (1): ReLU()\n",
      "      (2): Linear(in_features=64, out_features=64, bias=True)\n",
      "      (3): ReLU()\n",
      "      (4): Linear(in_features=64, out_features=2, bias=True)\n",
      "    )\n",
      "  )\n",
      ")\n",
      "------------------------------------------------------------------------------------------------------------------------\n",
      "ActorCriticPolicy(\n",
      "  (features_extractor): FlattenExtractor(\n",
      "    (flatten): Flatten(start_dim=1, end_dim=-1)\n",
      "  )\n",
      "  (pi_features_extractor): FlattenExtractor(\n",
      "    (flatten): Flatten(start_dim=1, end_dim=-1)\n",
      "  )\n",
      "  (vf_features_extractor): FlattenExtractor(\n",
      "    (flatten): Flatten(start_dim=1, end_dim=-1)\n",
      "  )\n",
      "  (mlp_extractor): MlpExtractor(\n",
      "    (shared_net): Sequential()\n",
      "    (policy_net): Sequential(\n",
      "      (0): Linear(in_features=2, out_features=64, bias=True)\n",
      "      (1): Tanh()\n",
      "      (2): Linear(in_features=64, out_features=64, bias=True)\n",
      "      (3): Tanh()\n",
      "    )\n",
      "    (value_net): Sequential(\n",
      "      (0): Linear(in_features=2, out_features=64, bias=True)\n",
      "      (1): Tanh()\n",
      "      (2): Linear(in_features=64, out_features=64, bias=True)\n",
      "      (3): Tanh()\n",
      "    )\n",
      "  )\n",
      "  (action_net): Linear(in_features=64, out_features=2, bias=True)\n",
      "  (value_net): Linear(in_features=64, out_features=1, bias=True)\n",
      ")\n"
     ]
    }
   ],
   "source": [
    "agent_SB = A2C('MlpPolicy', env)\n",
    "print(120*'-')\n",
    "print(agent_SB.policy)\n",
    "\n",
    "print(120*'-')\n",
    "agent_SB = DQN('MlpPolicy', env)\n",
    "print(agent_SB.policy)\n",
    "\n",
    "print(120*'-')\n",
    "agent_SB = PPO('MlpPolicy', env)\n",
    "print(agent_SB.policy)"
   ]
  },
  {
   "cell_type": "code",
   "execution_count": 20,
   "id": "0c412301-f7b2-42bf-921a-7553b0655623",
   "metadata": {
    "tags": []
   },
   "outputs": [
    {
     "ename": "AttributeError",
     "evalue": "type object 'ActorCriticPolicy' has no attribute 'net_arch'",
     "output_type": "error",
     "traceback": [
      "\u001b[1;31m---------------------------------------------------------------------------\u001b[0m",
      "\u001b[1;31mAttributeError\u001b[0m                            Traceback (most recent call last)",
      "Cell \u001b[1;32mIn[20], line 1\u001b[0m\n\u001b[1;32m----> 1\u001b[0m \u001b[43msb3\u001b[49m\u001b[38;5;241;43m.\u001b[39;49m\u001b[43mcommon\u001b[49m\u001b[38;5;241;43m.\u001b[39;49m\u001b[43mpolicies\u001b[49m\u001b[38;5;241;43m.\u001b[39;49m\u001b[43mActorCriticPolicy\u001b[49m\u001b[38;5;241;43m.\u001b[39;49m\u001b[43mnet_arch\u001b[49m\n",
      "\u001b[1;31mAttributeError\u001b[0m: type object 'ActorCriticPolicy' has no attribute 'net_arch'"
     ]
    }
   ],
   "source": [
    "sb3.common.policies.ActorCriticPolicy.net_arch"
   ]
  },
  {
   "cell_type": "code",
   "execution_count": null,
   "id": "e5622ce9-0920-4c0b-8d2d-44fabb75cddf",
   "metadata": {},
   "outputs": [],
   "source": []
  },
  {
   "cell_type": "code",
   "execution_count": null,
   "id": "636867e1-3bc1-43d0-9be5-2747ab20dca9",
   "metadata": {},
   "outputs": [],
   "source": []
  },
  {
   "cell_type": "code",
   "execution_count": null,
   "id": "1dfd6df7-9d95-43ad-a800-57d3d88b1345",
   "metadata": {},
   "outputs": [],
   "source": []
  },
  {
   "cell_type": "code",
   "execution_count": 13,
   "id": "5f6a0961-c43d-48f7-b404-1b0a14d4053c",
   "metadata": {
    "tags": []
   },
   "outputs": [
    {
     "name": "stdout",
     "output_type": "stream",
     "text": [
      "** -- Single-variate env. Terminate on (1) tool breakdown (2) data-end (3) milling operations end.  R1: 1, R2: -2, R3: -40. Noise: 0. Break-down chance: 0.0 -- **\n",
      "- A2C: Pr: 0.583 \t Rc: 0.700 \t F1:0.603\n"
     ]
    }
   ],
   "source": [
    "env = MillingTool_SS_NT(df_train, WEAR_THRESHOLD_NORMALIZED, MILLING_OPERATIONS_MAX, ADD_NOISE, BREAKDOWN_CHANCE, R1, R2, R3)\n",
    "agent_SB = A2C('MlpPolicy', env, tensorboard_log=\"./tensorboard/\")\n",
    "\n",
    "agent_SB.learn(total_timesteps=10_000)\n",
    "\n",
    "# METRICS_METHOD None, 'micro', 'macro', 'weighted', 'samples')\n",
    "results = test_script(METRICS_METHOD, 1, df_test, 'A2C', EPISODES, env_test, 'ENVIRONMENT_INFO', agent_SB, test_cases, 'TEST_INFO', DATA_FILE, WEAR_THRESHOLD, 'RESULTS_FILE.csv')\n",
    "avg_Pr, avg_Rc, avg_F1 = results[14:17]\n",
    "print(f'- A2C: Pr: {avg_Pr:0.3f} \\t Rc: {avg_Rc:0.3f} \\t F1:{avg_F1:0.3f}')"
   ]
  },
  {
   "cell_type": "code",
   "execution_count": 14,
   "id": "7e6c47c9-f3d4-4847-a47b-4db3cc4adc18",
   "metadata": {
    "tags": []
   },
   "outputs": [
    {
     "name": "stdout",
     "output_type": "stream",
     "text": [
      "** -- Single-variate env. Terminate on (1) tool breakdown (2) data-end (3) milling operations end.  R1: 1, R2: -2, R3: -40. Noise: 0. Break-down chance: 0.0 -- **\n",
      "- DQN: Pr: 0.000 \t Rc: 0.000 \t F1:0.000\n"
     ]
    }
   ],
   "source": [
    "env = MillingTool_SS_NT(df_train, WEAR_THRESHOLD_NORMALIZED, MILLING_OPERATIONS_MAX, ADD_NOISE, BREAKDOWN_CHANCE, R1, R2, R3)\n",
    "agent_SB = DQN('MlpPolicy', env, tensorboard_log=\"./tensorboard/\")\n",
    "agent_SB.learn(total_timesteps=10_000)\n",
    "\n",
    "results = test_script(METRICS_METHOD, 1, df_test, 'DQN', EPISODES, env_test, 'ENVIRONMENT_INFO', agent_SB, test_cases, 'TEST_INFO', DATA_FILE, WEAR_THRESHOLD, 'RESULTS_FILE.csv')\n",
    "avg_Pr, avg_Rc, avg_F1 = results[14:17]\n",
    "print(f'- DQN: Pr: {avg_Pr:0.3f} \\t Rc: {avg_Rc:0.3f} \\t F1:{avg_F1:0.3f}')"
   ]
  },
  {
   "cell_type": "code",
   "execution_count": 15,
   "id": "3b22808b-e558-4635-b2f9-a232d6537cbc",
   "metadata": {
    "tags": []
   },
   "outputs": [
    {
     "name": "stdout",
     "output_type": "stream",
     "text": [
      "** -- Single-variate env. Terminate on (1) tool breakdown (2) data-end (3) milling operations end.  R1: 1, R2: -2, R3: -40. Noise: 0. Break-down chance: 0.0 -- **\n",
      "- PPO: Pr: 0.565 \t Rc: 0.650 \t F1:0.580\n"
     ]
    }
   ],
   "source": [
    "env = MillingTool_SS_NT(df_train, WEAR_THRESHOLD_NORMALIZED, MILLING_OPERATIONS_MAX, ADD_NOISE, BREAKDOWN_CHANCE, R1, R2, R3)\n",
    "agent_SB = PPO('MlpPolicy', env, tensorboard_log=\"./tensorboard/\")\n",
    "agent_SB.learn(total_timesteps=10_000)\n",
    "\n",
    "results = test_script(METRICS_METHOD, 1, df_test, 'PPO', EPISODES, env_test, 'ENVIRONMENT_INFO', agent_SB, test_cases, 'TEST_INFO', DATA_FILE, WEAR_THRESHOLD, 'RESULTS_FILE.csv')\n",
    "avg_Pr, avg_Rc, avg_F1 = results[14:17]\n",
    "print(f'- PPO: Pr: {avg_Pr:0.3f} \\t Rc: {avg_Rc:0.3f} \\t F1:{avg_F1:0.3f}')"
   ]
  },
  {
   "cell_type": "markdown",
   "id": "ebca108d-6955-402b-9959-fee74f260731",
   "metadata": {},
   "source": [
    "### Records\n",
    "\n",
    "```\n",
    "Run-1: 800 eps\n",
    "- A2C: Pr: 0.455 \t Rc: 0.250 \t F1:0.391\n",
    "- DQN: Pr: 0.000 \t Rc: 0.000 \t F1:0.000\n",
    "- PPO: Pr: 0.333 \t Rc: 0.150 \t F1:0.268\n",
    "----------------------------------------------------\n",
    "- RF:  Pr: 0.800 \t Rc: 1.000 \t F1:0.833\n",
    "```"
   ]
  },
  {
   "cell_type": "markdown",
   "id": "4705a340-212e-4c10-acd7-837eb96a5278",
   "metadata": {},
   "source": [
    "# Consolidate multiple (3) test runs data and find averaged metrics \n",
    "\n",
    "- Metrics file RF_performance_summary is created using ```compute_metrics``` function\n",
    "- This fn uses ```df.groupby(['Algorithm']).agg({'Precision': ['mean','std']```"
   ]
  },
  {
   "cell_type": "code",
   "execution_count": 9,
   "id": "3ffb3426-321a-4993-90a8-f67c9c6986e3",
   "metadata": {
    "tags": []
   },
   "outputs": [],
   "source": [
    "import pandas as pd\n",
    "import glob\n",
    "# from utilities import compute_metrics"
   ]
  },
  {
   "cell_type": "code",
   "execution_count": 10,
   "id": "99031153-4f35-4367-b730-8c78c1e7a047",
   "metadata": {
    "tags": []
   },
   "outputs": [],
   "source": [
    "# PATH = './results/MultiRound' \n",
    "# REPORTS = f'{PATH}/R?_RF_performance_summary.csv'\n",
    "# METRICS = f'{PATH}/R?_TEST_CONSOLIDATED_METRICS.csv'\n",
    "\n",
    "# CONCAT_PERFORMANCE_REPORT = f'{PATH}/Concat_RF_performance_summary_21-Jun-2023.csv'\n",
    "# CONCAT_METRICS = f'{PATH}/Concat_Metrics_21-Jun-2023.csv'\n",
    "# CONSOLIDATED_PERFORMANCE_REPORT = f'{PATH}/Consolidated_RF_performance_summary_21-Jun-2023.csv'\n",
    "\n",
    "# report_files = glob.glob(REPORTS) \n",
    "# print(report_files)\n",
    "\n",
    "# df_report = pd.concat((pd.read_csv(f, header = 0) for f in report_files))\n",
    "# df_report.to_csv(CONCAT_PERFORMANCE_REPORT)\n",
    "\n",
    "# df_m = pd.concat((pd.read_csv(f, header = 0) for f in metrics_files))\n",
    "# df_m.to_csv(CONCAT_METRICS)"
   ]
  },
  {
   "cell_type": "code",
   "execution_count": 11,
   "id": "a4c0ff5d-0124-49dd-80f4-99d10ab2557e",
   "metadata": {
    "tags": []
   },
   "outputs": [
    {
     "name": "stdout",
     "output_type": "stream",
     "text": [
      "['./results/MultiRound\\\\Experiment_Results_0_14 - Copy.csv', './results/MultiRound\\\\Experiment_Results_0_14.csv']\n"
     ]
    }
   ],
   "source": [
    "# For multi-training round - stability test experiments \n",
    "PATH = './results/MultiRound' \n",
    "EXPT_REPORTS = f'{PATH}/Experiment_Results_*.csv'\n",
    "CONCAT_REPORT = f'{PATH}/Concat_Experiments.csv'\n",
    "CONSOLIDATED_PERFORMANCE_REPORT = f'{PATH}/Consolidated_Experiments_Summary.csv'\n",
    "\n",
    "report_files = glob.glob(EXPT_REPORTS) \n",
    "print(report_files)\n",
    "\n",
    "df_report = pd.concat((pd.read_csv(f, header = 0) for f in report_files))\n",
    "df_report.to_csv(CONCAT_REPORT)"
   ]
  },
  {
   "cell_type": "code",
   "execution_count": 12,
   "id": "86fe0ba9-6d3b-45cd-bb42-2ef42110db19",
   "metadata": {
    "tags": []
   },
   "outputs": [
    {
     "data": {
      "text/plain": [
       "Index(['Unnamed: 0', 'expt_n', 'environment', 'environment_info', 'data_file',\n",
       "       'Model_name', 'environment.1', 'R1', 'R2', 'R3', 'wear_threshold',\n",
       "       'threshold_factor', 'add_noise', 'breakdown_chance', 'episodes',\n",
       "       'milling_operations_max', 'version_prefix', 'test_info', 'test_cases',\n",
       "       'test_rounds', 'results_folder', 'test_file', 'train_sample_rate',\n",
       "       'test_sample_rate', 'RF_Pr', 'RF_Rc', 'RF_F1', 'RF_F05', 'RF_Pr_sd',\n",
       "       'RF_Rc_sd', 'RF_F1_sd', 'RF_F05_sd', 'A2C_Pr', 'A2C_Rc', 'A2C_F1',\n",
       "       'A2C_F05', 'A2C_Pr_sd', 'A2C_Rc_sd', 'A2C_F1_sd', 'A2C_F05_sd',\n",
       "       'DQN_Pr', 'DQN_Rc', 'DQN_F1', 'DQN_F05', 'DQN_Pr_sd', 'DQN_Rc_sd',\n",
       "       'DQN_F1_sd', 'DQN_F05_sd', 'PPO_Pr', 'PPO_Rc', 'PPO_F1', 'PPO_F05',\n",
       "       'PPO_Pr_sd', 'PPO_Rc_sd', 'PPO_F1_sd', 'PPO_F05_sd', 'model_file',\n",
       "       'RF_time', 'A2C_time', 'DQN_time', 'PPO_time'],\n",
       "      dtype='object')"
      ]
     },
     "execution_count": 12,
     "metadata": {},
     "output_type": "execute_result"
    }
   ],
   "source": [
    "df_report.columns"
   ]
  },
  {
   "cell_type": "code",
   "execution_count": 13,
   "id": "9fd81cbf-f996-4685-99b7-2b29e3ccdbad",
   "metadata": {
    "tags": []
   },
   "outputs": [],
   "source": [
    "def compute_aggregated_metrics(df):\n",
    "    metrics = df.groupby(['environment_info']).agg(\n",
    "        {'RF_Pr': ['mean'], 'RF_Rc': ['mean'],'RF_F1': ['mean'], 'RF_F05': ['mean'],\n",
    "         'A2C_Pr': ['mean'], 'A2C_Rc': ['mean'],'A2C_F1': ['mean'], 'A2C_F05': ['mean'],\n",
    "         'DQN_Pr': ['mean'], 'DQN_Rc': ['mean'],'DQN_F1': ['mean'], 'DQN_F05': ['mean'],\n",
    "         'PPO_Pr': ['mean'], 'PPO_Rc': ['mean'],'PPO_F1': ['mean'], 'PPO_F05': ['mean'],\n",
    "         \n",
    "         'RF_Pr_sd': ['mean'], 'RF_Rc_sd': ['mean'],'RF_F1_sd': ['mean'], 'RF_F05_sd': ['mean'],\n",
    "         'A2C_Pr_sd': ['mean'], 'A2C_Rc_sd': ['mean'],'A2C_F1_sd': ['mean'], 'A2C_F05_sd': ['mean'],\n",
    "         'DQN_Pr_sd': ['mean'], 'DQN_Rc_sd': ['mean'],'DQN_F1_sd': ['mean'], 'DQN_F05_sd': ['mean'],\n",
    "         'PPO_Pr_sd': ['mean'], 'PPO_Rc_sd': ['mean'],'PPO_F1_sd': ['mean'], 'PPO_F05_sd': ['mean']\n",
    "        \n",
    "        })\n",
    "    return(metrics)"
   ]
  },
  {
   "cell_type": "code",
   "execution_count": 14,
   "id": "372f4718-ab9b-4f15-ab6a-0b026e92a6cd",
   "metadata": {
    "tags": []
   },
   "outputs": [],
   "source": [
    "algo_metrics = compute_aggregated_metrics(df_report)\n",
    "algo_metrics.to_csv(CONSOLIDATED_PERFORMANCE_REPORT)"
   ]
  },
  {
   "cell_type": "code",
   "execution_count": 15,
   "id": "bfb6d679-7fe1-437c-9825-14b3e6a38abd",
   "metadata": {
    "tags": []
   },
   "outputs": [
    {
     "data": {
      "text/html": [
       "<div>\n",
       "<style scoped>\n",
       "    .dataframe tbody tr th:only-of-type {\n",
       "        vertical-align: middle;\n",
       "    }\n",
       "\n",
       "    .dataframe tbody tr th {\n",
       "        vertical-align: top;\n",
       "    }\n",
       "\n",
       "    .dataframe thead tr th {\n",
       "        text-align: left;\n",
       "    }\n",
       "\n",
       "    .dataframe thead tr:last-of-type th {\n",
       "        text-align: right;\n",
       "    }\n",
       "</style>\n",
       "<table border=\"1\" class=\"dataframe\">\n",
       "  <thead>\n",
       "    <tr>\n",
       "      <th></th>\n",
       "      <th>RF_Pr</th>\n",
       "      <th>RF_Rc</th>\n",
       "      <th>RF_F1</th>\n",
       "      <th>RF_F05</th>\n",
       "      <th>A2C_Pr</th>\n",
       "      <th>A2C_Rc</th>\n",
       "      <th>A2C_F1</th>\n",
       "      <th>A2C_F05</th>\n",
       "      <th>DQN_Pr</th>\n",
       "      <th>DQN_Rc</th>\n",
       "      <th>...</th>\n",
       "      <th>A2C_F1_sd</th>\n",
       "      <th>A2C_F05_sd</th>\n",
       "      <th>DQN_Pr_sd</th>\n",
       "      <th>DQN_Rc_sd</th>\n",
       "      <th>DQN_F1_sd</th>\n",
       "      <th>DQN_F05_sd</th>\n",
       "      <th>PPO_Pr_sd</th>\n",
       "      <th>PPO_Rc_sd</th>\n",
       "      <th>PPO_F1_sd</th>\n",
       "      <th>PPO_F05_sd</th>\n",
       "    </tr>\n",
       "    <tr>\n",
       "      <th></th>\n",
       "      <th>mean</th>\n",
       "      <th>mean</th>\n",
       "      <th>mean</th>\n",
       "      <th>mean</th>\n",
       "      <th>mean</th>\n",
       "      <th>mean</th>\n",
       "      <th>mean</th>\n",
       "      <th>mean</th>\n",
       "      <th>mean</th>\n",
       "      <th>mean</th>\n",
       "      <th>...</th>\n",
       "      <th>mean</th>\n",
       "      <th>mean</th>\n",
       "      <th>mean</th>\n",
       "      <th>mean</th>\n",
       "      <th>mean</th>\n",
       "      <th>mean</th>\n",
       "      <th>mean</th>\n",
       "      <th>mean</th>\n",
       "      <th>mean</th>\n",
       "      <th>mean</th>\n",
       "    </tr>\n",
       "    <tr>\n",
       "      <th>environment_info</th>\n",
       "      <th></th>\n",
       "      <th></th>\n",
       "      <th></th>\n",
       "      <th></th>\n",
       "      <th></th>\n",
       "      <th></th>\n",
       "      <th></th>\n",
       "      <th></th>\n",
       "      <th></th>\n",
       "      <th></th>\n",
       "      <th></th>\n",
       "      <th></th>\n",
       "      <th></th>\n",
       "      <th></th>\n",
       "      <th></th>\n",
       "      <th></th>\n",
       "      <th></th>\n",
       "      <th></th>\n",
       "      <th></th>\n",
       "      <th></th>\n",
       "      <th></th>\n",
       "    </tr>\n",
       "  </thead>\n",
       "  <tbody>\n",
       "    <tr>\n",
       "      <th>PHM C01 MS NBD</th>\n",
       "      <td>0.000000</td>\n",
       "      <td>0.000000</td>\n",
       "      <td>0.000000</td>\n",
       "      <td>0.000000</td>\n",
       "      <td>0.489548</td>\n",
       "      <td>0.495000</td>\n",
       "      <td>0.490043</td>\n",
       "      <td>0.489209</td>\n",
       "      <td>0.400000</td>\n",
       "      <td>0.040000</td>\n",
       "      <td>...</td>\n",
       "      <td>0.127893</td>\n",
       "      <td>0.122916</td>\n",
       "      <td>0.438854</td>\n",
       "      <td>0.045947</td>\n",
       "      <td>0.080383</td>\n",
       "      <td>0.147723</td>\n",
       "      <td>0.128513</td>\n",
       "      <td>0.091439</td>\n",
       "      <td>0.112413</td>\n",
       "      <td>0.126855</td>\n",
       "    </tr>\n",
       "    <tr>\n",
       "      <th>PHM C01 SS HBD</th>\n",
       "      <td>0.939417</td>\n",
       "      <td>0.675000</td>\n",
       "      <td>0.782742</td>\n",
       "      <td>0.868716</td>\n",
       "      <td>0.506589</td>\n",
       "      <td>0.795000</td>\n",
       "      <td>0.617987</td>\n",
       "      <td>0.545842</td>\n",
       "      <td>0.266667</td>\n",
       "      <td>0.025000</td>\n",
       "      <td>...</td>\n",
       "      <td>0.062370</td>\n",
       "      <td>0.053340</td>\n",
       "      <td>0.438854</td>\n",
       "      <td>0.042492</td>\n",
       "      <td>0.076038</td>\n",
       "      <td>0.145879</td>\n",
       "      <td>0.149762</td>\n",
       "      <td>0.073786</td>\n",
       "      <td>0.096348</td>\n",
       "      <td>0.120821</td>\n",
       "    </tr>\n",
       "    <tr>\n",
       "      <th>PHM C01 SS LBD</th>\n",
       "      <td>0.909307</td>\n",
       "      <td>0.675000</td>\n",
       "      <td>0.772607</td>\n",
       "      <td>0.848399</td>\n",
       "      <td>0.000000</td>\n",
       "      <td>0.000000</td>\n",
       "      <td>0.000000</td>\n",
       "      <td>0.000000</td>\n",
       "      <td>0.769343</td>\n",
       "      <td>0.980000</td>\n",
       "      <td>...</td>\n",
       "      <td>0.000000</td>\n",
       "      <td>0.000000</td>\n",
       "      <td>0.028035</td>\n",
       "      <td>0.025820</td>\n",
       "      <td>0.022296</td>\n",
       "      <td>0.025550</td>\n",
       "      <td>0.139466</td>\n",
       "      <td>0.106066</td>\n",
       "      <td>0.117633</td>\n",
       "      <td>0.128711</td>\n",
       "    </tr>\n",
       "    <tr>\n",
       "      <th>PHM C01 SS NBD</th>\n",
       "      <td>0.992857</td>\n",
       "      <td>0.570000</td>\n",
       "      <td>0.720351</td>\n",
       "      <td>0.860303</td>\n",
       "      <td>0.546543</td>\n",
       "      <td>0.430000</td>\n",
       "      <td>0.475526</td>\n",
       "      <td>0.513566</td>\n",
       "      <td>0.225000</td>\n",
       "      <td>0.030000</td>\n",
       "      <td>...</td>\n",
       "      <td>0.076350</td>\n",
       "      <td>0.080070</td>\n",
       "      <td>0.208055</td>\n",
       "      <td>0.025820</td>\n",
       "      <td>0.045323</td>\n",
       "      <td>0.083817</td>\n",
       "      <td>0.083112</td>\n",
       "      <td>0.082496</td>\n",
       "      <td>0.079150</td>\n",
       "      <td>0.078769</td>\n",
       "    </tr>\n",
       "    <tr>\n",
       "      <th>PHM C04 MS NBD</th>\n",
       "      <td>0.777687</td>\n",
       "      <td>0.525000</td>\n",
       "      <td>0.621664</td>\n",
       "      <td>0.704391</td>\n",
       "      <td>0.495882</td>\n",
       "      <td>0.845000</td>\n",
       "      <td>0.624475</td>\n",
       "      <td>0.540334</td>\n",
       "      <td>0.498650</td>\n",
       "      <td>0.975000</td>\n",
       "      <td>...</td>\n",
       "      <td>0.030681</td>\n",
       "      <td>0.025620</td>\n",
       "      <td>0.014239</td>\n",
       "      <td>0.035355</td>\n",
       "      <td>0.020239</td>\n",
       "      <td>0.016136</td>\n",
       "      <td>0.050125</td>\n",
       "      <td>0.103280</td>\n",
       "      <td>0.068401</td>\n",
       "      <td>0.056139</td>\n",
       "    </tr>\n",
       "    <tr>\n",
       "      <th>PHM C04 SS HBD</th>\n",
       "      <td>0.732020</td>\n",
       "      <td>0.925000</td>\n",
       "      <td>0.815640</td>\n",
       "      <td>0.763023</td>\n",
       "      <td>0.493257</td>\n",
       "      <td>0.520000</td>\n",
       "      <td>0.504165</td>\n",
       "      <td>0.497099</td>\n",
       "      <td>0.501353</td>\n",
       "      <td>0.975000</td>\n",
       "      <td>...</td>\n",
       "      <td>0.098753</td>\n",
       "      <td>0.087801</td>\n",
       "      <td>0.018237</td>\n",
       "      <td>0.042492</td>\n",
       "      <td>0.023877</td>\n",
       "      <td>0.019941</td>\n",
       "      <td>0.184610</td>\n",
       "      <td>0.069921</td>\n",
       "      <td>0.100034</td>\n",
       "      <td>0.135782</td>\n",
       "    </tr>\n",
       "    <tr>\n",
       "      <th>PHM C04 SS LBD</th>\n",
       "      <td>0.618073</td>\n",
       "      <td>0.985000</td>\n",
       "      <td>0.759316</td>\n",
       "      <td>0.667729</td>\n",
       "      <td>0.523310</td>\n",
       "      <td>0.520000</td>\n",
       "      <td>0.517009</td>\n",
       "      <td>0.519557</td>\n",
       "      <td>0.616667</td>\n",
       "      <td>0.055000</td>\n",
       "      <td>...</td>\n",
       "      <td>0.087124</td>\n",
       "      <td>0.077895</td>\n",
       "      <td>0.458460</td>\n",
       "      <td>0.049721</td>\n",
       "      <td>0.087039</td>\n",
       "      <td>0.159829</td>\n",
       "      <td>0.207126</td>\n",
       "      <td>0.031623</td>\n",
       "      <td>0.053580</td>\n",
       "      <td>0.093234</td>\n",
       "    </tr>\n",
       "    <tr>\n",
       "      <th>PHM C04 SS NBD</th>\n",
       "      <td>0.500000</td>\n",
       "      <td>1.000000</td>\n",
       "      <td>0.666667</td>\n",
       "      <td>0.555556</td>\n",
       "      <td>0.428557</td>\n",
       "      <td>0.335000</td>\n",
       "      <td>0.372231</td>\n",
       "      <td>0.402715</td>\n",
       "      <td>0.500000</td>\n",
       "      <td>0.985000</td>\n",
       "      <td>...</td>\n",
       "      <td>0.081352</td>\n",
       "      <td>0.074049</td>\n",
       "      <td>0.008547</td>\n",
       "      <td>0.024152</td>\n",
       "      <td>0.011985</td>\n",
       "      <td>0.009536</td>\n",
       "      <td>0.325660</td>\n",
       "      <td>0.074722</td>\n",
       "      <td>0.118463</td>\n",
       "      <td>0.187307</td>\n",
       "    </tr>\n",
       "    <tr>\n",
       "      <th>PHM C06 MS NBD</th>\n",
       "      <td>1.000000</td>\n",
       "      <td>0.525000</td>\n",
       "      <td>0.687607</td>\n",
       "      <td>0.845676</td>\n",
       "      <td>0.000000</td>\n",
       "      <td>0.000000</td>\n",
       "      <td>0.000000</td>\n",
       "      <td>0.000000</td>\n",
       "      <td>0.498650</td>\n",
       "      <td>0.980000</td>\n",
       "      <td>...</td>\n",
       "      <td>0.000000</td>\n",
       "      <td>0.000000</td>\n",
       "      <td>0.011389</td>\n",
       "      <td>0.034960</td>\n",
       "      <td>0.017262</td>\n",
       "      <td>0.013139</td>\n",
       "      <td>0.056491</td>\n",
       "      <td>0.137840</td>\n",
       "      <td>0.088240</td>\n",
       "      <td>0.066746</td>\n",
       "    </tr>\n",
       "    <tr>\n",
       "      <th>PHM C06 SS HBD</th>\n",
       "      <td>0.695953</td>\n",
       "      <td>0.345000</td>\n",
       "      <td>0.454989</td>\n",
       "      <td>0.569683</td>\n",
       "      <td>0.545588</td>\n",
       "      <td>0.545000</td>\n",
       "      <td>0.541534</td>\n",
       "      <td>0.543058</td>\n",
       "      <td>0.503914</td>\n",
       "      <td>0.975000</td>\n",
       "      <td>...</td>\n",
       "      <td>0.062778</td>\n",
       "      <td>0.058787</td>\n",
       "      <td>0.010711</td>\n",
       "      <td>0.026352</td>\n",
       "      <td>0.014024</td>\n",
       "      <td>0.011677</td>\n",
       "      <td>0.069229</td>\n",
       "      <td>0.102198</td>\n",
       "      <td>0.076381</td>\n",
       "      <td>0.067403</td>\n",
       "    </tr>\n",
       "    <tr>\n",
       "      <th>PHM C06 SS LBD</th>\n",
       "      <td>0.000000</td>\n",
       "      <td>0.000000</td>\n",
       "      <td>0.000000</td>\n",
       "      <td>0.000000</td>\n",
       "      <td>0.000000</td>\n",
       "      <td>0.000000</td>\n",
       "      <td>0.000000</td>\n",
       "      <td>0.000000</td>\n",
       "      <td>0.493522</td>\n",
       "      <td>0.960000</td>\n",
       "      <td>...</td>\n",
       "      <td>0.000000</td>\n",
       "      <td>0.000000</td>\n",
       "      <td>0.011029</td>\n",
       "      <td>0.031623</td>\n",
       "      <td>0.016181</td>\n",
       "      <td>0.012575</td>\n",
       "      <td>0.193003</td>\n",
       "      <td>0.036893</td>\n",
       "      <td>0.060543</td>\n",
       "      <td>0.099604</td>\n",
       "    </tr>\n",
       "    <tr>\n",
       "      <th>PHM C06 SS NBD</th>\n",
       "      <td>0.848142</td>\n",
       "      <td>0.995000</td>\n",
       "      <td>0.915289</td>\n",
       "      <td>0.873700</td>\n",
       "      <td>0.502954</td>\n",
       "      <td>0.450000</td>\n",
       "      <td>0.471450</td>\n",
       "      <td>0.488659</td>\n",
       "      <td>0.066667</td>\n",
       "      <td>0.010000</td>\n",
       "      <td>...</td>\n",
       "      <td>0.105887</td>\n",
       "      <td>0.100721</td>\n",
       "      <td>0.210819</td>\n",
       "      <td>0.031623</td>\n",
       "      <td>0.054996</td>\n",
       "      <td>0.098821</td>\n",
       "      <td>0.177259</td>\n",
       "      <td>0.083166</td>\n",
       "      <td>0.108803</td>\n",
       "      <td>0.137294</td>\n",
       "    </tr>\n",
       "    <tr>\n",
       "      <th>Simulated Dasic 2006</th>\n",
       "      <td>0.985045</td>\n",
       "      <td>0.771667</td>\n",
       "      <td>0.858042</td>\n",
       "      <td>0.927470</td>\n",
       "      <td>0.524362</td>\n",
       "      <td>0.503333</td>\n",
       "      <td>0.491085</td>\n",
       "      <td>0.502528</td>\n",
       "      <td>0.453914</td>\n",
       "      <td>0.666667</td>\n",
       "      <td>...</td>\n",
       "      <td>0.102882</td>\n",
       "      <td>0.098284</td>\n",
       "      <td>0.136757</td>\n",
       "      <td>0.027287</td>\n",
       "      <td>0.024736</td>\n",
       "      <td>0.038877</td>\n",
       "      <td>0.208888</td>\n",
       "      <td>0.054755</td>\n",
       "      <td>0.078953</td>\n",
       "      <td>0.115715</td>\n",
       "    </tr>\n",
       "  </tbody>\n",
       "</table>\n",
       "<p>13 rows × 32 columns</p>\n",
       "</div>"
      ],
      "text/plain": [
       "                         RF_Pr     RF_Rc     RF_F1    RF_F05    A2C_Pr  \\\n",
       "                          mean      mean      mean      mean      mean   \n",
       "environment_info                                                         \n",
       "PHM C01 MS NBD        0.000000  0.000000  0.000000  0.000000  0.489548   \n",
       "PHM C01 SS HBD        0.939417  0.675000  0.782742  0.868716  0.506589   \n",
       "PHM C01 SS LBD        0.909307  0.675000  0.772607  0.848399  0.000000   \n",
       "PHM C01 SS NBD        0.992857  0.570000  0.720351  0.860303  0.546543   \n",
       "PHM C04 MS NBD        0.777687  0.525000  0.621664  0.704391  0.495882   \n",
       "PHM C04 SS HBD        0.732020  0.925000  0.815640  0.763023  0.493257   \n",
       "PHM C04 SS LBD        0.618073  0.985000  0.759316  0.667729  0.523310   \n",
       "PHM C04 SS NBD        0.500000  1.000000  0.666667  0.555556  0.428557   \n",
       "PHM C06 MS NBD        1.000000  0.525000  0.687607  0.845676  0.000000   \n",
       "PHM C06 SS HBD        0.695953  0.345000  0.454989  0.569683  0.545588   \n",
       "PHM C06 SS LBD        0.000000  0.000000  0.000000  0.000000  0.000000   \n",
       "PHM C06 SS NBD        0.848142  0.995000  0.915289  0.873700  0.502954   \n",
       "Simulated Dasic 2006  0.985045  0.771667  0.858042  0.927470  0.524362   \n",
       "\n",
       "                        A2C_Rc    A2C_F1   A2C_F05    DQN_Pr    DQN_Rc  ...  \\\n",
       "                          mean      mean      mean      mean      mean  ...   \n",
       "environment_info                                                        ...   \n",
       "PHM C01 MS NBD        0.495000  0.490043  0.489209  0.400000  0.040000  ...   \n",
       "PHM C01 SS HBD        0.795000  0.617987  0.545842  0.266667  0.025000  ...   \n",
       "PHM C01 SS LBD        0.000000  0.000000  0.000000  0.769343  0.980000  ...   \n",
       "PHM C01 SS NBD        0.430000  0.475526  0.513566  0.225000  0.030000  ...   \n",
       "PHM C04 MS NBD        0.845000  0.624475  0.540334  0.498650  0.975000  ...   \n",
       "PHM C04 SS HBD        0.520000  0.504165  0.497099  0.501353  0.975000  ...   \n",
       "PHM C04 SS LBD        0.520000  0.517009  0.519557  0.616667  0.055000  ...   \n",
       "PHM C04 SS NBD        0.335000  0.372231  0.402715  0.500000  0.985000  ...   \n",
       "PHM C06 MS NBD        0.000000  0.000000  0.000000  0.498650  0.980000  ...   \n",
       "PHM C06 SS HBD        0.545000  0.541534  0.543058  0.503914  0.975000  ...   \n",
       "PHM C06 SS LBD        0.000000  0.000000  0.000000  0.493522  0.960000  ...   \n",
       "PHM C06 SS NBD        0.450000  0.471450  0.488659  0.066667  0.010000  ...   \n",
       "Simulated Dasic 2006  0.503333  0.491085  0.502528  0.453914  0.666667  ...   \n",
       "\n",
       "                     A2C_F1_sd A2C_F05_sd DQN_Pr_sd DQN_Rc_sd DQN_F1_sd  \\\n",
       "                          mean       mean      mean      mean      mean   \n",
       "environment_info                                                          \n",
       "PHM C01 MS NBD        0.127893   0.122916  0.438854  0.045947  0.080383   \n",
       "PHM C01 SS HBD        0.062370   0.053340  0.438854  0.042492  0.076038   \n",
       "PHM C01 SS LBD        0.000000   0.000000  0.028035  0.025820  0.022296   \n",
       "PHM C01 SS NBD        0.076350   0.080070  0.208055  0.025820  0.045323   \n",
       "PHM C04 MS NBD        0.030681   0.025620  0.014239  0.035355  0.020239   \n",
       "PHM C04 SS HBD        0.098753   0.087801  0.018237  0.042492  0.023877   \n",
       "PHM C04 SS LBD        0.087124   0.077895  0.458460  0.049721  0.087039   \n",
       "PHM C04 SS NBD        0.081352   0.074049  0.008547  0.024152  0.011985   \n",
       "PHM C06 MS NBD        0.000000   0.000000  0.011389  0.034960  0.017262   \n",
       "PHM C06 SS HBD        0.062778   0.058787  0.010711  0.026352  0.014024   \n",
       "PHM C06 SS LBD        0.000000   0.000000  0.011029  0.031623  0.016181   \n",
       "PHM C06 SS NBD        0.105887   0.100721  0.210819  0.031623  0.054996   \n",
       "Simulated Dasic 2006  0.102882   0.098284  0.136757  0.027287  0.024736   \n",
       "\n",
       "                     DQN_F05_sd PPO_Pr_sd PPO_Rc_sd PPO_F1_sd PPO_F05_sd  \n",
       "                           mean      mean      mean      mean       mean  \n",
       "environment_info                                                          \n",
       "PHM C01 MS NBD         0.147723  0.128513  0.091439  0.112413   0.126855  \n",
       "PHM C01 SS HBD         0.145879  0.149762  0.073786  0.096348   0.120821  \n",
       "PHM C01 SS LBD         0.025550  0.139466  0.106066  0.117633   0.128711  \n",
       "PHM C01 SS NBD         0.083817  0.083112  0.082496  0.079150   0.078769  \n",
       "PHM C04 MS NBD         0.016136  0.050125  0.103280  0.068401   0.056139  \n",
       "PHM C04 SS HBD         0.019941  0.184610  0.069921  0.100034   0.135782  \n",
       "PHM C04 SS LBD         0.159829  0.207126  0.031623  0.053580   0.093234  \n",
       "PHM C04 SS NBD         0.009536  0.325660  0.074722  0.118463   0.187307  \n",
       "PHM C06 MS NBD         0.013139  0.056491  0.137840  0.088240   0.066746  \n",
       "PHM C06 SS HBD         0.011677  0.069229  0.102198  0.076381   0.067403  \n",
       "PHM C06 SS LBD         0.012575  0.193003  0.036893  0.060543   0.099604  \n",
       "PHM C06 SS NBD         0.098821  0.177259  0.083166  0.108803   0.137294  \n",
       "Simulated Dasic 2006   0.038877  0.208888  0.054755  0.078953   0.115715  \n",
       "\n",
       "[13 rows x 32 columns]"
      ]
     },
     "execution_count": 15,
     "metadata": {},
     "output_type": "execute_result"
    }
   ],
   "source": [
    "algo_metrics"
   ]
  },
  {
   "cell_type": "markdown",
   "id": "cae250a6-3360-4972-8336-d98c5816f39f",
   "metadata": {},
   "source": [
    "- Compute over all avgs.\n",
    "- Simulated avgs.\n",
    "- PHM SS\n",
    "- PHM MS"
   ]
  },
  {
   "cell_type": "code",
   "execution_count": 16,
   "id": "9df4530f-00b0-449f-a08d-7c2b7ae24763",
   "metadata": {
    "tags": []
   },
   "outputs": [
    {
     "name": "stdout",
     "output_type": "stream",
     "text": [
      "['Simulated Dasic 2006' 'PHM C01 SS NBD' 'PHM C01 SS LBD' 'PHM C01 SS HBD'\n",
      " 'PHM C04 SS NBD' 'PHM C04 SS LBD' 'PHM C04 SS HBD' 'PHM C06 SS NBD'\n",
      " 'PHM C06 SS LBD' 'PHM C06 SS HBD' 'PHM C01 MS NBD' 'PHM C04 MS NBD'\n",
      " 'PHM C06 MS NBD']\n"
     ]
    }
   ],
   "source": [
    "# Get environment names\n",
    "envs = df_report.environment_info.unique()\n",
    "print(envs)"
   ]
  },
  {
   "cell_type": "code",
   "execution_count": 17,
   "id": "2decbd6f-c0b7-4438-b752-20f20a377d80",
   "metadata": {},
   "outputs": [],
   "source": []
  },
  {
   "cell_type": "code",
   "execution_count": 2,
   "id": "64e95d73-0a00-4224-b946-3d1531062747",
   "metadata": {},
   "outputs": [
    {
     "name": "stdout",
     "output_type": "stream",
     "text": [
      "['./results/MultiRound\\\\Experiment_Results_0_14.csv', './results/MultiRound\\\\Experiment_Results_1_14.csv', './results/MultiRound\\\\Experiment_Results_2_14.csv', './results/MultiRound\\\\Experiment_Results_3_14.csv', './results/MultiRound\\\\Experiment_Results_4_14.csv']\n"
     ]
    }
   ],
   "source": [
    "import glob\n",
    "import pandas as pd\n",
    "\n",
    "# For multi-training round - stability test experiments \n",
    "PATH = './results/MultiRound' \n",
    "EXPT_REPORTS = f'{PATH}/Experiment_Results_*.csv'\n",
    "CONCAT_REPORT = f'{PATH}/Concat_Experiments.csv'\n",
    "CONSOLIDATED_PERFORMANCE_REPORT = f'{PATH}/Consolidated_Experiments_Summary.csv'\n",
    "\n",
    "report_files = glob.glob(EXPT_REPORTS) \n",
    "print(report_files)\n",
    "\n",
    "df_report = pd.concat((pd.read_csv(f, header = 0) for f in report_files))\n",
    "df_report.to_csv(CONCAT_REPORT)\n",
    "\n",
    "def compute_aggregated_metrics(df):\n",
    "    metrics = df.groupby(['environment_info']).agg(\n",
    "        {'RF_Pr': ['mean'], 'RF_Rc': ['mean'],'RF_F1': ['mean'], 'RF_F05': ['mean'],\n",
    "         'A2C_Pr': ['mean'], 'A2C_Rc': ['mean'],'A2C_F1': ['mean'], 'A2C_F05': ['mean'],\n",
    "         'DQN_Pr': ['mean'], 'DQN_Rc': ['mean'],'DQN_F1': ['mean'], 'DQN_F05': ['mean'],\n",
    "         'PPO_Pr': ['mean'], 'PPO_Rc': ['mean'],'PPO_F1': ['mean'], 'PPO_F05': ['mean'],\n",
    "         \n",
    "         'RF_Pr_sd': ['mean'], 'RF_Rc_sd': ['mean'],'RF_F1_sd': ['mean'], 'RF_F05_sd': ['mean'],\n",
    "         'A2C_Pr_sd': ['mean'], 'A2C_Rc_sd': ['mean'],'A2C_F1_sd': ['mean'], 'A2C_F05_sd': ['mean'],\n",
    "         'DQN_Pr_sd': ['mean'], 'DQN_Rc_sd': ['mean'],'DQN_F1_sd': ['mean'], 'DQN_F05_sd': ['mean'],\n",
    "         'PPO_Pr_sd': ['mean'], 'PPO_Rc_sd': ['mean'],'PPO_F1_sd': ['mean'], 'PPO_F05_sd': ['mean']\n",
    "        \n",
    "        })\n",
    "    return(metrics)\n",
    "\n",
    "algo_metrics = compute_aggregated_metrics(df_report)\n",
    "algo_metrics.to_csv(CONSOLIDATED_PERFORMANCE_REPORT)\n",
    "\n",
    "envs = df_report.environment_info.unique()\n",
    "\n",
    "overall = envs[0:]\n",
    "simulated_envs = envs[0:3]\n",
    "phm_ss_envs = envs[3:12]\n",
    "phm_ms_envs = envs[12:]\n",
    "\n",
    "overall_metrics = algo_metrics.loc[overall]\n",
    "overall_means = overall_metrics.mean()\n",
    "overall_means = overall_means.sort_index(ascending=True)\n",
    "file = f'{PATH}/overall_means.csv'\n",
    "overall_means.to_csv(file)\n",
    "\n",
    "simulated_metrics = algo_metrics.loc[simulated_envs]\n",
    "simulated_means = simulated_metrics.mean()\n",
    "simulated_means = simulated_means.sort_index(ascending=True)\n",
    "file = f'{PATH}/simulated_means.csv'\n",
    "simulated_means.to_csv(file)\n",
    "\n",
    "phm_ss_metrics = algo_metrics.loc[phm_ss_envs]\n",
    "phm_ss_means = phm_ss_metrics.mean()\n",
    "phm_ss_means = phm_ss_means.sort_index(ascending=True)\n",
    "file = f'{PATH}/phm_ss_means.csv'\n",
    "phm_ss_means.to_csv(file)\n",
    "\n",
    "phm_ms_metrics = algo_metrics.loc[phm_ms_envs]\n",
    "phm_ms_means = phm_ms_metrics.mean()\n",
    "phm_ms_means = phm_ms_means.sort_index(ascending=True)\n",
    "file = f'{PATH}/phm_ms_means.csv'\n",
    "phm_ms_means.to_csv(file)"
   ]
  },
  {
   "cell_type": "code",
   "execution_count": null,
   "id": "fe3472c6-9bf8-4120-bbc0-cc3b02e06d35",
   "metadata": {},
   "outputs": [],
   "source": []
  }
 ],
 "metadata": {
  "kernelspec": {
   "display_name": "RL",
   "language": "python",
   "name": "rl"
  },
  "language_info": {
   "codemirror_mode": {
    "name": "ipython",
    "version": 3
   },
   "file_extension": ".py",
   "mimetype": "text/x-python",
   "name": "python",
   "nbconvert_exporter": "python",
   "pygments_lexer": "ipython3",
   "version": "3.9.1"
  }
 },
 "nbformat": 4,
 "nbformat_minor": 5
}
