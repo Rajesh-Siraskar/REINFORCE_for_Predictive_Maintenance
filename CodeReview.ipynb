{
 "cells": [
  {
   "cell_type": "markdown",
   "id": "b3c15c68-04b6-4591-9e1d-9c232b135cc0",
   "metadata": {
    "tags": []
   },
   "source": [
    "## CODE REVIEW \n",
    "#### Milling Tool Wear Maintenance Policy using the REINFORCE algorithm"
   ]
  },
  {
   "cell_type": "code",
   "execution_count": 19,
   "id": "8cbcfb2b-0165-444c-9b9c-b49afa4dff06",
   "metadata": {
    "tags": []
   },
   "outputs": [],
   "source": [
    "import numpy as np\n",
    "import pandas as pd\n",
    "import stable_baselines3 as sb3\n",
    "from stable_baselines3.common.vec_env import DummyVecEnv\n",
    "from stable_baselines3 import A2C, PPO, DQN\n",
    "\n",
    "from milling_tool_environment import MillingTool_SS_NT\n",
    "from utilities import compute_metrics, compute_metrics_simple, test_script, write_test_results, downsample\n",
    "from reinforce_classes import PolicyNetwork, Agent"
   ]
  },
  {
   "cell_type": "code",
   "execution_count": 5,
   "id": "7e89f986-2004-4d4b-954a-8cf5336771c6",
   "metadata": {
    "tags": []
   },
   "outputs": [
    {
     "name": "stdout",
     "output_type": "stream",
     "text": [
      "expt_n                                                                    0\n",
      "environment                                                              SS\n",
      "environment_info                                       Simulated Dasic 2006\n",
      "data_file                 data\\Simulated_Dasic_2006_Tool_Wear_Model_Trai...\n",
      "Model_name                                         RF_Model_Dasic_NoNBD.mdl\n",
      "environment.1                                                            SS\n",
      "R1                                                                        1\n",
      "R2                                                                       -1\n",
      "R3                                                                     -100\n",
      "wear_threshold                                                          3.0\n",
      "threshold_factor                                                        1.0\n",
      "add_noise                                                                 0\n",
      "breakdown_chance                                                        0.0\n",
      "episodes                                                                800\n",
      "milling_operations_max                                                  121\n",
      "version_prefix                                                        Dasic\n",
      "test_info                                                Separate test set.\n",
      "test_cases                                                               40\n",
      "test_rounds                                                               5\n",
      "results_folder                                         results/TrainingTime\n",
      "test_file                 data\\Simulated_Dasic_2006_Tool_Wear_Model_Test...\n",
      "train_sample_rate                                                         1\n",
      "test_sample_rate                                                          2\n",
      "Name: 0, dtype: object\n"
     ]
    }
   ],
   "source": [
    "df_expts = pd.read_csv('Experiments.csv')\n",
    "n_expts = len(df_expts.index)\n",
    "n_expt = 0\n",
    "experiment_summary = []\n",
    "print(df_expts.iloc[0])"
   ]
  },
  {
   "cell_type": "code",
   "execution_count": 6,
   "id": "5d4ae223-4b58-4971-8a87-7a8403761b41",
   "metadata": {
    "tags": []
   },
   "outputs": [
    {
     "name": "stdout",
     "output_type": "stream",
     "text": [
      "Episodes: 800 x 121\n"
     ]
    }
   ],
   "source": [
    "# Load experiment parameters\n",
    "ENVIRONMENT_CLASS = df_expts['environment'][n_expt]\n",
    "DATA_FILE = df_expts['data_file'][n_expt]\n",
    "R1 = df_expts['R1'][n_expt]\n",
    "R2 = df_expts['R2'][n_expt]\n",
    "R3 = df_expts['R3'][n_expt]\n",
    "WEAR_THRESHOLD = df_expts['wear_threshold'][n_expt]\n",
    "THRESHOLD_FACTOR = df_expts['threshold_factor'][n_expt]\n",
    "ADD_NOISE = df_expts['add_noise'][n_expt]\n",
    "BREAKDOWN_CHANCE = df_expts['breakdown_chance'][n_expt]\n",
    "EPISODES = df_expts['episodes'][n_expt]\n",
    "MILLING_OPERATIONS_MAX = df_expts['milling_operations_max'][n_expt]\n",
    "TEST_CASES = df_expts['test_cases'][n_expt]\n",
    "TEST_ROUNDS = df_expts['test_rounds'][n_expt]\n",
    "\n",
    "RESULTS_FOLDER = df_expts['results_folder'][n_expt]\n",
    "TEST_FILE = df_expts['test_file'][n_expt]\n",
    "TRAIN_SR = df_expts['train_sample_rate'][n_expt]\n",
    "TEST_SR = df_expts['test_sample_rate'][n_expt]\n",
    "\n",
    "METRICS_METHOD = 'binary'\n",
    "WEAR_THRESHOLD_NORMALIZED = 0.0\n",
    "\n",
    "# EPISODES=20\n",
    "# MILLING_OPERATIONS_MAX=10\n",
    "\n",
    "print(f'Episodes: {EPISODES} x {MILLING_OPERATIONS_MAX}')"
   ]
  },
  {
   "cell_type": "markdown",
   "id": "ecb50230-6d28-43c4-a277-c495c65e8a07",
   "metadata": {
    "tags": []
   },
   "source": [
    "### Read tool wear data"
   ]
  },
  {
   "cell_type": "code",
   "execution_count": 7,
   "id": "555269d5-184a-432b-9775-b8adca7268d0",
   "metadata": {
    "tags": []
   },
   "outputs": [
    {
     "name": "stdout",
     "output_type": "stream",
     "text": [
      "- Tool wear data imported (121 records).\n",
      "- Down-sampling. Input data records: 121. Sampling rate: 1. Expected rows 121. Down-sampled to 121 rows.\n",
      "- Down-sampling. Input data records: 121. Sampling rate: 2. Expected rows 60. Down-sampled to 61 rows.\n",
      "- Tool wear data split into train (121 records) and test (61 records).\n"
     ]
    }
   ],
   "source": [
    "df = pd.read_csv(DATA_FILE)\n",
    "n_records = len(df.index)\n",
    "\n",
    "df['ACTION_CODE'] = np.where(df['tool_wear'] < WEAR_THRESHOLD, 0.0, 1.0)\n",
    "\n",
    "# 3. Normalize\n",
    "WEAR_MIN = df['tool_wear'].min()\n",
    "WEAR_MAX = df['tool_wear'].max()\n",
    "WEAR_THRESHOLD_ORG_NORMALIZED = (WEAR_THRESHOLD-WEAR_MIN)/(WEAR_MAX-WEAR_MIN)\n",
    "WEAR_THRESHOLD_NORMALIZED = THRESHOLD_FACTOR*(WEAR_THRESHOLD-WEAR_MIN)/(WEAR_MAX-WEAR_MIN)\n",
    "df_normalized = (df-df.min())/(df.max()-df.min())\n",
    "df_normalized['ACTION_CODE'] = df['ACTION_CODE']\n",
    "print(f'- Tool wear data imported ({len(df.index)} records).')\n",
    "\n",
    "# 4. Split into train and test\n",
    "df_train = downsample(df_normalized, TRAIN_SR)\n",
    "df_train.to_csv('TempTrain.csv')\n",
    "df_train = pd.read_csv('TempTrain.csv')\n",
    "\n",
    "df_test = downsample(df_normalized, TEST_SR)\n",
    "df_test.to_csv('TempTest.csv')\n",
    "df_test = pd.read_csv('TempTest.csv')\n",
    "print(f'- Tool wear data split into train ({len(df_train.index)} records) and test ({len(df_test.index)} records).')"
   ]
  },
  {
   "cell_type": "code",
   "execution_count": 8,
   "id": "3a25b6a9-8e08-4045-880b-313b04ff15de",
   "metadata": {
    "tags": []
   },
   "outputs": [
    {
     "name": "stdout",
     "output_type": "stream",
     "text": [
      "** -- Single-variate env. Terminate on (1) tool breakdown (2) data-end (3) milling operations end.  R1: 1, R2: -1, R3: -100. Noise: 0. Break-down chance: 0.0 -- **\n",
      "** -- Single-variate env. Terminate on (1) tool breakdown (2) data-end (3) milling operations end.  R1: 1, R2: -1, R3: -100. Noise: 0. Break-down chance: 0.0 -- **\n"
     ]
    }
   ],
   "source": [
    "env = MillingTool_SS_NT(df_train, WEAR_THRESHOLD_NORMALIZED, MILLING_OPERATIONS_MAX, ADD_NOISE, BREAKDOWN_CHANCE, R1, R2, R3)\n",
    "env_test = MillingTool_SS_NT(df_test, WEAR_THRESHOLD_NORMALIZED, MILLING_OPERATIONS_MAX, ADD_NOISE, BREAKDOWN_CHANCE, R1, R2, R3)"
   ]
  },
  {
   "cell_type": "markdown",
   "id": "1615d7ad-5984-44b1-8c73-1b62482987d6",
   "metadata": {},
   "source": [
    "### Train REINFORCE"
   ]
  },
  {
   "cell_type": "code",
   "execution_count": 11,
   "id": "431b5d8e-f548-412f-89e9-85f632e3fdf6",
   "metadata": {
    "tags": []
   },
   "outputs": [
    {
     "name": "stdout",
     "output_type": "stream",
     "text": [
      "[0000] Loss:  -6.60e+01 | Reward:  -1.10e+00 | Ep.length: 0348\n",
      "[0100] Loss:   3.96e+00 | Reward:   2.30e+00 | Ep.length: 0348\n",
      "[0200] Loss:   4.82e+00 | Reward:   3.27e+00 | Ep.length: 0348\n",
      "[0300] Loss:   8.80e+00 | Reward:   4.70e+00 | Ep.length: 0348\n",
      "[0400] Loss:   7.38e+00 | Reward:   4.16e+00 | Ep.length: 0348\n",
      "[0500] Loss:   9.55e+00 | Reward:   3.92e+00 | Ep.length: 0348\n",
      "[0600] Loss:   5.79e+00 | Reward:   4.54e+00 | Ep.length: 0348\n",
      "[0700] Loss:   3.66e+00 | Reward:   3.46e+00 | Ep.length: 0348\n"
     ]
    }
   ],
   "source": [
    "# Policy network learning parameters\n",
    "gamma = 0.99\n",
    "alpha = 0.01\n",
    "\n",
    "rewards_history = []\n",
    "loss_history = []\n",
    "\n",
    "input_dim = env.observation_space.shape[0]\n",
    "output_dim = env.action_space.n\n",
    "\n",
    "agent_RF = Agent(input_dim, output_dim, alpha, gamma)\n",
    "\n",
    "for episode in range(EPISODES):\n",
    "    state = env.reset()\n",
    "\n",
    "    # Sample a trajectory\n",
    "    for t in range(MILLING_OPERATIONS_MAX): # Max. milling operations desired\n",
    "        action = agent_RF.act(state)\n",
    "        state, reward, done, info = env.step(action)\n",
    "        agent_RF.rewards.append(reward)\n",
    "        if done:\n",
    "            break\n",
    "\n",
    "    # Learn during this episode\n",
    "    loss = agent_RF.learn() # train per episode\n",
    "    total_reward = sum(agent_RF.rewards)\n",
    "\n",
    "    # Record statistics for this episode\n",
    "    rewards_history.append(total_reward)\n",
    "    loss_history.append(loss.item()) # Extract values from list of torch items for plotting\n",
    "\n",
    "    # On-policy - so discard all data\n",
    "    agent_RF.onpolicy_reset()\n",
    "\n",
    "    if (episode%100 == 0):\n",
    "        # print(f'[{episode:04d}] Loss: {loss:>10.2f} | Reward: {total_reward:>10.2f} | Ep.length: {env.ep_length:04d}')\n",
    "        print(f'[{episode:04d}] Loss: {loss:>10.2e} | Reward: {total_reward:>10.2e} | Ep.length: {env.ep_length:04d}')"
   ]
  },
  {
   "cell_type": "markdown",
   "id": "6906af9b-22b7-4519-bcc4-78f2b1a7e372",
   "metadata": {},
   "source": [
    "### Test"
   ]
  },
  {
   "cell_type": "code",
   "execution_count": 9,
   "id": "00602ddb-0348-402e-9c83-a49f1aaf2270",
   "metadata": {
    "tags": []
   },
   "outputs": [
    {
     "ename": "NameError",
     "evalue": "name 'agent_RF' is not defined",
     "output_type": "error",
     "traceback": [
      "\u001b[1;31m---------------------------------------------------------------------------\u001b[0m",
      "\u001b[1;31mNameError\u001b[0m                                 Traceback (most recent call last)",
      "Cell \u001b[1;32mIn[9], line 11\u001b[0m\n\u001b[0;32m      8\u001b[0m idx_normal_cases \u001b[38;5;241m=\u001b[39m np\u001b[38;5;241m.\u001b[39mrandom\u001b[38;5;241m.\u001b[39mchoice(idx_normal_cases, \u001b[38;5;28mint\u001b[39m(TEST_CASES\u001b[38;5;241m/\u001b[39m\u001b[38;5;241m2\u001b[39m), replace\u001b[38;5;241m=\u001b[39m\u001b[38;5;28;01mFalse\u001b[39;00m)\n\u001b[0;32m      9\u001b[0m test_cases \u001b[38;5;241m=\u001b[39m [\u001b[38;5;241m*\u001b[39midx_normal_cases, \u001b[38;5;241m*\u001b[39midx_replace_cases]\n\u001b[1;32m---> 11\u001b[0m results \u001b[38;5;241m=\u001b[39m test_script(METRICS_METHOD, \u001b[38;5;241m1\u001b[39m, df_test, \u001b[38;5;124m'\u001b[39m\u001b[38;5;124mREINFORCE\u001b[39m\u001b[38;5;124m'\u001b[39m, EPISODES, env_test, \u001b[38;5;124m'\u001b[39m\u001b[38;5;124mENVIRONMENT_INFO\u001b[39m\u001b[38;5;124m'\u001b[39m, \u001b[43magent_RF\u001b[49m,\n\u001b[0;32m     12\u001b[0m                       test_cases, \u001b[38;5;124m'\u001b[39m\u001b[38;5;124mTEST_INFO\u001b[39m\u001b[38;5;124m'\u001b[39m, DATA_FILE, WEAR_THRESHOLD, \u001b[38;5;124m'\u001b[39m\u001b[38;5;124mRESULTS_FILE.csv\u001b[39m\u001b[38;5;124m'\u001b[39m)\n\u001b[0;32m     13\u001b[0m avg_Pr, avg_Rc, avg_F1 \u001b[38;5;241m=\u001b[39m results[\u001b[38;5;241m14\u001b[39m:\u001b[38;5;241m17\u001b[39m]\n\u001b[0;32m     14\u001b[0m \u001b[38;5;28mprint\u001b[39m(\u001b[38;5;124mf\u001b[39m\u001b[38;5;124m'\u001b[39m\u001b[38;5;124m- RF:  Pr: \u001b[39m\u001b[38;5;132;01m{\u001b[39;00mavg_Pr\u001b[38;5;132;01m:\u001b[39;00m\u001b[38;5;124m0.3f\u001b[39m\u001b[38;5;132;01m}\u001b[39;00m\u001b[38;5;124m \u001b[39m\u001b[38;5;130;01m\\t\u001b[39;00m\u001b[38;5;124m Rc: \u001b[39m\u001b[38;5;132;01m{\u001b[39;00mavg_Rc\u001b[38;5;132;01m:\u001b[39;00m\u001b[38;5;124m0.3f\u001b[39m\u001b[38;5;132;01m}\u001b[39;00m\u001b[38;5;124m \u001b[39m\u001b[38;5;130;01m\\t\u001b[39;00m\u001b[38;5;124m F1:\u001b[39m\u001b[38;5;132;01m{\u001b[39;00mavg_F1\u001b[38;5;132;01m:\u001b[39;00m\u001b[38;5;124m0.3f\u001b[39m\u001b[38;5;132;01m}\u001b[39;00m\u001b[38;5;124m'\u001b[39m)\n",
      "\u001b[1;31mNameError\u001b[0m: name 'agent_RF' is not defined"
     ]
    }
   ],
   "source": [
    "idx_replace_cases = df_test.index[df_test['ACTION_CODE'] >= 1.0]\n",
    "idx_normal_cases = df_test.index[df_test['ACTION_CODE'] < 1.0]\n",
    "\n",
    "avg_Pr = avg_Rc = avg_F1 = 0.0\n",
    "\n",
    "# Create test cases\n",
    "idx_replace_cases = np.random.choice(idx_replace_cases, int(TEST_CASES/2), replace=False)\n",
    "idx_normal_cases = np.random.choice(idx_normal_cases, int(TEST_CASES/2), replace=False)\n",
    "test_cases = [*idx_normal_cases, *idx_replace_cases]\n",
    "\n",
    "results = test_script(METRICS_METHOD, 1, df_test, 'REINFORCE', EPISODES, env_test, 'ENVIRONMENT_INFO', agent_RF,\n",
    "                      test_cases, 'TEST_INFO', DATA_FILE, WEAR_THRESHOLD, 'RESULTS_FILE.csv')\n",
    "avg_Pr, avg_Rc, avg_F1 = results[14:17]\n",
    "print(f'- RF:  Pr: {avg_Pr:0.3f} \\t Rc: {avg_Rc:0.3f} \\t F1:{avg_F1:0.3f}')"
   ]
  },
  {
   "cell_type": "markdown",
   "id": "611faf91-7126-4cc7-a346-eeb06ba0f64a",
   "metadata": {},
   "source": [
    "### Stable-Baselines Algorithms"
   ]
  },
  {
   "cell_type": "markdown",
   "id": "b704a199-18cd-4e7c-8e38-536db07aa166",
   "metadata": {},
   "source": [
    "## Network architectures for Stable-Baselines Algorithms"
   ]
  },
  {
   "cell_type": "code",
   "execution_count": null,
   "id": "4ce66d80-5a3f-4829-9a2d-5570df0d5730",
   "metadata": {},
   "outputs": [],
   "source": [
    "env = MillingTool_SS_NT(df_train, WEAR_THRESHOLD_NORMALIZED, MILLING_OPERATIONS_MAX, ADD_NOISE, BREAKDOWN_CHANCE, R1, R2, R3)"
   ]
  },
  {
   "cell_type": "code",
   "execution_count": 24,
   "id": "e43fe902-6819-4922-809d-c126fd7c9121",
   "metadata": {
    "tags": []
   },
   "outputs": [
    {
     "name": "stdout",
     "output_type": "stream",
     "text": [
      "------------------------------------------------------------------------------------------------------------------------\n",
      "ActorCriticPolicy(\n",
      "  (features_extractor): FlattenExtractor(\n",
      "    (flatten): Flatten(start_dim=1, end_dim=-1)\n",
      "  )\n",
      "  (pi_features_extractor): FlattenExtractor(\n",
      "    (flatten): Flatten(start_dim=1, end_dim=-1)\n",
      "  )\n",
      "  (vf_features_extractor): FlattenExtractor(\n",
      "    (flatten): Flatten(start_dim=1, end_dim=-1)\n",
      "  )\n",
      "  (mlp_extractor): MlpExtractor(\n",
      "    (shared_net): Sequential()\n",
      "    (policy_net): Sequential(\n",
      "      (0): Linear(in_features=2, out_features=64, bias=True)\n",
      "      (1): Tanh()\n",
      "      (2): Linear(in_features=64, out_features=64, bias=True)\n",
      "      (3): Tanh()\n",
      "    )\n",
      "    (value_net): Sequential(\n",
      "      (0): Linear(in_features=2, out_features=64, bias=True)\n",
      "      (1): Tanh()\n",
      "      (2): Linear(in_features=64, out_features=64, bias=True)\n",
      "      (3): Tanh()\n",
      "    )\n",
      "  )\n",
      "  (action_net): Linear(in_features=64, out_features=2, bias=True)\n",
      "  (value_net): Linear(in_features=64, out_features=1, bias=True)\n",
      ")\n",
      "------------------------------------------------------------------------------------------------------------------------\n",
      "DQNPolicy(\n",
      "  (q_net): QNetwork(\n",
      "    (features_extractor): FlattenExtractor(\n",
      "      (flatten): Flatten(start_dim=1, end_dim=-1)\n",
      "    )\n",
      "    (q_net): Sequential(\n",
      "      (0): Linear(in_features=2, out_features=64, bias=True)\n",
      "      (1): ReLU()\n",
      "      (2): Linear(in_features=64, out_features=64, bias=True)\n",
      "      (3): ReLU()\n",
      "      (4): Linear(in_features=64, out_features=2, bias=True)\n",
      "    )\n",
      "  )\n",
      "  (q_net_target): QNetwork(\n",
      "    (features_extractor): FlattenExtractor(\n",
      "      (flatten): Flatten(start_dim=1, end_dim=-1)\n",
      "    )\n",
      "    (q_net): Sequential(\n",
      "      (0): Linear(in_features=2, out_features=64, bias=True)\n",
      "      (1): ReLU()\n",
      "      (2): Linear(in_features=64, out_features=64, bias=True)\n",
      "      (3): ReLU()\n",
      "      (4): Linear(in_features=64, out_features=2, bias=True)\n",
      "    )\n",
      "  )\n",
      ")\n",
      "------------------------------------------------------------------------------------------------------------------------\n",
      "ActorCriticPolicy(\n",
      "  (features_extractor): FlattenExtractor(\n",
      "    (flatten): Flatten(start_dim=1, end_dim=-1)\n",
      "  )\n",
      "  (pi_features_extractor): FlattenExtractor(\n",
      "    (flatten): Flatten(start_dim=1, end_dim=-1)\n",
      "  )\n",
      "  (vf_features_extractor): FlattenExtractor(\n",
      "    (flatten): Flatten(start_dim=1, end_dim=-1)\n",
      "  )\n",
      "  (mlp_extractor): MlpExtractor(\n",
      "    (shared_net): Sequential()\n",
      "    (policy_net): Sequential(\n",
      "      (0): Linear(in_features=2, out_features=64, bias=True)\n",
      "      (1): Tanh()\n",
      "      (2): Linear(in_features=64, out_features=64, bias=True)\n",
      "      (3): Tanh()\n",
      "    )\n",
      "    (value_net): Sequential(\n",
      "      (0): Linear(in_features=2, out_features=64, bias=True)\n",
      "      (1): Tanh()\n",
      "      (2): Linear(in_features=64, out_features=64, bias=True)\n",
      "      (3): Tanh()\n",
      "    )\n",
      "  )\n",
      "  (action_net): Linear(in_features=64, out_features=2, bias=True)\n",
      "  (value_net): Linear(in_features=64, out_features=1, bias=True)\n",
      ")\n"
     ]
    }
   ],
   "source": [
    "agent_SB = A2C('MlpPolicy', env)\n",
    "print(120*'-')\n",
    "print(agent_SB.policy)\n",
    "\n",
    "print(120*'-')\n",
    "agent_SB = DQN('MlpPolicy', env)\n",
    "print(agent_SB.policy)\n",
    "\n",
    "print(120*'-')\n",
    "agent_SB = PPO('MlpPolicy', env)\n",
    "print(agent_SB.policy)"
   ]
  },
  {
   "cell_type": "code",
   "execution_count": 20,
   "id": "0c412301-f7b2-42bf-921a-7553b0655623",
   "metadata": {
    "tags": []
   },
   "outputs": [
    {
     "ename": "AttributeError",
     "evalue": "type object 'ActorCriticPolicy' has no attribute 'net_arch'",
     "output_type": "error",
     "traceback": [
      "\u001b[1;31m---------------------------------------------------------------------------\u001b[0m",
      "\u001b[1;31mAttributeError\u001b[0m                            Traceback (most recent call last)",
      "Cell \u001b[1;32mIn[20], line 1\u001b[0m\n\u001b[1;32m----> 1\u001b[0m \u001b[43msb3\u001b[49m\u001b[38;5;241;43m.\u001b[39;49m\u001b[43mcommon\u001b[49m\u001b[38;5;241;43m.\u001b[39;49m\u001b[43mpolicies\u001b[49m\u001b[38;5;241;43m.\u001b[39;49m\u001b[43mActorCriticPolicy\u001b[49m\u001b[38;5;241;43m.\u001b[39;49m\u001b[43mnet_arch\u001b[49m\n",
      "\u001b[1;31mAttributeError\u001b[0m: type object 'ActorCriticPolicy' has no attribute 'net_arch'"
     ]
    }
   ],
   "source": [
    "sb3.common.policies.ActorCriticPolicy.net_arch"
   ]
  },
  {
   "cell_type": "code",
   "execution_count": null,
   "id": "e5622ce9-0920-4c0b-8d2d-44fabb75cddf",
   "metadata": {},
   "outputs": [],
   "source": []
  },
  {
   "cell_type": "code",
   "execution_count": null,
   "id": "636867e1-3bc1-43d0-9be5-2747ab20dca9",
   "metadata": {},
   "outputs": [],
   "source": []
  },
  {
   "cell_type": "code",
   "execution_count": null,
   "id": "1dfd6df7-9d95-43ad-a800-57d3d88b1345",
   "metadata": {},
   "outputs": [],
   "source": []
  },
  {
   "cell_type": "code",
   "execution_count": 13,
   "id": "5f6a0961-c43d-48f7-b404-1b0a14d4053c",
   "metadata": {
    "tags": []
   },
   "outputs": [
    {
     "name": "stdout",
     "output_type": "stream",
     "text": [
      "** -- Single-variate env. Terminate on (1) tool breakdown (2) data-end (3) milling operations end.  R1: 1, R2: -2, R3: -40. Noise: 0. Break-down chance: 0.0 -- **\n",
      "- A2C: Pr: 0.583 \t Rc: 0.700 \t F1:0.603\n"
     ]
    }
   ],
   "source": [
    "env = MillingTool_SS_NT(df_train, WEAR_THRESHOLD_NORMALIZED, MILLING_OPERATIONS_MAX, ADD_NOISE, BREAKDOWN_CHANCE, R1, R2, R3)\n",
    "agent_SB = A2C('MlpPolicy', env, tensorboard_log=\"./tensorboard/\")\n",
    "\n",
    "agent_SB.learn(total_timesteps=10_000)\n",
    "\n",
    "# METRICS_METHOD None, 'micro', 'macro', 'weighted', 'samples')\n",
    "results = test_script(METRICS_METHOD, 1, df_test, 'A2C', EPISODES, env_test, 'ENVIRONMENT_INFO', agent_SB, test_cases, 'TEST_INFO', DATA_FILE, WEAR_THRESHOLD, 'RESULTS_FILE.csv')\n",
    "avg_Pr, avg_Rc, avg_F1 = results[14:17]\n",
    "print(f'- A2C: Pr: {avg_Pr:0.3f} \\t Rc: {avg_Rc:0.3f} \\t F1:{avg_F1:0.3f}')"
   ]
  },
  {
   "cell_type": "code",
   "execution_count": 14,
   "id": "7e6c47c9-f3d4-4847-a47b-4db3cc4adc18",
   "metadata": {
    "tags": []
   },
   "outputs": [
    {
     "name": "stdout",
     "output_type": "stream",
     "text": [
      "** -- Single-variate env. Terminate on (1) tool breakdown (2) data-end (3) milling operations end.  R1: 1, R2: -2, R3: -40. Noise: 0. Break-down chance: 0.0 -- **\n",
      "- DQN: Pr: 0.000 \t Rc: 0.000 \t F1:0.000\n"
     ]
    }
   ],
   "source": [
    "env = MillingTool_SS_NT(df_train, WEAR_THRESHOLD_NORMALIZED, MILLING_OPERATIONS_MAX, ADD_NOISE, BREAKDOWN_CHANCE, R1, R2, R3)\n",
    "agent_SB = DQN('MlpPolicy', env, tensorboard_log=\"./tensorboard/\")\n",
    "agent_SB.learn(total_timesteps=10_000)\n",
    "\n",
    "results = test_script(METRICS_METHOD, 1, df_test, 'DQN', EPISODES, env_test, 'ENVIRONMENT_INFO', agent_SB, test_cases, 'TEST_INFO', DATA_FILE, WEAR_THRESHOLD, 'RESULTS_FILE.csv')\n",
    "avg_Pr, avg_Rc, avg_F1 = results[14:17]\n",
    "print(f'- DQN: Pr: {avg_Pr:0.3f} \\t Rc: {avg_Rc:0.3f} \\t F1:{avg_F1:0.3f}')"
   ]
  },
  {
   "cell_type": "code",
   "execution_count": 15,
   "id": "3b22808b-e558-4635-b2f9-a232d6537cbc",
   "metadata": {
    "tags": []
   },
   "outputs": [
    {
     "name": "stdout",
     "output_type": "stream",
     "text": [
      "** -- Single-variate env. Terminate on (1) tool breakdown (2) data-end (3) milling operations end.  R1: 1, R2: -2, R3: -40. Noise: 0. Break-down chance: 0.0 -- **\n",
      "- PPO: Pr: 0.565 \t Rc: 0.650 \t F1:0.580\n"
     ]
    }
   ],
   "source": [
    "env = MillingTool_SS_NT(df_train, WEAR_THRESHOLD_NORMALIZED, MILLING_OPERATIONS_MAX, ADD_NOISE, BREAKDOWN_CHANCE, R1, R2, R3)\n",
    "agent_SB = PPO('MlpPolicy', env, tensorboard_log=\"./tensorboard/\")\n",
    "agent_SB.learn(total_timesteps=10_000)\n",
    "\n",
    "results = test_script(METRICS_METHOD, 1, df_test, 'PPO', EPISODES, env_test, 'ENVIRONMENT_INFO', agent_SB, test_cases, 'TEST_INFO', DATA_FILE, WEAR_THRESHOLD, 'RESULTS_FILE.csv')\n",
    "avg_Pr, avg_Rc, avg_F1 = results[14:17]\n",
    "print(f'- PPO: Pr: {avg_Pr:0.3f} \\t Rc: {avg_Rc:0.3f} \\t F1:{avg_F1:0.3f}')"
   ]
  },
  {
   "cell_type": "markdown",
   "id": "ebca108d-6955-402b-9959-fee74f260731",
   "metadata": {},
   "source": [
    "### Records\n",
    "\n",
    "```\n",
    "Run-1: 800 eps\n",
    "- A2C: Pr: 0.455 \t Rc: 0.250 \t F1:0.391\n",
    "- DQN: Pr: 0.000 \t Rc: 0.000 \t F1:0.000\n",
    "- PPO: Pr: 0.333 \t Rc: 0.150 \t F1:0.268\n",
    "----------------------------------------------------\n",
    "- RF:  Pr: 0.800 \t Rc: 1.000 \t F1:0.833\n",
    "```"
   ]
  },
  {
   "cell_type": "markdown",
   "id": "4705a340-212e-4c10-acd7-837eb96a5278",
   "metadata": {},
   "source": [
    "# Consolidate multiple (3) test runs data and find averaged metrics \n",
    "\n",
    "- Metrics file RF_performance_summary is created using ```compute_metrics``` function\n",
    "- This fn uses ```df.groupby(['Algorithm']).agg({'Precision': ['mean','std']```"
   ]
  },
  {
   "cell_type": "code",
   "execution_count": 10,
   "id": "3ffb3426-321a-4993-90a8-f67c9c6986e3",
   "metadata": {
    "tags": []
   },
   "outputs": [],
   "source": [
    "import pandas as pd\n",
    "import glob\n",
    "# from utilities import compute_metrics"
   ]
  },
  {
   "cell_type": "code",
   "execution_count": 11,
   "id": "99031153-4f35-4367-b730-8c78c1e7a047",
   "metadata": {
    "tags": []
   },
   "outputs": [],
   "source": [
    "PATH = './results/Fbeta'\n",
    "REPORTS = f'{PATH}/R?_RF_performance_summary.csv'\n",
    "METRICS = f'{PATH}/R?_TEST_CONSOLIDATED_METRICS.csv'\n",
    "\n",
    "CONCAT_PERFORMANCE_REPORT = f'{PATH}/Concat_RF_performance_summary_21-Jun-2023.csv'\n",
    "CONCAT_METRICS = f'{PATH}/Concat_Metrics_21-Jun-2023.csv'\n",
    "CONSOLIDATED_PERFORMANCE_REPORT = f'{PATH}/Consolidated_RF_performance_summary_21-Jun-2023.csv'"
   ]
  },
  {
   "cell_type": "code",
   "execution_count": 12,
   "id": "3e56a14c-d383-4732-bfa4-9e69f9c15e53",
   "metadata": {
    "tags": []
   },
   "outputs": [
    {
     "data": {
      "text/plain": [
       "['./results/Fbeta\\\\R1_TEST_CONSOLIDATED_METRICS.csv',\n",
       " './results/Fbeta\\\\R2_TEST_CONSOLIDATED_METRICS.csv',\n",
       " './results/Fbeta\\\\R3_TEST_CONSOLIDATED_METRICS.csv',\n",
       " './results/Fbeta\\\\R4_TEST_CONSOLIDATED_METRICS.csv',\n",
       " './results/Fbeta\\\\R5_TEST_CONSOLIDATED_METRICS.csv']"
      ]
     },
     "execution_count": 12,
     "metadata": {},
     "output_type": "execute_result"
    }
   ],
   "source": [
    "report_files = glob.glob(REPORTS) \n",
    "metrics_files = glob.glob(METRICS) \n",
    "metrics_files"
   ]
  },
  {
   "cell_type": "code",
   "execution_count": 13,
   "id": "29bcfb3e-85a3-4810-9ade-bbb0a5e5e6ba",
   "metadata": {
    "tags": []
   },
   "outputs": [],
   "source": [
    "df_report = pd.concat((pd.read_csv(f, header = 0) for f in report_files))\n",
    "df_report.to_csv(CONCAT_PERFORMANCE_REPORT)\n",
    "\n",
    "df_m = pd.concat((pd.read_csv(f, header = 0) for f in metrics_files))\n",
    "df_m.to_csv(CONCAT_METRICS)"
   ]
  },
  {
   "cell_type": "code",
   "execution_count": 14,
   "id": "86fe0ba9-6d3b-45cd-bb42-2ef42110db19",
   "metadata": {
    "tags": []
   },
   "outputs": [
    {
     "data": {
      "text/plain": [
       "Index(['Unnamed: 0', 'expt_n', 'environment', 'environment_info', 'data_file',\n",
       "       'model_file', 'version_prefix', 'test_info', 'test_cases',\n",
       "       'test_rounds', 'results_folder', 'test_file', 'train_sample_rate',\n",
       "       'test_sample_rate', 'RF_Pr', 'RF_Rc', 'RF_F1', 'RF_F05', 'RF_Pr_sd',\n",
       "       'RF_Rc_sd', 'RF_F1_sd', 'RF_F05_sd', 'A2C_Pr', 'A2C_Rc', 'A2C_F1',\n",
       "       'A2C_F05', 'A2C_Pr_sd', 'A2C_Rc_sd', 'A2C_F1_sd', 'A2C_F05_sd',\n",
       "       'DQN_Pr', 'DQN_Rc', 'DQN_F1', 'DQN_F05', 'DQN_Pr_sd', 'DQN_Rc_sd',\n",
       "       'DQN_F1_sd', 'DQN_F05_sd', 'PPO_Pr', 'PPO_Rc', 'PPO_F1', 'PPO_F05',\n",
       "       'PPO_Pr_sd', 'PPO_Rc_sd', 'PPO_F1_sd', 'PPO_F05_sd',\n",
       "       'model_file_tested'],\n",
       "      dtype='object')"
      ]
     },
     "execution_count": 14,
     "metadata": {},
     "output_type": "execute_result"
    }
   ],
   "source": [
    "df_report.columns"
   ]
  },
  {
   "cell_type": "code",
   "execution_count": 15,
   "id": "9fd81cbf-f996-4685-99b7-2b29e3ccdbad",
   "metadata": {
    "tags": []
   },
   "outputs": [],
   "source": [
    "def compute_aggregated_metrics(df):\n",
    "    metrics = df.groupby(['environment_info']).agg(\n",
    "        {'RF_Pr': ['mean'], 'RF_Rc': ['mean'],'RF_F1': ['mean'], 'RF_F05': ['mean'],\n",
    "         'A2C_Pr': ['mean'], 'A2C_Rc': ['mean'],'A2C_F1': ['mean'], 'A2C_F05': ['mean'],\n",
    "         'DQN_Pr': ['mean'], 'DQN_Rc': ['mean'],'DQN_F1': ['mean'], 'DQN_F05': ['mean'],\n",
    "         'PPO_Pr': ['mean'], 'PPO_Rc': ['mean'],'PPO_F1': ['mean'], 'PPO_F05': ['mean'],\n",
    "         \n",
    "         'RF_Pr_sd': ['mean'], 'RF_Rc_sd': ['mean'],'RF_F1_sd': ['mean'], 'RF_F05_sd': ['mean'],\n",
    "         'A2C_Pr_sd': ['mean'], 'A2C_Rc_sd': ['mean'],'A2C_F1_sd': ['mean'], 'A2C_F05_sd': ['mean'],\n",
    "         'DQN_Pr_sd': ['mean'], 'DQN_Rc_sd': ['mean'],'DQN_F1_sd': ['mean'], 'DQN_F05_sd': ['mean'],\n",
    "         'PPO_Pr_sd': ['mean'], 'PPO_Rc_sd': ['mean'],'PPO_F1_sd': ['mean'], 'PPO_F05_sd': ['mean']\n",
    "        \n",
    "        })\n",
    "    return(metrics)"
   ]
  },
  {
   "cell_type": "code",
   "execution_count": 17,
   "id": "372f4718-ab9b-4f15-ab6a-0b026e92a6cd",
   "metadata": {
    "tags": []
   },
   "outputs": [],
   "source": [
    "algo_metrics = compute_aggregated_metrics(df_report)\n",
    "algo_metrics.to_csv(CONSOLIDATED_PERFORMANCE_REPORT)"
   ]
  },
  {
   "cell_type": "code",
   "execution_count": 18,
   "id": "bfb6d679-7fe1-437c-9825-14b3e6a38abd",
   "metadata": {
    "tags": []
   },
   "outputs": [
    {
     "data": {
      "text/html": [
       "<div>\n",
       "<style scoped>\n",
       "    .dataframe tbody tr th:only-of-type {\n",
       "        vertical-align: middle;\n",
       "    }\n",
       "\n",
       "    .dataframe tbody tr th {\n",
       "        vertical-align: top;\n",
       "    }\n",
       "\n",
       "    .dataframe thead tr th {\n",
       "        text-align: left;\n",
       "    }\n",
       "\n",
       "    .dataframe thead tr:last-of-type th {\n",
       "        text-align: right;\n",
       "    }\n",
       "</style>\n",
       "<table border=\"1\" class=\"dataframe\">\n",
       "  <thead>\n",
       "    <tr>\n",
       "      <th></th>\n",
       "      <th>RF_Pr</th>\n",
       "      <th>RF_Rc</th>\n",
       "      <th>RF_F1</th>\n",
       "      <th>RF_F05</th>\n",
       "      <th>A2C_Pr</th>\n",
       "      <th>A2C_Rc</th>\n",
       "      <th>A2C_F1</th>\n",
       "      <th>A2C_F05</th>\n",
       "      <th>DQN_Pr</th>\n",
       "      <th>DQN_Rc</th>\n",
       "      <th>...</th>\n",
       "      <th>A2C_F1_sd</th>\n",
       "      <th>A2C_F05_sd</th>\n",
       "      <th>DQN_Pr_sd</th>\n",
       "      <th>DQN_Rc_sd</th>\n",
       "      <th>DQN_F1_sd</th>\n",
       "      <th>DQN_F05_sd</th>\n",
       "      <th>PPO_Pr_sd</th>\n",
       "      <th>PPO_Rc_sd</th>\n",
       "      <th>PPO_F1_sd</th>\n",
       "      <th>PPO_F05_sd</th>\n",
       "    </tr>\n",
       "    <tr>\n",
       "      <th></th>\n",
       "      <th>mean</th>\n",
       "      <th>mean</th>\n",
       "      <th>mean</th>\n",
       "      <th>mean</th>\n",
       "      <th>mean</th>\n",
       "      <th>mean</th>\n",
       "      <th>mean</th>\n",
       "      <th>mean</th>\n",
       "      <th>mean</th>\n",
       "      <th>mean</th>\n",
       "      <th>...</th>\n",
       "      <th>mean</th>\n",
       "      <th>mean</th>\n",
       "      <th>mean</th>\n",
       "      <th>mean</th>\n",
       "      <th>mean</th>\n",
       "      <th>mean</th>\n",
       "      <th>mean</th>\n",
       "      <th>mean</th>\n",
       "      <th>mean</th>\n",
       "      <th>mean</th>\n",
       "    </tr>\n",
       "    <tr>\n",
       "      <th>environment_info</th>\n",
       "      <th></th>\n",
       "      <th></th>\n",
       "      <th></th>\n",
       "      <th></th>\n",
       "      <th></th>\n",
       "      <th></th>\n",
       "      <th></th>\n",
       "      <th></th>\n",
       "      <th></th>\n",
       "      <th></th>\n",
       "      <th></th>\n",
       "      <th></th>\n",
       "      <th></th>\n",
       "      <th></th>\n",
       "      <th></th>\n",
       "      <th></th>\n",
       "      <th></th>\n",
       "      <th></th>\n",
       "      <th></th>\n",
       "      <th></th>\n",
       "      <th></th>\n",
       "    </tr>\n",
       "  </thead>\n",
       "  <tbody>\n",
       "    <tr>\n",
       "      <th>PHM C01 complex multi-variate state NBD</th>\n",
       "      <td>0.824169</td>\n",
       "      <td>0.895</td>\n",
       "      <td>0.856054</td>\n",
       "      <td>0.836221</td>\n",
       "      <td>0.443679</td>\n",
       "      <td>0.284</td>\n",
       "      <td>0.314668</td>\n",
       "      <td>0.358160</td>\n",
       "      <td>0.313063</td>\n",
       "      <td>0.215</td>\n",
       "      <td>...</td>\n",
       "      <td>0.092394</td>\n",
       "      <td>0.102473</td>\n",
       "      <td>0.331480</td>\n",
       "      <td>0.034076</td>\n",
       "      <td>0.052231</td>\n",
       "      <td>0.097972</td>\n",
       "      <td>0.133383</td>\n",
       "      <td>0.122821</td>\n",
       "      <td>0.118900</td>\n",
       "      <td>0.117720</td>\n",
       "    </tr>\n",
       "    <tr>\n",
       "      <th>PHM C01 simple (NT) HBD</th>\n",
       "      <td>0.756734</td>\n",
       "      <td>0.926</td>\n",
       "      <td>0.831085</td>\n",
       "      <td>0.784490</td>\n",
       "      <td>0.498562</td>\n",
       "      <td>0.632</td>\n",
       "      <td>0.542450</td>\n",
       "      <td>0.512735</td>\n",
       "      <td>0.399222</td>\n",
       "      <td>0.402</td>\n",
       "      <td>...</td>\n",
       "      <td>0.054549</td>\n",
       "      <td>0.052653</td>\n",
       "      <td>0.266060</td>\n",
       "      <td>0.027861</td>\n",
       "      <td>0.035615</td>\n",
       "      <td>0.065984</td>\n",
       "      <td>0.151551</td>\n",
       "      <td>0.091827</td>\n",
       "      <td>0.102447</td>\n",
       "      <td>0.118434</td>\n",
       "    </tr>\n",
       "    <tr>\n",
       "      <th>PHM C01 simple (NT) LBD</th>\n",
       "      <td>0.916234</td>\n",
       "      <td>0.893</td>\n",
       "      <td>0.903160</td>\n",
       "      <td>0.910621</td>\n",
       "      <td>0.525517</td>\n",
       "      <td>0.645</td>\n",
       "      <td>0.568050</td>\n",
       "      <td>0.539629</td>\n",
       "      <td>0.320716</td>\n",
       "      <td>0.591</td>\n",
       "      <td>...</td>\n",
       "      <td>0.063032</td>\n",
       "      <td>0.061377</td>\n",
       "      <td>0.048725</td>\n",
       "      <td>0.027091</td>\n",
       "      <td>0.020863</td>\n",
       "      <td>0.026592</td>\n",
       "      <td>0.076776</td>\n",
       "      <td>0.099089</td>\n",
       "      <td>0.082975</td>\n",
       "      <td>0.076630</td>\n",
       "    </tr>\n",
       "    <tr>\n",
       "      <th>PHM C01 simple (NT) NBD</th>\n",
       "      <td>0.885816</td>\n",
       "      <td>0.978</td>\n",
       "      <td>0.927949</td>\n",
       "      <td>0.901847</td>\n",
       "      <td>0.294264</td>\n",
       "      <td>0.337</td>\n",
       "      <td>0.305377</td>\n",
       "      <td>0.296368</td>\n",
       "      <td>0.350199</td>\n",
       "      <td>0.405</td>\n",
       "      <td>...</td>\n",
       "      <td>0.056577</td>\n",
       "      <td>0.054090</td>\n",
       "      <td>0.195293</td>\n",
       "      <td>0.036647</td>\n",
       "      <td>0.041346</td>\n",
       "      <td>0.065460</td>\n",
       "      <td>0.127044</td>\n",
       "      <td>0.110641</td>\n",
       "      <td>0.095206</td>\n",
       "      <td>0.097476</td>\n",
       "    </tr>\n",
       "    <tr>\n",
       "      <th>PHM C04 complex multi-variate state NBD</th>\n",
       "      <td>0.752229</td>\n",
       "      <td>0.678</td>\n",
       "      <td>0.709055</td>\n",
       "      <td>0.732986</td>\n",
       "      <td>0.506233</td>\n",
       "      <td>0.326</td>\n",
       "      <td>0.368135</td>\n",
       "      <td>0.424661</td>\n",
       "      <td>0.587728</td>\n",
       "      <td>0.642</td>\n",
       "      <td>...</td>\n",
       "      <td>0.089924</td>\n",
       "      <td>0.096080</td>\n",
       "      <td>0.132445</td>\n",
       "      <td>0.040637</td>\n",
       "      <td>0.038642</td>\n",
       "      <td>0.053649</td>\n",
       "      <td>0.078057</td>\n",
       "      <td>0.093715</td>\n",
       "      <td>0.078067</td>\n",
       "      <td>0.076139</td>\n",
       "    </tr>\n",
       "    <tr>\n",
       "      <th>PHM C04 simple (NT) HBD</th>\n",
       "      <td>0.769534</td>\n",
       "      <td>0.809</td>\n",
       "      <td>0.786687</td>\n",
       "      <td>0.775836</td>\n",
       "      <td>0.374870</td>\n",
       "      <td>0.456</td>\n",
       "      <td>0.397156</td>\n",
       "      <td>0.380848</td>\n",
       "      <td>0.408246</td>\n",
       "      <td>0.411</td>\n",
       "      <td>...</td>\n",
       "      <td>0.061058</td>\n",
       "      <td>0.051277</td>\n",
       "      <td>0.283224</td>\n",
       "      <td>0.031343</td>\n",
       "      <td>0.045337</td>\n",
       "      <td>0.082612</td>\n",
       "      <td>0.164310</td>\n",
       "      <td>0.105916</td>\n",
       "      <td>0.114363</td>\n",
       "      <td>0.126328</td>\n",
       "    </tr>\n",
       "    <tr>\n",
       "      <th>PHM C04 simple (NT) LBD</th>\n",
       "      <td>0.722120</td>\n",
       "      <td>0.980</td>\n",
       "      <td>0.830787</td>\n",
       "      <td>0.761871</td>\n",
       "      <td>0.398701</td>\n",
       "      <td>0.393</td>\n",
       "      <td>0.391073</td>\n",
       "      <td>0.393381</td>\n",
       "      <td>0.408988</td>\n",
       "      <td>0.589</td>\n",
       "      <td>...</td>\n",
       "      <td>0.064542</td>\n",
       "      <td>0.065000</td>\n",
       "      <td>0.184724</td>\n",
       "      <td>0.034209</td>\n",
       "      <td>0.033684</td>\n",
       "      <td>0.057356</td>\n",
       "      <td>0.148888</td>\n",
       "      <td>0.090906</td>\n",
       "      <td>0.091752</td>\n",
       "      <td>0.107679</td>\n",
       "    </tr>\n",
       "    <tr>\n",
       "      <th>PHM C04 simple (NT) NBD</th>\n",
       "      <td>0.864863</td>\n",
       "      <td>0.959</td>\n",
       "      <td>0.907734</td>\n",
       "      <td>0.881135</td>\n",
       "      <td>0.514617</td>\n",
       "      <td>0.676</td>\n",
       "      <td>0.574583</td>\n",
       "      <td>0.535378</td>\n",
       "      <td>0.364771</td>\n",
       "      <td>0.497</td>\n",
       "      <td>...</td>\n",
       "      <td>0.073595</td>\n",
       "      <td>0.064212</td>\n",
       "      <td>0.112175</td>\n",
       "      <td>0.028401</td>\n",
       "      <td>0.032720</td>\n",
       "      <td>0.048313</td>\n",
       "      <td>0.213179</td>\n",
       "      <td>0.075883</td>\n",
       "      <td>0.092438</td>\n",
       "      <td>0.124189</td>\n",
       "    </tr>\n",
       "    <tr>\n",
       "      <th>PHM C06 complex multi-variate state NBD</th>\n",
       "      <td>1.000000</td>\n",
       "      <td>0.643</td>\n",
       "      <td>0.779053</td>\n",
       "      <td>0.896453</td>\n",
       "      <td>0.499172</td>\n",
       "      <td>0.731</td>\n",
       "      <td>0.574949</td>\n",
       "      <td>0.523454</td>\n",
       "      <td>0.520256</td>\n",
       "      <td>0.239</td>\n",
       "      <td>...</td>\n",
       "      <td>0.042712</td>\n",
       "      <td>0.039285</td>\n",
       "      <td>0.280518</td>\n",
       "      <td>0.039926</td>\n",
       "      <td>0.057125</td>\n",
       "      <td>0.095381</td>\n",
       "      <td>0.152761</td>\n",
       "      <td>0.093895</td>\n",
       "      <td>0.105749</td>\n",
       "      <td>0.119313</td>\n",
       "    </tr>\n",
       "    <tr>\n",
       "      <th>PHM C06 simple (NT) HBD</th>\n",
       "      <td>0.698830</td>\n",
       "      <td>0.912</td>\n",
       "      <td>0.790089</td>\n",
       "      <td>0.732467</td>\n",
       "      <td>0.479539</td>\n",
       "      <td>0.512</td>\n",
       "      <td>0.466222</td>\n",
       "      <td>0.466879</td>\n",
       "      <td>0.580587</td>\n",
       "      <td>0.499</td>\n",
       "      <td>...</td>\n",
       "      <td>0.063784</td>\n",
       "      <td>0.064854</td>\n",
       "      <td>0.186779</td>\n",
       "      <td>0.028380</td>\n",
       "      <td>0.033224</td>\n",
       "      <td>0.054678</td>\n",
       "      <td>0.193219</td>\n",
       "      <td>0.093076</td>\n",
       "      <td>0.107158</td>\n",
       "      <td>0.125619</td>\n",
       "    </tr>\n",
       "    <tr>\n",
       "      <th>PHM C06 simple (NT) LBD</th>\n",
       "      <td>0.967917</td>\n",
       "      <td>0.854</td>\n",
       "      <td>0.905394</td>\n",
       "      <td>0.941284</td>\n",
       "      <td>0.508204</td>\n",
       "      <td>0.615</td>\n",
       "      <td>0.548326</td>\n",
       "      <td>0.521999</td>\n",
       "      <td>0.395074</td>\n",
       "      <td>0.593</td>\n",
       "      <td>...</td>\n",
       "      <td>0.082006</td>\n",
       "      <td>0.073204</td>\n",
       "      <td>0.160297</td>\n",
       "      <td>0.036581</td>\n",
       "      <td>0.035762</td>\n",
       "      <td>0.055661</td>\n",
       "      <td>0.109709</td>\n",
       "      <td>0.105752</td>\n",
       "      <td>0.100174</td>\n",
       "      <td>0.100004</td>\n",
       "    </tr>\n",
       "    <tr>\n",
       "      <th>PHM C06 simple (NT) NBD</th>\n",
       "      <td>0.995833</td>\n",
       "      <td>0.609</td>\n",
       "      <td>0.751402</td>\n",
       "      <td>0.879060</td>\n",
       "      <td>0.462812</td>\n",
       "      <td>0.454</td>\n",
       "      <td>0.455328</td>\n",
       "      <td>0.459031</td>\n",
       "      <td>0.538378</td>\n",
       "      <td>0.780</td>\n",
       "      <td>...</td>\n",
       "      <td>0.088328</td>\n",
       "      <td>0.081874</td>\n",
       "      <td>0.107489</td>\n",
       "      <td>0.036951</td>\n",
       "      <td>0.026645</td>\n",
       "      <td>0.033948</td>\n",
       "      <td>0.126308</td>\n",
       "      <td>0.078585</td>\n",
       "      <td>0.070379</td>\n",
       "      <td>0.082102</td>\n",
       "    </tr>\n",
       "    <tr>\n",
       "      <th>Simulated Dasic 2006 - simple (NT) state - HBD</th>\n",
       "      <td>0.888975</td>\n",
       "      <td>0.974</td>\n",
       "      <td>0.928796</td>\n",
       "      <td>0.904326</td>\n",
       "      <td>0.471316</td>\n",
       "      <td>0.439</td>\n",
       "      <td>0.443067</td>\n",
       "      <td>0.454901</td>\n",
       "      <td>0.422779</td>\n",
       "      <td>0.408</td>\n",
       "      <td>...</td>\n",
       "      <td>0.105807</td>\n",
       "      <td>0.108593</td>\n",
       "      <td>0.275616</td>\n",
       "      <td>0.037466</td>\n",
       "      <td>0.046199</td>\n",
       "      <td>0.082160</td>\n",
       "      <td>0.151474</td>\n",
       "      <td>0.062600</td>\n",
       "      <td>0.078063</td>\n",
       "      <td>0.104571</td>\n",
       "    </tr>\n",
       "    <tr>\n",
       "      <th>Simulated Dasic 2006 - simple (NT) state - LBD</th>\n",
       "      <td>0.943424</td>\n",
       "      <td>0.954</td>\n",
       "      <td>0.947589</td>\n",
       "      <td>0.944831</td>\n",
       "      <td>0.409024</td>\n",
       "      <td>0.318</td>\n",
       "      <td>0.349120</td>\n",
       "      <td>0.378947</td>\n",
       "      <td>0.273411</td>\n",
       "      <td>0.064</td>\n",
       "      <td>...</td>\n",
       "      <td>0.076295</td>\n",
       "      <td>0.072082</td>\n",
       "      <td>0.286940</td>\n",
       "      <td>0.030378</td>\n",
       "      <td>0.047678</td>\n",
       "      <td>0.085130</td>\n",
       "      <td>0.204458</td>\n",
       "      <td>0.060985</td>\n",
       "      <td>0.079496</td>\n",
       "      <td>0.115901</td>\n",
       "    </tr>\n",
       "    <tr>\n",
       "      <th>Simulated Dasic 2006 - simple (NT) state - NBD</th>\n",
       "      <td>0.998667</td>\n",
       "      <td>0.645</td>\n",
       "      <td>0.782116</td>\n",
       "      <td>0.898325</td>\n",
       "      <td>0.334798</td>\n",
       "      <td>0.359</td>\n",
       "      <td>0.344248</td>\n",
       "      <td>0.338002</td>\n",
       "      <td>0.348237</td>\n",
       "      <td>0.597</td>\n",
       "      <td>...</td>\n",
       "      <td>0.047357</td>\n",
       "      <td>0.046289</td>\n",
       "      <td>0.087360</td>\n",
       "      <td>0.030436</td>\n",
       "      <td>0.028055</td>\n",
       "      <td>0.037688</td>\n",
       "      <td>0.169182</td>\n",
       "      <td>0.068020</td>\n",
       "      <td>0.083227</td>\n",
       "      <td>0.108754</td>\n",
       "    </tr>\n",
       "  </tbody>\n",
       "</table>\n",
       "<p>15 rows × 32 columns</p>\n",
       "</div>"
      ],
      "text/plain": [
       "                                                   RF_Pr  RF_Rc     RF_F1  \\\n",
       "                                                    mean   mean      mean   \n",
       "environment_info                                                            \n",
       "PHM C01 complex multi-variate state NBD         0.824169  0.895  0.856054   \n",
       "PHM C01 simple (NT) HBD                         0.756734  0.926  0.831085   \n",
       "PHM C01 simple (NT) LBD                         0.916234  0.893  0.903160   \n",
       "PHM C01 simple (NT) NBD                         0.885816  0.978  0.927949   \n",
       "PHM C04 complex multi-variate state NBD         0.752229  0.678  0.709055   \n",
       "PHM C04 simple (NT) HBD                         0.769534  0.809  0.786687   \n",
       "PHM C04 simple (NT) LBD                         0.722120  0.980  0.830787   \n",
       "PHM C04 simple (NT) NBD                         0.864863  0.959  0.907734   \n",
       "PHM C06 complex multi-variate state NBD         1.000000  0.643  0.779053   \n",
       "PHM C06 simple (NT) HBD                         0.698830  0.912  0.790089   \n",
       "PHM C06 simple (NT) LBD                         0.967917  0.854  0.905394   \n",
       "PHM C06 simple (NT) NBD                         0.995833  0.609  0.751402   \n",
       "Simulated Dasic 2006 - simple (NT) state - HBD  0.888975  0.974  0.928796   \n",
       "Simulated Dasic 2006 - simple (NT) state - LBD  0.943424  0.954  0.947589   \n",
       "Simulated Dasic 2006 - simple (NT) state - NBD  0.998667  0.645  0.782116   \n",
       "\n",
       "                                                  RF_F05    A2C_Pr A2C_Rc  \\\n",
       "                                                    mean      mean   mean   \n",
       "environment_info                                                            \n",
       "PHM C01 complex multi-variate state NBD         0.836221  0.443679  0.284   \n",
       "PHM C01 simple (NT) HBD                         0.784490  0.498562  0.632   \n",
       "PHM C01 simple (NT) LBD                         0.910621  0.525517  0.645   \n",
       "PHM C01 simple (NT) NBD                         0.901847  0.294264  0.337   \n",
       "PHM C04 complex multi-variate state NBD         0.732986  0.506233  0.326   \n",
       "PHM C04 simple (NT) HBD                         0.775836  0.374870  0.456   \n",
       "PHM C04 simple (NT) LBD                         0.761871  0.398701  0.393   \n",
       "PHM C04 simple (NT) NBD                         0.881135  0.514617  0.676   \n",
       "PHM C06 complex multi-variate state NBD         0.896453  0.499172  0.731   \n",
       "PHM C06 simple (NT) HBD                         0.732467  0.479539  0.512   \n",
       "PHM C06 simple (NT) LBD                         0.941284  0.508204  0.615   \n",
       "PHM C06 simple (NT) NBD                         0.879060  0.462812  0.454   \n",
       "Simulated Dasic 2006 - simple (NT) state - HBD  0.904326  0.471316  0.439   \n",
       "Simulated Dasic 2006 - simple (NT) state - LBD  0.944831  0.409024  0.318   \n",
       "Simulated Dasic 2006 - simple (NT) state - NBD  0.898325  0.334798  0.359   \n",
       "\n",
       "                                                  A2C_F1   A2C_F05    DQN_Pr  \\\n",
       "                                                    mean      mean      mean   \n",
       "environment_info                                                               \n",
       "PHM C01 complex multi-variate state NBD         0.314668  0.358160  0.313063   \n",
       "PHM C01 simple (NT) HBD                         0.542450  0.512735  0.399222   \n",
       "PHM C01 simple (NT) LBD                         0.568050  0.539629  0.320716   \n",
       "PHM C01 simple (NT) NBD                         0.305377  0.296368  0.350199   \n",
       "PHM C04 complex multi-variate state NBD         0.368135  0.424661  0.587728   \n",
       "PHM C04 simple (NT) HBD                         0.397156  0.380848  0.408246   \n",
       "PHM C04 simple (NT) LBD                         0.391073  0.393381  0.408988   \n",
       "PHM C04 simple (NT) NBD                         0.574583  0.535378  0.364771   \n",
       "PHM C06 complex multi-variate state NBD         0.574949  0.523454  0.520256   \n",
       "PHM C06 simple (NT) HBD                         0.466222  0.466879  0.580587   \n",
       "PHM C06 simple (NT) LBD                         0.548326  0.521999  0.395074   \n",
       "PHM C06 simple (NT) NBD                         0.455328  0.459031  0.538378   \n",
       "Simulated Dasic 2006 - simple (NT) state - HBD  0.443067  0.454901  0.422779   \n",
       "Simulated Dasic 2006 - simple (NT) state - LBD  0.349120  0.378947  0.273411   \n",
       "Simulated Dasic 2006 - simple (NT) state - NBD  0.344248  0.338002  0.348237   \n",
       "\n",
       "                                               DQN_Rc  ... A2C_F1_sd  \\\n",
       "                                                 mean  ...      mean   \n",
       "environment_info                                       ...             \n",
       "PHM C01 complex multi-variate state NBD         0.215  ...  0.092394   \n",
       "PHM C01 simple (NT) HBD                         0.402  ...  0.054549   \n",
       "PHM C01 simple (NT) LBD                         0.591  ...  0.063032   \n",
       "PHM C01 simple (NT) NBD                         0.405  ...  0.056577   \n",
       "PHM C04 complex multi-variate state NBD         0.642  ...  0.089924   \n",
       "PHM C04 simple (NT) HBD                         0.411  ...  0.061058   \n",
       "PHM C04 simple (NT) LBD                         0.589  ...  0.064542   \n",
       "PHM C04 simple (NT) NBD                         0.497  ...  0.073595   \n",
       "PHM C06 complex multi-variate state NBD         0.239  ...  0.042712   \n",
       "PHM C06 simple (NT) HBD                         0.499  ...  0.063784   \n",
       "PHM C06 simple (NT) LBD                         0.593  ...  0.082006   \n",
       "PHM C06 simple (NT) NBD                         0.780  ...  0.088328   \n",
       "Simulated Dasic 2006 - simple (NT) state - HBD  0.408  ...  0.105807   \n",
       "Simulated Dasic 2006 - simple (NT) state - LBD  0.064  ...  0.076295   \n",
       "Simulated Dasic 2006 - simple (NT) state - NBD  0.597  ...  0.047357   \n",
       "\n",
       "                                               A2C_F05_sd DQN_Pr_sd DQN_Rc_sd  \\\n",
       "                                                     mean      mean      mean   \n",
       "environment_info                                                                \n",
       "PHM C01 complex multi-variate state NBD          0.102473  0.331480  0.034076   \n",
       "PHM C01 simple (NT) HBD                          0.052653  0.266060  0.027861   \n",
       "PHM C01 simple (NT) LBD                          0.061377  0.048725  0.027091   \n",
       "PHM C01 simple (NT) NBD                          0.054090  0.195293  0.036647   \n",
       "PHM C04 complex multi-variate state NBD          0.096080  0.132445  0.040637   \n",
       "PHM C04 simple (NT) HBD                          0.051277  0.283224  0.031343   \n",
       "PHM C04 simple (NT) LBD                          0.065000  0.184724  0.034209   \n",
       "PHM C04 simple (NT) NBD                          0.064212  0.112175  0.028401   \n",
       "PHM C06 complex multi-variate state NBD          0.039285  0.280518  0.039926   \n",
       "PHM C06 simple (NT) HBD                          0.064854  0.186779  0.028380   \n",
       "PHM C06 simple (NT) LBD                          0.073204  0.160297  0.036581   \n",
       "PHM C06 simple (NT) NBD                          0.081874  0.107489  0.036951   \n",
       "Simulated Dasic 2006 - simple (NT) state - HBD   0.108593  0.275616  0.037466   \n",
       "Simulated Dasic 2006 - simple (NT) state - LBD   0.072082  0.286940  0.030378   \n",
       "Simulated Dasic 2006 - simple (NT) state - NBD   0.046289  0.087360  0.030436   \n",
       "\n",
       "                                               DQN_F1_sd DQN_F05_sd PPO_Pr_sd  \\\n",
       "                                                    mean       mean      mean   \n",
       "environment_info                                                                \n",
       "PHM C01 complex multi-variate state NBD         0.052231   0.097972  0.133383   \n",
       "PHM C01 simple (NT) HBD                         0.035615   0.065984  0.151551   \n",
       "PHM C01 simple (NT) LBD                         0.020863   0.026592  0.076776   \n",
       "PHM C01 simple (NT) NBD                         0.041346   0.065460  0.127044   \n",
       "PHM C04 complex multi-variate state NBD         0.038642   0.053649  0.078057   \n",
       "PHM C04 simple (NT) HBD                         0.045337   0.082612  0.164310   \n",
       "PHM C04 simple (NT) LBD                         0.033684   0.057356  0.148888   \n",
       "PHM C04 simple (NT) NBD                         0.032720   0.048313  0.213179   \n",
       "PHM C06 complex multi-variate state NBD         0.057125   0.095381  0.152761   \n",
       "PHM C06 simple (NT) HBD                         0.033224   0.054678  0.193219   \n",
       "PHM C06 simple (NT) LBD                         0.035762   0.055661  0.109709   \n",
       "PHM C06 simple (NT) NBD                         0.026645   0.033948  0.126308   \n",
       "Simulated Dasic 2006 - simple (NT) state - HBD  0.046199   0.082160  0.151474   \n",
       "Simulated Dasic 2006 - simple (NT) state - LBD  0.047678   0.085130  0.204458   \n",
       "Simulated Dasic 2006 - simple (NT) state - NBD  0.028055   0.037688  0.169182   \n",
       "\n",
       "                                               PPO_Rc_sd PPO_F1_sd PPO_F05_sd  \n",
       "                                                    mean      mean       mean  \n",
       "environment_info                                                               \n",
       "PHM C01 complex multi-variate state NBD         0.122821  0.118900   0.117720  \n",
       "PHM C01 simple (NT) HBD                         0.091827  0.102447   0.118434  \n",
       "PHM C01 simple (NT) LBD                         0.099089  0.082975   0.076630  \n",
       "PHM C01 simple (NT) NBD                         0.110641  0.095206   0.097476  \n",
       "PHM C04 complex multi-variate state NBD         0.093715  0.078067   0.076139  \n",
       "PHM C04 simple (NT) HBD                         0.105916  0.114363   0.126328  \n",
       "PHM C04 simple (NT) LBD                         0.090906  0.091752   0.107679  \n",
       "PHM C04 simple (NT) NBD                         0.075883  0.092438   0.124189  \n",
       "PHM C06 complex multi-variate state NBD         0.093895  0.105749   0.119313  \n",
       "PHM C06 simple (NT) HBD                         0.093076  0.107158   0.125619  \n",
       "PHM C06 simple (NT) LBD                         0.105752  0.100174   0.100004  \n",
       "PHM C06 simple (NT) NBD                         0.078585  0.070379   0.082102  \n",
       "Simulated Dasic 2006 - simple (NT) state - HBD  0.062600  0.078063   0.104571  \n",
       "Simulated Dasic 2006 - simple (NT) state - LBD  0.060985  0.079496   0.115901  \n",
       "Simulated Dasic 2006 - simple (NT) state - NBD  0.068020  0.083227   0.108754  \n",
       "\n",
       "[15 rows x 32 columns]"
      ]
     },
     "execution_count": 18,
     "metadata": {},
     "output_type": "execute_result"
    }
   ],
   "source": [
    "algo_metrics"
   ]
  },
  {
   "cell_type": "markdown",
   "id": "cae250a6-3360-4972-8336-d98c5816f39f",
   "metadata": {},
   "source": [
    "- Compute over all avgs.\n",
    "- Simulated avgs.\n",
    "- PHM SS\n",
    "- PHM MS"
   ]
  },
  {
   "cell_type": "code",
   "execution_count": 38,
   "id": "9df4530f-00b0-449f-a08d-7c2b7ae24763",
   "metadata": {
    "tags": []
   },
   "outputs": [
    {
     "name": "stdout",
     "output_type": "stream",
     "text": [
      "['Simulated Dasic 2006 - simple (NT) state - NBD'\n",
      " 'Simulated Dasic 2006 - simple (NT) state - LBD'\n",
      " 'Simulated Dasic 2006 - simple (NT) state - HBD'\n",
      " 'PHM C01 simple (NT) NBD' 'PHM C01 simple (NT) LBD'\n",
      " 'PHM C01 simple (NT) HBD' 'PHM C04 simple (NT) NBD'\n",
      " 'PHM C04 simple (NT) LBD' 'PHM C04 simple (NT) HBD'\n",
      " 'PHM C06 simple (NT) NBD' 'PHM C06 simple (NT) LBD'\n",
      " 'PHM C06 simple (NT) HBD' 'PHM C01 complex multi-variate state NBD'\n",
      " 'PHM C04 complex multi-variate state NBD'\n",
      " 'PHM C06 complex multi-variate state NBD']\n"
     ]
    }
   ],
   "source": [
    "# Get environment names\n",
    "envs = df_report.environment_info.unique()\n",
    "print(envs)"
   ]
  },
  {
   "cell_type": "code",
   "execution_count": 73,
   "id": "2decbd6f-c0b7-4438-b752-20f20a377d80",
   "metadata": {},
   "outputs": [],
   "source": [
    "overall = envs[0:]\n",
    "simulated_envs = envs[0:3]\n",
    "phm_ss_envs = envs[3:12]\n",
    "phm_ms_envs = envs[12:]"
   ]
  },
  {
   "cell_type": "code",
   "execution_count": 74,
   "id": "ee287306-ef1b-436f-b1b6-264d5a367a59",
   "metadata": {
    "tags": []
   },
   "outputs": [],
   "source": [
    "overall_metrics = algo_metrics.loc[overall]\n",
    "overall_means = overall_metrics.mean()\n",
    "overall_means = overall_means.sort_index(ascending=True)\n",
    "overall_means.to_csv('overall_means.csv')"
   ]
  },
  {
   "cell_type": "code",
   "execution_count": 75,
   "id": "bdde8c74-5c9c-4d81-a562-7617ef7505f8",
   "metadata": {
    "tags": []
   },
   "outputs": [],
   "source": [
    "simulated_metrics = algo_metrics.loc[simulated_envs]\n",
    "simulated_means = simulated_metrics.mean()\n",
    "simulated_means = simulated_means.sort_index(ascending=True)\n",
    "simulated_means.to_csv('simulated_means.csv')"
   ]
  },
  {
   "cell_type": "code",
   "execution_count": 76,
   "id": "8ef39e0f-6730-4d79-9487-0b47e299c83e",
   "metadata": {
    "tags": []
   },
   "outputs": [],
   "source": [
    "phm_ss_metrics = algo_metrics.loc[phm_ss_envs]\n",
    "phm_ss_means = phm_ss_metrics.mean()\n",
    "phm_ss_means = phm_ss_means.sort_index(ascending=True)\n",
    "phm_ss_means.to_csv('phm_ss_means.csv')"
   ]
  },
  {
   "cell_type": "code",
   "execution_count": 80,
   "id": "0419c998-86cc-4701-8d80-e534e494287c",
   "metadata": {
    "tags": []
   },
   "outputs": [],
   "source": [
    "phm_ms_metrics = algo_metrics.loc[phm_ms_envs]\n",
    "phm_ms_means = phm_ms_metrics.mean()\n",
    "phm_ms_means = phm_ms_means.sort_index(ascending=True)\n",
    "phm_ms_means.to_csv('phm_ms_means.csv')"
   ]
  },
  {
   "cell_type": "code",
   "execution_count": null,
   "id": "134fd55a-4560-42dd-8ada-6f64767754e7",
   "metadata": {},
   "outputs": [],
   "source": []
  },
  {
   "cell_type": "code",
   "execution_count": null,
   "id": "64e95d73-0a00-4224-b946-3d1531062747",
   "metadata": {},
   "outputs": [],
   "source": []
  }
 ],
 "metadata": {
  "kernelspec": {
   "display_name": "RL",
   "language": "python",
   "name": "rl"
  },
  "language_info": {
   "codemirror_mode": {
    "name": "ipython",
    "version": 3
   },
   "file_extension": ".py",
   "mimetype": "text/x-python",
   "name": "python",
   "nbconvert_exporter": "python",
   "pygments_lexer": "ipython3",
   "version": "3.9.1"
  }
 },
 "nbformat": 4,
 "nbformat_minor": 5
}
