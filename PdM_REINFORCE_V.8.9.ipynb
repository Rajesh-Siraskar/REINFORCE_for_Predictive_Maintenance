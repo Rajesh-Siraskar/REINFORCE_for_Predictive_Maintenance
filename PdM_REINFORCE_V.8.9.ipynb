{
 "cells": [
  {
   "cell_type": "markdown",
   "id": "b3c15c68-04b6-4591-9e1d-9c232b135cc0",
   "metadata": {
    "tags": []
   },
   "source": [
    "## Milling Tool Wear Maintenance Policy using the REINFORCE algorithm\n",
    "\n",
    "- Ver. 4.1: 01-May-2023 - Improved plots\n",
    "- Ver. 4.5: 01-May-2023 - Add Stable-Baselines algo.\n",
    "- Ver. 4.6: 02-May-2023 - Expt RF vs SB-3 PPO, scaled rewards: 1/10^6 \n",
    "- Ver. 4.8: 06-May-2023 - Auto run SB3 algos.\n",
    "- Ver. 5.0: 06-May-2023 - Re-factor. Functions conversions to enable test runs.\n",
    "- Ver. 5.1: 07-May-2023 - PPO behaviour. For SB-3 models, correct test set reshuffle and retraining of models everytime \n",
    "- Ver. 5.2: 07-May-2023 - Test cases sample 40 (constant) and _without_ replacement\n",
    "- Ver. 5.3: 08-May-2023 - Do not sort Test cases. Possible cause of trends in ppo?\n",
    "- Ver. 6.0: 08-May-2023 - Train once, save model, test multiple times. Block storing of model training progress\n",
    "- Ver. 6.1: 08-May-2023 - Add pr., rc., f1 scores\n",
    "- Ver. 6.2: 08-May-2023 - Fix div. by zero warnings\n",
    "- Ver. 7.0: 09-May-2023 - Introduced two functions to compute algo. level aggregated metrics and save to a file\n",
    "- Ver. 7.5: 10-May-2023 - Adapt for PHM data. Columns cloned in PHM original data: ```timestamp -> time,  tool_wear -> VB_mm, New added column -> ACTION_CODE```\n",
    "- Ver. 8.0: 10-May-2023 - PHM data - 3 tests\n",
    "- Ver. 8.1: 11-May-2023 - Towards complex env. state. Remove VB_mm etc. Adapt to PHM naming\n",
    "- Ver. 8.2: 12-May-2023 - Add F1 along with F1-Beta\n",
    "- Ver. 8.3: 12-May-2023 - **** MAJOR BUG. Pr. Rc computed in for loop rather than outside. Add Beta for F1-Beta for higher precision = lower FP = lower \"replace\" errors\n",
    "- Ver. 8.4: 12-May-2023 - Added metrics method control. Default is \"weigthed\"\n",
    "- Ver. 8.5: 12-May-2023 - Reward signal modified - penalty for replacements increased from -100 to -150\n",
    "- Ver. 8.6: 13-May-2023 - Revise code to work with both Simple and Complex envs. Test with PHM DATA C01, with noise\n",
    "- Ver. 8.7: 13-May-2023 - Re-run all experiments\n",
    "- Ver. 8.8: 13-May-2023 - (Network arch improved for PolicyNetwork.) Redcued back to basic \n",
    "- Ver. 8.9: 15-May-2023 - Rename report and plot files as PHM-C01_LowNBD_WT_N_BD_Ep_Terminate, Sim_NoNBD_WT_N_BD_Ep_Terminate. Add sub-titles to plots.\n",
    "\n"
   ]
  },
  {
   "cell_type": "code",
   "execution_count": 1,
   "id": "f8c941c0-893c-45f4-9a5f-e06ac2d56aea",
   "metadata": {},
   "outputs": [],
   "source": [
    "import numpy as np\n",
    "import pandas as pd\n",
    "\n",
    "import milling_tool_environment\n",
    "import utilities\n",
    "from milling_tool_environment import MillingTool_SS, MillingTool_MS\n",
    "from utilities import compute_metrics, compute_metrics_simple, write_metrics_report, store_results, plot_learning_curve, single_axes_plot\n",
    "from utilities import two_axes_plot, two_variable_plot, plot_error_bounds, test_script, write_test_results, downsample\n",
    "from reinforce_classes import PolicyNetwork, Agent\n",
    "\n",
    "import datetime\n",
    "dt = datetime.datetime.now()\n",
    "dt_d = dt.strftime('%d-%b-%Y')\n",
    "dt_t = dt.strftime('%H_%M_%S')\n",
    "dt_m = dt.strftime('%M')"
   ]
  },
  {
   "cell_type": "code",
   "execution_count": 2,
   "id": "e493bdc6-a811-4476-bcdb-1065e2870d35",
   "metadata": {},
   "outputs": [
    {
     "data": {
      "text/plain": [
       "<module 'utilities' from 'D:\\\\Rajesh\\\\ResearchLab\\\\RL_for_PdM\\\\REINFORCE_Tool_Replace_Policy\\\\utilities.py'>"
      ]
     },
     "execution_count": 2,
     "metadata": {},
     "output_type": "execute_result"
    }
   ],
   "source": [
    "import importlib\n",
    "importlib.reload(milling_tool_environment)\n",
    "importlib.reload(utilities)"
   ]
  },
  {
   "cell_type": "code",
   "execution_count": 3,
   "id": "d834cced-49ab-4ce9-9826-11fc60576b59",
   "metadata": {
    "tags": []
   },
   "outputs": [
    {
     "name": "stdout",
     "output_type": "stream",
     "text": [
      "\n",
      " -- Columns added to results file  results/15-May-2023/PHM-C04_LowNBD_0.1_1200_1100_test_results_15-May-2023_44.csv\n"
     ]
    }
   ],
   "source": [
    "# Version name: <Ver.No>_Sim_<N or W>NB_<episodes>_test-run\n",
    "# Data Files: Simulated_Dasic_2006_Tool_Wear_Model. Threshold 3mm\n",
    "# PHM:        PHM_C01_MultiStateEnv_0p12; PHM_C04_MultiStateEnv_0p10; PHM_C06_MultiStateEnv_0p13\n",
    "\n",
    "ENVIRONMENT_INFO = 'PHM 2010. COMPLEX multi-var state.'\n",
    "DATA_FILE = 'data\\PHM_C04_MultiStateEnv_0p10.csv'\n",
    "WEAR_THRESHOLD = 0.1 # mm\n",
    "ADD_NOISE = 1e3 # 0 for no noise. Factor to apply on np.random.rand(). For e.g. 1e2 or 1e3 are factors for higher and lower noise. \n",
    "BREAKDOWN_CHANCE = 0.05 # Recommended: 0.05 = 5%\n",
    "EPISODES = 1200 # Train for N episodes. # Suggested 600\n",
    "MILLING_OPERATIONS_MAX = 1100 # Suggested 300\n",
    "\n",
    "if ADD_NOISE == 1e3 and BREAKDOWN_CHANCE == 0.05:\n",
    "    lnoise = 'LowNBD'\n",
    "elif ADD_NOISE == 1e2  and BREAKDOWN_CHANCE == 0.10:\n",
    "    lnoise = 'HighNBD'\n",
    "elif ADD_NOISE <= 0 and BREAKDOWN_CHANCE == 0:\n",
    "    lnoise = 'NoNBD'\n",
    "else:\n",
    "    lnoise = 'ArbNBD'\n",
    "\n",
    "VERSION = f'PHM-C04_{lnoise}_{WEAR_THRESHOLD}_{EPISODES}_{MILLING_OPERATIONS_MAX}'\n",
    "\n",
    "###########################################################################################################################\n",
    "\n",
    "METRICS_METHOD = 'weighted' # average method = {‘micro’, ‘macro’, ‘samples’, ‘weighted’, ‘binary’} \n",
    "TEST_INFO = 'Sampled from training data'\n",
    "TEST_CASES = 40\n",
    "TEST_ROUNDS = 5\n",
    "# Milling operation constants\n",
    "WEAR_THRESHOLD_NORMALIZED = 0.0 # normalized to the max wear threshold\n",
    "\n",
    "\n",
    "# Policy network learning parameters\n",
    "gamma = 0.99\n",
    "alpha = 0.01\n",
    "\n",
    "RESULTS_FOLDER = 'results/15-May-2023'\n",
    "CONSOLIDATED_METRICS_FILE = f'{RESULTS_FOLDER}/CONSOLIDATED_METRICS.csv'\n",
    "RESULTS_FILE = f'{RESULTS_FOLDER}/{VERSION}_test_results_{dt_d}_{dt_m}.csv'\n",
    "METRICS_FILE = f'{RESULTS_FOLDER}/{VERSION}_metrics.csv'\n",
    "\n",
    "# RESULTS_FILE = f'results/13-May-2023/{VERSION}_test_results_{dt_d}-{dt_m}.csv'\n",
    "# METRICS_FILE = f'results/13-May-2023/{VERSION}_metrics_{dt_d}-{dt_m}.csv'\n",
    "\n",
    "print('\\n -- Columns added to results file ', RESULTS_FILE)\n",
    "results = ['Date', 'Time', 'Round', 'Environment', 'Training_data', 'Wear_Threshold', 'Test_data', 'Algorithm', 'Episodes', 'Normal_cases', 'Normal_error', \n",
    "           'Replace_cases', 'Replace_error', 'Overall_error', \n",
    "           'Wtd_Precision', 'Wtd_Recall', 'F_Beta_0_5', 'F_Beta_0_75', 'F_1_Score']\n",
    "write_test_results(results, RESULTS_FILE)"
   ]
  },
  {
   "cell_type": "code",
   "execution_count": 4,
   "id": "4269138f-d24a-4211-bf97-a4cfcc6606f0",
   "metadata": {},
   "outputs": [
    {
     "name": "stdout",
     "output_type": "stream",
     "text": [
      "Tool wear data imported (348 records). WEAR_THRESHOLD_NORMALIZED: 0.413 \n",
      "\n",
      "\n"
     ]
    },
    {
     "data": {
      "image/png": "[encoded data removed]",
      "text/plain": [
       "<Figure size 800x320 with 2 Axes>"
      ]
     },
     "metadata": {},
     "output_type": "display_data"
    }
   ],
   "source": [
    "## Read data\n",
    "df = pd.read_csv(DATA_FILE)\n",
    "    \n",
    "# Normalizing entire df with min-max scaling\n",
    "WEAR_MIN = df['tool_wear'].min() \n",
    "WEAR_MAX = df['tool_wear'].max()\n",
    "WEAR_THRESHOLD_NORMALIZED = (WEAR_THRESHOLD-WEAR_MIN)/(WEAR_MAX-WEAR_MIN)\n",
    "df_normalized = (df-df.min())/(df.max()-df.min())\n",
    "df_normalized['ACTION_CODE'] = df['ACTION_CODE']\n",
    "print(f'Tool wear data imported ({len(df.index)} records). WEAR_THRESHOLD_NORMALIZED: {WEAR_THRESHOLD_NORMALIZED:4.3f} \\n\\n')\n",
    "\n",
    "# Visualize the data\n",
    "# df.plot(figsize = (10, 6))\n",
    "n_records = len(df.index)\n",
    "x = [n for n in range(n_records)]\n",
    "y1 = df['tool_wear'].values.tolist()\n",
    "y2 = df['ACTION_CODE'].values.tolist()\n",
    "wear_plot = f'{RESULTS_FOLDER}/{VERSION}_plot.png'\n",
    "two_axes_plot(x, y1, y2, title='Tool Wear (mm) data', x_label='Time', \n",
    "              y1_label='Tool Wear (mm)', y2_label='Action code (1=Replace)', xticks=20, file=wear_plot, threshold=WEAR_THRESHOLD)"
   ]
  },
  {
   "cell_type": "markdown",
   "id": "0e16d7b2-582e-4eb7-aeb6-1aa07c9f062a",
   "metadata": {},
   "source": [
    "## Milling Tool Environment - \n",
    "1. MillingTool_SS: Single state: tool_wear and time\n",
    "2. MillingTool_MS: Multie-state: force_x; force_y; force_z; vibration_x; vibration_y; vibration_z; acoustic_emission_rms; tool_wear\n",
    "- Note: ACTION_CODE is only used for evaluation later (testing phase) and is NOT passed as part of the environment states"
   ]
  },
  {
   "cell_type": "code",
   "execution_count": 5,
   "id": "8b84d0ac-c279-4234-9c6a-38e8b7fe46df",
   "metadata": {
    "tags": []
   },
   "outputs": [
    {
     "name": "stdout",
     "output_type": "stream",
     "text": [
      "\n",
      "** -- MULTI-VARIABLE STATE. Noise: 1000.0. Break-down chance: 0.05 -- **\n",
      "\n"
     ]
    }
   ],
   "source": [
    "env = MillingTool_MS(df_normalized, WEAR_THRESHOLD_NORMALIZED, MILLING_OPERATIONS_MAX, ADD_NOISE, BREAKDOWN_CHANCE)"
   ]
  },
  {
   "cell_type": "markdown",
   "id": "72084a8c-a494-4add-adcd-c9b26eaff5b0",
   "metadata": {},
   "source": [
    "## REINFORCE RL Algorithm"
   ]
  },
  {
   "cell_type": "code",
   "execution_count": null,
   "id": "f9395ab9-3a67-4329-b051-9675216294a9",
   "metadata": {
    "tags": []
   },
   "outputs": [
    {
     "name": "stdout",
     "output_type": "stream",
     "text": [
      "[0000] Loss:  -2.07e+03 | Reward:  -3.04e+01 | Ep.length: 1100\n",
      "[0100] Loss:  -2.55e+03 | Reward:  -4.26e+01 | Ep.length: 1100\n",
      "[0200] Loss:  -2.16e+03 | Reward:  -3.17e+01 | Ep.length: 1100\n"
     ]
    }
   ],
   "source": [
    "### Main loop\n",
    "rewards_history = []\n",
    "loss_history = []\n",
    "training_stats = []\n",
    "\n",
    "input_dim = env.observation_space.shape[0]\n",
    "output_dim = env.action_space.n\n",
    "\n",
    "agent_RF = Agent(input_dim, output_dim, alpha, gamma)\n",
    "\n",
    "for episode in range(EPISODES):\n",
    "    state = env.reset()\n",
    "\n",
    "    # Sample a trajectory\n",
    "    for t in range(MILLING_OPERATIONS_MAX): # Max. milling operations desired\n",
    "        action = agent_RF.act(state)\n",
    "        state, reward, done, info = env.step(action)\n",
    "        agent_RF.rewards.append(reward)\n",
    "        #env.render()\n",
    "        if done:\n",
    "            # print('** DONE **', info)\n",
    "            break\n",
    "\n",
    "    # Learn during this episode \n",
    "    loss = agent_RF.learn() # train per episode\n",
    "    total_reward = sum(agent_RF.rewards)\n",
    "\n",
    "    # Record statistics for this episode\n",
    "    rewards_history.append(total_reward)\n",
    "    loss_history.append(loss.item()) # Extract values from list of torch items for plotting\n",
    "\n",
    "    # On-policy - so discard all data \n",
    "    agent_RF.onpolicy_reset()\n",
    "\n",
    "    if (episode%100 ==0):\n",
    "         print(f'[{episode:04d}] Loss: {loss:>10.2e} | Reward: {total_reward:>10.2e} | Ep.length: {env.ep_length:04d}')"
   ]
  },
  {
   "cell_type": "code",
   "execution_count": null,
   "id": "c3c60e56-6f76-4caf-b199-f9f9130a8264",
   "metadata": {
    "tags": []
   },
   "outputs": [],
   "source": [
    "x = [i for i in range(EPISODES)]\n",
    "\n",
    "## Moving average for rewards\n",
    "ma_window_size = 10\n",
    "# # Convert error array to pandas series\n",
    "rewards = pd.Series(rewards_history)\n",
    "windows = rewards.rolling(ma_window_size)\n",
    "moving_avg = windows.mean()\n",
    "moving_avg_lst = moving_avg.tolist()\n",
    "y1 = rewards\n",
    "y2 = moving_avg_lst\n",
    "\n",
    "filename = f'{RESULTS_FOLDER}/{VERSION}_Avg_episode_rewards.png'\n",
    "two_variable_plot(x, y1, y2, 'Avg. rewards per episode', VERSION, 'Episode', 'Avg. Rewards', 'Moving Avg.', 50, filename)\n",
    "\n",
    "# plot_error_bounds(x, y1)\n",
    "\n",
    "filename = f'{RESULTS_FOLDER}/{VERSION}_Episode_Length.png'\n",
    "single_axes_plot(x, env.ep_length_history, 'Episode length', VERSION, 'Episode', 'No of milling operations', 50, 0.0, filename)\n",
    "\n",
    "filename = f'{RESULTS_FOLDER}/{VERSION}_Tool_Replacements.png' \n",
    "single_axes_plot(x, env.ep_tool_replaced_history, 'Tool replacements per episode', VERSION, 'Episode', 'Replacements', 50, 0.0, filename)\n"
   ]
  },
  {
   "cell_type": "code",
   "execution_count": null,
   "id": "72ac8e11-523a-4111-9aeb-05acf5393dd4",
   "metadata": {},
   "outputs": [],
   "source": [
    "# Process results\n",
    "# eps = [i for i in range(EPISODES)]\n",
    "# store_results(RF_TRAINING_FILE, training_round, eps, rewards_history, env.ep_tool_replaced_history)\n",
    "print('\\n === REINFORCE model trained ===\\n')\n",
    "print(80*'-')\n",
    "print(f'Algorithm\\tNormal\\terr.%\\tReplace\\terr.%\\tOverall err.%')\n",
    "print(80*'-')\n",
    "for test_round in range(TEST_ROUNDS):\n",
    "    # Create test cases\n",
    "    test_cases = np.random.choice(env.df_length-1, TEST_CASES, replace=False)\n",
    "    results = test_script(METRICS_METHOD, test_round, df_normalized, 'REINFORCE', EPISODES, env, ENVIRONMENT_INFO, agent_RF, \n",
    "                          test_cases, TEST_INFO, DATA_FILE, WEAR_THRESHOLD, RESULTS_FILE)\n",
    "    write_test_results(results, RESULTS_FILE)\n",
    "    \n",
    "print(f'\\n- Test results written to file: {RESULTS_FILE}')"
   ]
  },
  {
   "cell_type": "markdown",
   "id": "63bee41b-1cfe-4dc2-afb4-d1f0a3bd8318",
   "metadata": {},
   "source": [
    "## Stable-Baselines Algorithms"
   ]
  },
  {
   "cell_type": "code",
   "execution_count": null,
   "id": "7d6c629b-ef55-4ecc-bff7-98dc2c924b80",
   "metadata": {},
   "outputs": [],
   "source": [
    "from stable_baselines3.common.vec_env import DummyVecEnv\n",
    "from stable_baselines3 import A2C, PPO, DQN"
   ]
  },
  {
   "cell_type": "code",
   "execution_count": null,
   "id": "8ac6bae0-24c8-49f4-beb0-3f6ac95a5c4f",
   "metadata": {
    "tags": []
   },
   "outputs": [],
   "source": [
    "algos = ['A2C','DQN','PPO']\n",
    "\n",
    "SB_agents = []\n",
    "\n",
    "for SB_ALGO in algos:\n",
    "    if SB_ALGO.upper() == 'A2C': agent_SB = A2C('MlpPolicy', env)\n",
    "    if SB_ALGO.upper() == 'DQN': agent_SB = DQN('MlpPolicy', env)\n",
    "    if SB_ALGO.upper() == 'PPO': agent_SB = PPO('MlpPolicy', env)\n",
    "    \n",
    "    print(f'\\n{SB_ALGO} - Training and Testing Stable-Baselines-3 {SB_ALGO} algorithm')\n",
    "    agent_SB.learn(total_timesteps=EPISODES)\n",
    "\n",
    "    SB_agents.append(agent_SB)\n",
    "    print(agent_SB)"
   ]
  },
  {
   "cell_type": "code",
   "execution_count": null,
   "id": "7b18416d-5554-470b-b0a8-3fc92cb79405",
   "metadata": {
    "tags": []
   },
   "outputs": [],
   "source": [
    "n = 0\n",
    "for agent_SB in SB_agents:\n",
    "    print(f'\\n\\n - Testing Stable-Baselines-3 {agent_SB}')\n",
    "    print(80*'-')\n",
    "    print(f'Algo.\\tNormal\\tErr.%\\tReplace\\tErr.%\\tOverall err.%')\n",
    "    print(80*'-')\n",
    "    for test_round in range(TEST_ROUNDS):\n",
    "        # Create test cases\n",
    "        test_cases = np.random.choice(env.df_length-1, TEST_CASES, replace=False)\n",
    "        results = test_script(METRICS_METHOD, test_round, df_normalized, algos[n], EPISODES, env, ENVIRONMENT_INFO, \n",
    "                              agent_SB, test_cases, TEST_INFO, DATA_FILE, WEAR_THRESHOLD, RESULTS_FILE)\n",
    "        write_test_results(results, RESULTS_FILE)\n",
    "    n += 1"
   ]
  },
  {
   "cell_type": "markdown",
   "id": "06c3a3f2-22eb-44b3-9210-c8f5d62ec781",
   "metadata": {},
   "source": [
    "### Create a consolidated algorithm wise metrics summary"
   ]
  },
  {
   "cell_type": "code",
   "execution_count": null,
   "id": "eaee1d27-cd9c-421f-b341-83f2971c0ba0",
   "metadata": {},
   "outputs": [],
   "source": [
    "print(80*'-', f'\\n Algorithm level consolidated metrics being reported to file:\\n {METRICS_FILE}\\n', 80*'-')\n",
    "\n",
    "header_columns = [VERSION]\n",
    "write_test_results(header_columns, METRICS_FILE)\n",
    "header_columns = ['Date', 'Time', 'Environment', 'Noise', 'Breakdown_chance', 'Train_data', 'Wear threshold', 'Episodes', 'Terminate on',\n",
    "                  'Test_info', 'Test_cases', 'Metrics_method']\n",
    "write_test_results(header_columns, METRICS_FILE)\n",
    "\n",
    "dt_t = dt.strftime('%H:%M:%S')\n",
    "noise_info = 'None' if ADD_NOISE == 0 else (1/ADD_NOISE)\n",
    "header_info = [dt_d, dt_t, ENVIRONMENT_INFO, noise_info, BREAKDOWN_CHANCE, DATA_FILE, WEAR_THRESHOLD, EPISODES, MILLING_OPERATIONS_MAX, TEST_INFO, TEST_CASES, METRICS_METHOD]\n",
    "write_test_results(header_info, METRICS_FILE)\n",
    "write_test_results([], METRICS_FILE) # leave a blank line\n",
    "\n",
    "print('- Experiment related meta info written')\n",
    "\n",
    "df_algo_results = pd.read_csv(RESULTS_FILE)\n",
    "algo_metrics = compute_metrics_simple(df_algo_results)\n",
    "algo_metrics_all = compute_metrics(df_algo_results)\n",
    "\n",
    "write_metrics_report(algo_metrics, METRICS_FILE, 4)\n",
    "write_test_results([], METRICS_FILE) # leave a blank line\n",
    "print('- Algorithm level consolidated metrics reported to file')\n",
    "\n",
    "## ------------------------------------------------------------------------------------------\n",
    "write_test_results(header_info, CONSOLIDATED_METRICS_FILE)\n",
    "write_test_results([], CONSOLIDATED_METRICS_FILE) # leave a blank line\n",
    "write_test_results(header_columns, CONSOLIDATED_METRICS_FILE)\n",
    "write_metrics_report(algo_metrics_all, CONSOLIDATED_METRICS_FILE, 4)\n",
    "write_test_results([120*'-'], CONSOLIDATED_METRICS_FILE) # leave a blank line\n",
    "print(f'- {CONSOLIDATED_METRICS_FILE} file updated')\n",
    "print('\\n\\n ================= END OF PROGRAM =================')"
   ]
  },
  {
   "cell_type": "code",
   "execution_count": null,
   "id": "2b13f40b-f142-421e-a8b0-e9a1dd5403b3",
   "metadata": {
    "tags": []
   },
   "outputs": [],
   "source": [
    "algo_metrics"
   ]
  },
  {
   "cell_type": "code",
   "execution_count": null,
   "id": "de677eb1-6434-407c-92e7-7d1f5741c1a2",
   "metadata": {
    "tags": []
   },
   "outputs": [],
   "source": [
    "WEAR_THRESHOLD, ADD_NOISE, BREAKDOWN_CHANCE, EPISODES, MILLING_OPERATIONS_MAX"
   ]
  },
  {
   "cell_type": "code",
   "execution_count": null,
   "id": "f6b5b5c7-42a8-433f-a2a8-b0efadbbf2d4",
   "metadata": {
    "tags": []
   },
   "outputs": [],
   "source": [
    "DATA_FILE"
   ]
  },
  {
   "cell_type": "code",
   "execution_count": null,
   "id": "99e6e177-fb34-4e31-af0b-4ea03b912929",
   "metadata": {},
   "outputs": [],
   "source": []
  }
 ],
 "metadata": {
  "kernelspec": {
   "display_name": "RL",
   "language": "python",
   "name": "rl"
  },
  "language_info": {
   "codemirror_mode": {
    "name": "ipython",
    "version": 3
   },
   "file_extension": ".py",
   "mimetype": "text/x-python",
   "name": "python",
   "nbconvert_exporter": "python",
   "pygments_lexer": "ipython3",
   "version": "3.9.1"
  }
 },
 "nbformat": 4,
 "nbformat_minor": 5
}
