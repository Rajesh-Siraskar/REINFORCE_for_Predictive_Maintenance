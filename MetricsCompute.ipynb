{
 "cells": [
  {
   "cell_type": "markdown",
   "id": "2927359f-a9e3-4659-ba9c-4e45f107ce80",
   "metadata": {},
   "source": [
    "## Compute Metrics"
   ]
  },
  {
   "cell_type": "code",
   "execution_count": 2,
   "id": "0f3c4260-6444-448c-a0f7-f996707aadd3",
   "metadata": {
    "tags": []
   },
   "outputs": [],
   "source": [
    "import pandas as pd\n",
    "import utilities\n",
    "from utilities import compute_metrics, compute_metrics_simple, write_metrics_report, store_results, write_test_results"
   ]
  },
  {
   "cell_type": "code",
   "execution_count": 4,
   "id": "d9992d52-c57b-4618-8f27-dc84f8758310",
   "metadata": {
    "tags": []
   },
   "outputs": [
    {
     "name": "stdout",
     "output_type": "stream",
     "text": [
      "-------------------------------------------------------------------------------- \n",
      " Algorithm level consolidated metrics being reported to file:\n",
      " Test.csv\n",
      " --------------------------------------------------------------------------------\n"
     ]
    }
   ],
   "source": [
    "RESULTS_FILE = 'PHM_C01_MS_1000_800_0.12_100.0_0.1_test_results_14-May-2023-05.csv'\n",
    "METRICS_FILE = 'Test.csv'\n",
    "print(80*'-', f'\\n Algorithm level consolidated metrics being reported to file:\\n {METRICS_FILE}\\n', 80*'-')\n",
    "\n",
    "df_algo_results = pd.read_csv(RESULTS_FILE)\n",
    "\n",
    "header_columns = ['Date', 'Time', 'Environment', 'Noise', 'Breakdown_chance', 'Train_data', 'Wear threshold', 'Episodes',\n",
    "                  'Test_info', 'Test_cases', 'Metrics_method']\n",
    "write_test_results(header_columns, METRICS_FILE)\n",
    "\n",
    "algo_metrics = compute_metrics(df_algo_results)\n",
    "write_metrics_report(algo_metrics, METRICS_FILE, 4)\n",
    "print('Done')"
   ]
  },
  {
   "cell_type": "code",
   "execution_count": null,
   "id": "24745aa2-1a5d-4300-885d-a9a8c3e11ba2",
   "metadata": {},
   "outputs": [],
   "source": []
  }
 ],
 "metadata": {
  "kernelspec": {
   "display_name": "RL",
   "language": "python",
   "name": "rl"
  },
  "language_info": {
   "codemirror_mode": {
    "name": "ipython",
    "version": 3
   },
   "file_extension": ".py",
   "mimetype": "text/x-python",
   "name": "python",
   "nbconvert_exporter": "python",
   "pygments_lexer": "ipython3",
   "version": "3.9.1"
  }
 },
 "nbformat": 4,
 "nbformat_minor": 5
}
