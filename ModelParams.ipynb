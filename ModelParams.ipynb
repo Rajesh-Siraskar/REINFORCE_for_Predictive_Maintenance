{
 "cells": [
  {
   "cell_type": "code",
   "execution_count": 1,
   "id": "15611aa6-8c11-47dd-83e3-e0a33417e3ae",
   "metadata": {
    "tags": []
   },
   "outputs": [],
   "source": [
    "import pickle\n",
    "\n",
    "# RF_Model_Dasic_LowNBD.mdl\n",
    "# RF_Model_Dasic_NoNBD.mdl\n",
    "# RF_Model_Dasic_HighNBD.mdl\n",
    "# RF_Model_PHM_C01_MS_NoNBD.mdl\n",
    "# RF_Model_PHM_C01_SS_HighNBD.mdl\n",
    "# RF_Model_PHM_C01_SS_LowNBD.mdl\n",
    "# RF_Model_PHM_C01_SS_NoNBD.mdl\n",
    "# RF_Model_PHM_C04_MS_NoNBD.mdl\n",
    "# RF_Model_PHM_C04_SS_HighNBD.mdl\n",
    "# RF_Model_PHM_C04_SS_LowNBD.mdl\n",
    "# RF_Model_PHM_C04_SS_NoNBD.mdl\n",
    "# RF_Model_PHM_C06_MS_NoNBD.mdl\n",
    "# RF_Model_PHM_C06_SS_HighNBD.mdl\n",
    "# RF_Model_PHM_C06_SS_LowNBD.mdl\n",
    "# RF_Model_PHM_C06_SS_NoNBD.mdl"
   ]
  },
  {
   "cell_type": "code",
   "execution_count": 8,
   "id": "40add16b-75f3-4fb2-9ada-990d8a2b3dba",
   "metadata": {
    "tags": []
   },
   "outputs": [],
   "source": [
    "files = ['RF_Model_Dasic_LowNBD.mdl', 'RF_Model_Dasic_NoNBD.mdl', 'RF_Model_Dasic_HighNBD.mdl',\n",
    "         'RF_Model_PHM_C01_MS_NoNBD.mdl', 'RF_Model_PHM_C01_SS_HighNBD.mdl', 'RF_Model_PHM_C01_SS_LowNBD.mdl',\n",
    "         'RF_Model_PHM_C01_SS_NoNBD.mdl', 'RF_Model_PHM_C04_MS_NoNBD.mdl', 'RF_Model_PHM_C04_SS_HighNBD.mdl',\n",
    "         'RF_Model_PHM_C04_SS_LowNBD.mdl', 'RF_Model_PHM_C04_SS_NoNBD.mdl', 'RF_Model_PHM_C06_MS_NoNBD.mdl',\n",
    "         'RF_Model_PHM_C06_SS_HighNBD.mdl', 'RF_Model_PHM_C06_SS_LowNBD.mdl', 'RF_Model_PHM_C06_SS_NoNBD.mdl']"
   ]
  },
  {
   "cell_type": "code",
   "execution_count": 9,
   "id": "fa7b713d-7d90-419f-a8ab-15eea86af6e9",
   "metadata": {
    "tags": []
   },
   "outputs": [
    {
     "name": "stdout",
     "output_type": "stream",
     "text": [
      "\n",
      " RF_Model_Dasic_LowNBD.mdl:\n",
      "{'R1': 1, 'R2': -1, 'R3': -100, 'WEAR_THRESHOLD': 3, 'THRESHOLD_FACTOR': 1, 'ADD_NOISE': 1000.0, 'BREAKDOWN_CHANCE': 0.05, 'EPISODES': 800, 'MILLING_OPERATIONS_MAX': 121}\n",
      "\n",
      " RF_Model_Dasic_NoNBD.mdl:\n",
      "{'R1': 1, 'R2': -1, 'R3': -100, 'WEAR_THRESHOLD': 3, 'THRESHOLD_FACTOR': 1, 'ADD_NOISE': 0.0, 'BREAKDOWN_CHANCE': 0.0, 'EPISODES': 800, 'MILLING_OPERATIONS_MAX': 121}\n",
      "\n",
      " RF_Model_Dasic_HighNBD.mdl:\n",
      "{'R1': 1, 'R2': -1, 'R3': -100, 'WEAR_THRESHOLD': 3, 'THRESHOLD_FACTOR': 1, 'ADD_NOISE': 100.0, 'BREAKDOWN_CHANCE': 0.1, 'EPISODES': 800, 'MILLING_OPERATIONS_MAX': 121}\n",
      "\n",
      " RF_Model_PHM_C01_MS_NoNBD.mdl:\n",
      "{'R1': 1, 'R2': -1, 'R3': -40, 'WEAR_THRESHOLD': 0.12, 'THRESHOLD_FACTOR': 0.925, 'ADD_NOISE': 0, 'BREAKDOWN_CHANCE': 0, 'EPISODES': 800, 'MILLING_OPERATIONS_MAX': 348}\n",
      "\n",
      " RF_Model_PHM_C01_SS_HighNBD.mdl:\n",
      "{'R1': 1, 'R2': -1, 'R3': -40, 'WEAR_THRESHOLD': 0.12, 'THRESHOLD_FACTOR': 0.85, 'ADD_NOISE': 100.0, 'BREAKDOWN_CHANCE': 0.1, 'EPISODES': 800, 'MILLING_OPERATIONS_MAX': 348}\n",
      "\n",
      " RF_Model_PHM_C01_SS_LowNBD.mdl:\n",
      "{'R1': 1, 'R2': -1, 'R3': -100, 'WEAR_THRESHOLD': 0.12, 'THRESHOLD_FACTOR': 0.9, 'ADD_NOISE': 1000.0, 'BREAKDOWN_CHANCE': 0.05, 'EPISODES': 800, 'MILLING_OPERATIONS_MAX': 348}\n",
      "\n",
      " RF_Model_PHM_C01_SS_NoNBD.mdl:\n",
      "{'R1': 1, 'R2': -2, 'R3': -40, 'WEAR_THRESHOLD': 0.12, 'THRESHOLD_FACTOR': 0.95, 'ADD_NOISE': 0.0, 'BREAKDOWN_CHANCE': 0.0, 'EPISODES': 800, 'MILLING_OPERATIONS_MAX': 348}\n",
      "\n",
      " RF_Model_PHM_C04_MS_NoNBD.mdl:\n",
      "{'R1': 1, 'R2': -1, 'R3': -50, 'WEAR_THRESHOLD': 0.098, 'THRESHOLD_FACTOR': 0.85, 'ADD_NOISE': 0, 'BREAKDOWN_CHANCE': 0, 'EPISODES': 800, 'MILLING_OPERATIONS_MAX': 348}\n",
      "\n",
      " RF_Model_PHM_C04_SS_HighNBD.mdl:\n",
      "{'R1': 1, 'R2': -1, 'R3': -100, 'WEAR_THRESHOLD': 0.098, 'THRESHOLD_FACTOR': 0.9, 'ADD_NOISE': 100, 'BREAKDOWN_CHANCE': 0.1, 'EPISODES': 800, 'MILLING_OPERATIONS_MAX': 348}\n",
      "\n",
      " RF_Model_PHM_C04_SS_LowNBD.mdl:\n",
      "{'R1': 1, 'R2': -1, 'R3': -40, 'WEAR_THRESHOLD': 0.098, 'THRESHOLD_FACTOR': 0.85, 'ADD_NOISE': 1000.0, 'BREAKDOWN_CHANCE': 0.05, 'EPISODES': 800, 'MILLING_OPERATIONS_MAX': 348}\n",
      "\n",
      " RF_Model_PHM_C04_SS_NoNBD.mdl:\n",
      "{'R1': 1, 'R2': -1, 'R3': -40, 'WEAR_THRESHOLD': 0.098, 'THRESHOLD_FACTOR': 0.95, 'ADD_NOISE': 0.0, 'BREAKDOWN_CHANCE': 0.0, 'EPISODES': 800, 'MILLING_OPERATIONS_MAX': 348}\n",
      "\n",
      " RF_Model_PHM_C06_MS_NoNBD.mdl:\n",
      "{'R1': 1, 'R2': -1, 'R3': -40, 'WEAR_THRESHOLD': 0.13, 'THRESHOLD_FACTOR': 0.925, 'ADD_NOISE': 0, 'BREAKDOWN_CHANCE': 0, 'EPISODES': 800, 'MILLING_OPERATIONS_MAX': 348}\n",
      "\n",
      " RF_Model_PHM_C06_SS_HighNBD.mdl:\n",
      "{'R1': 1, 'R2': -1, 'R3': -40, 'WEAR_THRESHOLD': 0.13, 'THRESHOLD_FACTOR': 0.9, 'ADD_NOISE': 100, 'BREAKDOWN_CHANCE': 0.1, 'EPISODES': 800, 'MILLING_OPERATIONS_MAX': 348}\n",
      "\n",
      " RF_Model_PHM_C06_SS_LowNBD.mdl:\n",
      "{'R1': 1, 'R2': -1, 'R3': -40, 'WEAR_THRESHOLD': 0.13, 'THRESHOLD_FACTOR': 0.95, 'ADD_NOISE': 1000, 'BREAKDOWN_CHANCE': 0.05, 'EPISODES': 800, 'MILLING_OPERATIONS_MAX': 348}\n",
      "\n",
      " RF_Model_PHM_C06_SS_NoNBD.mdl:\n",
      "{'R1': 1, 'R2': -1, 'R3': -40, 'WEAR_THRESHOLD': 0.13, 'THRESHOLD_FACTOR': 0.95, 'ADD_NOISE': 0, 'BREAKDOWN_CHANCE': 0.0, 'EPISODES': 800, 'MILLING_OPERATIONS_MAX': 348}\n"
     ]
    }
   ],
   "source": [
    "for file in files:\n",
    "    filepath = f'D:/Rajesh/ResearchLab/RL_for_PdM/REINFORCE_Tool_Replace_Policy/models/{file}'\n",
    "    model = pickle.load(open(filepath, 'rb'))\n",
    "    print(f'\\n {file}:')\n",
    "    print(model.model_parameters)"
   ]
  }
 ],
 "metadata": {
  "kernelspec": {
   "display_name": "RL",
   "language": "python",
   "name": "rl"
  },
  "language_info": {
   "codemirror_mode": {
    "name": "ipython",
    "version": 3
   },
   "file_extension": ".py",
   "mimetype": "text/x-python",
   "name": "python",
   "nbconvert_exporter": "python",
   "pygments_lexer": "ipython3",
   "version": "3.9.1"
  }
 },
 "nbformat": 4,
 "nbformat_minor": 5
}
