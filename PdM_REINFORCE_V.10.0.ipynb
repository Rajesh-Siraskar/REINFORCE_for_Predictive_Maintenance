{
 "cells": [
  {
   "cell_type": "markdown",
   "id": "b3c15c68-04b6-4591-9e1d-9c232b135cc0",
   "metadata": {
    "tags": []
   },
   "source": [
    "## Milling Tool Wear Maintenance Policy using the REINFORCE algorithm\n",
    "\n",
    "- Ver. 4.1: 01-May-2023 - Improved plots\n",
    "- Ver. 4.5: 01-May-2023 - Add Stable-Baselines algo.\n",
    "- Ver. 4.6: 02-May-2023 - Expt RF vs SB-3 PPO, scaled rewards: 1/10^6 \n",
    "- Ver. 4.8: 06-May-2023 - Auto run SB3 algos.\n",
    "- Ver. 5.0: 06-May-2023 - Re-factor. Functions conversions to enable test runs.\n",
    "- Ver. 5.1: 07-May-2023 - PPO behaviour. For SB-3 models, correct test set reshuffle and retraining of models everytime \n",
    "- Ver. 5.2: 07-May-2023 - Test cases sample 40 (constant) and _without_ replacement\n",
    "- Ver. 5.3: 08-May-2023 - Do not sort Test cases. Possible cause of trends in ppo?\n",
    "- Ver. 6.0: 08-May-2023 - Train once, save model, test multiple times. Block storing of model training progress\n",
    "- Ver. 6.1: 08-May-2023 - Add pr., rc., f1 scores\n",
    "- Ver. 6.2: 08-May-2023 - Fix div. by zero warnings\n",
    "- Ver. 7.0: 09-May-2023 - Introduced two functions to compute algo. level aggregated metrics and save to a file\n",
    "- Ver. 7.5: 10-May-2023 - Adapt for PHM data. Columns cloned in PHM original data: ```timestamp -> time,  tool_wear -> VB_mm, New added column -> ACTION_CODE```\n",
    "- Ver. 8.0: 10-May-2023 - PHM data - 3 tests\n",
    "- Ver. 8.1: 11-May-2023 - Towards complex env. state. Remove VB_mm etc. Adapt to PHM naming\n",
    "- Ver. 8.2: 12-May-2023 - Add F1 along with F1-Beta\n",
    "- Ver. 8.3: 12-May-2023 - **** MAJOR BUG. Pr. Rc computed in for loop rather than outside. Add Beta for F1-Beta for higher precision = lower FP = lower \"replace\" errors\n",
    "- Ver. 8.4: 12-May-2023 - Added metrics method control. Default is \"weigthed\"\n",
    "- Ver. 8.5: 12-May-2023 - Reward signal modified - penalty for replacements increased from -100 to -150\n",
    "- Ver. 8.6: 13-May-2023 - Revise code to work with both Simple and Complex envs. Test with PHM DATA C01, with noise\n",
    "- Ver. 8.7: 13-May-2023 - Re-run all experiments\n",
    "- Ver. 8.8: 13-May-2023 - (Network arch improved for PolicyNetwork.) Redcued back to basic \n",
    "- Ver. 8.9: 15-May-2023 - Rename report and plot files as PHM-C01_LowNBD_WT_N_BD_Ep_Terminate, Sim_NoNBD_WT_N_BD_Ep_Terminate. Add sub-titles to plots.\n",
    "- Ver. 8.91: 16-May-2023 - Stable version. Reward signal: V.3.96. +1*indx, -1.2*idx and -4.0. Best RF. F1=0.540. Normal err=0.16. Rep. err:0.69\n",
    "- Ver. 8.92: Env: V.3.97 Reward . +1*indx, -1.2*idx and -3.0 > Err switched. Normal: 1.00 Rep.=0.00\t\n",
    "- 8.93: repl penalty = abs(wear-threshold)  << BEST\n",
    "- 8.94: TRY 0.5*abs(wear-threshold)\n",
    "- 9.0: MillingEnv added _MS_V2 to take in R1, R2 and R3 reward signal parameters\n",
    "- 9.1 read data and split into train - test, apply ACTION_CODE based on threshold and apply training on 85% Threshold \n",
    "- 10.0 - Noise addded to tool_wear outside of environment. Major revision. Action impacted by noise. Noise displayed in visual tool wear plot. "
   ]
  },
  {
   "cell_type": "code",
   "execution_count": 440,
   "id": "f8c941c0-893c-45f4-9a5f-e06ac2d56aea",
   "metadata": {},
   "outputs": [],
   "source": [
    "import numpy as np\n",
    "import pandas as pd\n",
    "\n",
    "import milling_tool_environment\n",
    "import utilities\n",
    "from milling_tool_environment import MillingTool_SS_V3, MillingTool_MS_V3\n",
    "from utilities import compute_metrics, compute_metrics_simple, write_metrics_report, store_results, plot_learning_curve, single_axes_plot, lnoise\n",
    "from utilities import two_axes_plot, two_variable_plot, plot_error_bounds, test_script, write_test_results, downsample\n",
    "from reinforce_classes import PolicyNetwork, Agent\n",
    "\n",
    "import datetime\n",
    "dt = datetime.datetime.now()\n",
    "dt_d = dt.strftime('%d-%b-%Y')\n",
    "dt_t = dt.strftime('%H_%M_%S')\n",
    "dt_m = dt.strftime('%H%M')"
   ]
  },
  {
   "cell_type": "code",
   "execution_count": 441,
   "id": "e493bdc6-a811-4476-bcdb-1065e2870d35",
   "metadata": {},
   "outputs": [],
   "source": [
    "import importlib\n",
    "importlib.reload(milling_tool_environment)\n",
    "importlib.reload(utilities)\n",
    "from milling_tool_environment import MillingTool_SS, MillingTool_MS\n",
    "\n",
    "# import gc\n",
    "# del [df, df_normalized, df_train, df_test]\n",
    "# gc.collect()"
   ]
  },
  {
   "cell_type": "code",
   "execution_count": 442,
   "id": "0a3aa957-635a-41c4-a6c5-cabd14a9e6d1",
   "metadata": {
    "tags": []
   },
   "outputs": [
    {
     "name": "stdout",
     "output_type": "stream",
     "text": [
      "\n",
      " -- Columns added to results file  results/20-May-2023/PHM-MS-C01_Repl_p10_LowNBD_0.12_800_348_test_results_21-May-2023_2017.csv\n"
     ]
    }
   ],
   "source": [
    "## PHM_Tool_Wear_Data_C01_0p12.csv\n",
    "## PHM_Tool_Wear_Data_C04_0p098.csv\n",
    "## PHM_Tool_Wear_Data_C06_0p13.csv\n",
    "ENVIRONMENT_INFO = 'PHM 2006. MULTI-variate state V3.'\n",
    "DATA_FILE = 'data\\PHM_Tool_Wear_Data_C01_0p12.csv'\n",
    "R1, R2, R3 = 1.0, -1.0, 15.0 # last rep  +10\n",
    "WEAR_THRESHOLD = 0.12 # mm\n",
    "THRESHOLD_FACTOR = 0.90\n",
    "ADD_NOISE = 1e3 # 0 for no noise. Factor to apply on np.random.rand(). For e.g. 1e2 or 1e3 are factors for higher and lower noise. \n",
    "BREAKDOWN_CHANCE = 0.05 # Recommended: 0.05 = 5%\n",
    "EPISODES = 800 # Train for N episodes. # Suggested 600\n",
    "\n",
    "## Read data\n",
    "df = pd.read_csv(DATA_FILE)\n",
    "n_records = len(df.index)\n",
    "MILLING_OPERATIONS_MAX = 348\n",
    "# MILLING_OPERATIONS_MAX = n_records-1 # Suggested 300\n",
    "VERSION = f'PHM-MS-C01_Repl_p10_{lnoise(ADD_NOISE, BREAKDOWN_CHANCE)}_{WEAR_THRESHOLD}_{EPISODES}_{MILLING_OPERATIONS_MAX}'\n",
    "###########################################################################################################################\n",
    "\n",
    "METRICS_METHOD = 'binary' # average method = {‘micro’, ‘macro’, ‘samples’, ‘weighted’, ‘binary’} \n",
    "TEST_INFO = 'Separate test set. Sampled from original PHM 2010 data sets'\n",
    "TEST_CASES = 40\n",
    "TEST_ROUNDS = 10\n",
    "WEAR_THRESHOLD_NORMALIZED = 0.0 # normalized to the max wear threshold\n",
    "\n",
    "# Policy network learning parameters\n",
    "gamma = 0.99\n",
    "alpha = 0.01\n",
    "\n",
    "RESULTS_FOLDER = 'results/20-May-2023'\n",
    "CONSOLIDATED_METRICS_FILE = f'{RESULTS_FOLDER}/CONSOLIDATED_METRICS.csv'\n",
    "RESULTS_FILE = f'{RESULTS_FOLDER}/{VERSION}_test_results_{dt_d}_{dt_m}.csv'\n",
    "METRICS_FILE = f'{RESULTS_FOLDER}/{VERSION}_metrics.csv'\n",
    "\n",
    "# RESULTS_FILE = f'results/13-May-2023/{VERSION}_test_results_{dt_d}-{dt_m}.csv'\n",
    "# METRICS_FILE = f'results/13-May-2023/{VERSION}_metrics_{dt_d}-{dt_m}.csv'\n",
    "\n",
    "print('\\n -- Columns added to results file ', RESULTS_FILE)\n",
    "results = ['Date', 'Time', 'Round', 'Environment', 'Training_data', 'Wear_Threshold', 'Test_data', 'Algorithm', 'Episodes', 'Normal_cases', 'Normal_error', \n",
    "           'Replace_cases', 'Replace_error', 'Overall_error', \n",
    "           'Precision', 'Recall', 'F_Beta_0_5', 'F_Beta_0_75', 'F_1_Score']\n",
    "write_test_results(results, RESULTS_FILE)"
   ]
  },
  {
   "cell_type": "markdown",
   "id": "f886c7ec-7d40-4c8b-8929-9564c871427c",
   "metadata": {},
   "source": [
    "## Data pre-process\n",
    "1. Add noise\n",
    "2. Add ACTION_CODE based on tool wear threshold\n",
    "3. Normalize data base \n",
    "4. Split into train and test"
   ]
  },
  {
   "cell_type": "code",
   "execution_count": 443,
   "id": "d446893d-749b-41f5-8955-6e34c6c76a56",
   "metadata": {},
   "outputs": [
    {
     "name": "stdout",
     "output_type": "stream",
     "text": [
      "Tool wear data imported (34722 records). WEAR_THRESHOLD_NORMALIZED: 0.515\n",
      "- Input data records: 34722.\n",
      "- Sampling rate: 100\n",
      "- Expected rows 347\n",
      "- Down-sampled to 348 rows.\n",
      "- Input data records: 34722.\n",
      "- Sampling rate: 70\n",
      "- Expected rows 496\n",
      "- Down-sampled to 497 rows.\n",
      "\n",
      " Tool wear data split into train (348 records) and test (497 records).\n",
      " WEAR_THRESHOLD_NORMALIZED: 0.515\n"
     ]
    }
   ],
   "source": [
    "\n",
    "# 1. Add noise\n",
    "if ADD_NOISE:\n",
    "    df['tool_wear'] += np.random.normal(0, 1, n_records)/ADD_NOISE\n",
    "\n",
    "# 2. Add ACTION code\n",
    "df['ACTION_CODE'] = np.where(df['tool_wear'] < WEAR_THRESHOLD, 0.0, 1.0)\n",
    "\n",
    "# 3. Normalize\n",
    "WEAR_MIN = df['tool_wear'].min() \n",
    "WEAR_MAX = df['tool_wear'].max()\n",
    "WEAR_THRESHOLD_NORMALIZED = THRESHOLD_FACTOR*(WEAR_THRESHOLD-WEAR_MIN)/(WEAR_MAX-WEAR_MIN)\n",
    "df_normalized = (df-df.min())/(df.max()-df.min())\n",
    "df_normalized['ACTION_CODE'] = df['ACTION_CODE']\n",
    "print(f'Tool wear data imported ({len(df.index)} records). WEAR_THRESHOLD_NORMALIZED: {WEAR_THRESHOLD_NORMALIZED:4.3f}')\n",
    "\n",
    "# 4. Split into train and test\n",
    "df_train = downsample(df_normalized, 100)\n",
    "df_train.to_csv('TempTrain.csv')\n",
    "df_train = pd.read_csv('TempTrain.csv')\n",
    "\n",
    "df_test = downsample(df_normalized, 70)\n",
    "df_test.to_csv('TempTest.csv')\n",
    "df_test = pd.read_csv('TempTest.csv')\n",
    "\n",
    "print(f'\\n Tool wear data split into train ({len(df_train.index)} records) and test ({len(df_test.index)} records).\\n WEAR_THRESHOLD_NORMALIZED: {WEAR_THRESHOLD_NORMALIZED:4.3f}')"
   ]
  },
  {
   "cell_type": "code",
   "execution_count": 444,
   "id": "3b2cec52-e9f9-4f99-a96f-1984340ee10d",
   "metadata": {},
   "outputs": [
    {
     "data": {
      "image/png": "[encoded data removed]",
      "text/plain": [
       "<Figure size 800x320 with 2 Axes>"
      ]
     },
     "metadata": {},
     "output_type": "display_data"
    }
   ],
   "source": [
    "n_records = len(df_train.index)\n",
    "x = [n for n in range(n_records)]\n",
    "y1 = df_train['tool_wear']\n",
    "y2 = df_train['ACTION_CODE']\n",
    "wear_plot = f'{RESULTS_FOLDER}/{VERSION}_wear_plot.png'\n",
    "title=f'Tool Wear (mm) data\\n{VERSION}'\n",
    "two_axes_plot(x, y1, y2, title=title, x_label='Time', y1_label='Tool Wear (mm)', y2_label='Action code (1=Replace)', xticks=20, file=wear_plot, threshold=WEAR_THRESHOLD_NORMALIZED)"
   ]
  },
  {
   "cell_type": "markdown",
   "id": "0e16d7b2-582e-4eb7-aeb6-1aa07c9f062a",
   "metadata": {},
   "source": [
    "## Milling Tool Environment - \n",
    "1. MillingTool_SS: Single state: tool_wear and time\n",
    "2. MillingTool_MS: Multie-state: force_x; force_y; force_z; vibration_x; vibration_y; vibration_z; acoustic_emission_rms; tool_wear\n",
    "- Note: ACTION_CODE is only used for evaluation later (testing phase) and is NOT passed as part of the environment states"
   ]
  },
  {
   "cell_type": "code",
   "execution_count": 445,
   "id": "4269138f-d24a-4211-bf97-a4cfcc6606f0",
   "metadata": {},
   "outputs": [
    {
     "name": "stdout",
     "output_type": "stream",
     "text": [
      "\n",
      "** -- Multi-variate state V3 env. R1: 1.0, R2: -1.0, R3: 10.0. Noise: 1000.0. Break-down chance: 0.05 -- **\n",
      "\n",
      "\n",
      "** -- Multi-variate state V3 env. R1: 1.0, R2: -1.0, R3: 10.0. Noise: 1000.0. Break-down chance: 0.05 -- **\n",
      "\n"
     ]
    }
   ],
   "source": [
    "env = MillingTool_MS_V3(df_train, WEAR_THRESHOLD_NORMALIZED, MILLING_OPERATIONS_MAX, ADD_NOISE, BREAKDOWN_CHANCE, R1, R2, R3)\n",
    "env_test = MillingTool_MS_V3(df_test, WEAR_THRESHOLD_NORMALIZED, MILLING_OPERATIONS_MAX, ADD_NOISE, BREAKDOWN_CHANCE, R1, R2, R3)\n",
    "\n",
    "\n",
    "# env = MillingTool_MS_V2(df_train, WEAR_THRESHOLD_NORMALIZED, MILLING_OPERATIONS_MAX, ADD_NOISE, BREAKDOWN_CHANCE, 1.0, -2.0, -100.00)"
   ]
  },
  {
   "cell_type": "markdown",
   "id": "72084a8c-a494-4add-adcd-c9b26eaff5b0",
   "metadata": {},
   "source": [
    "## REINFORCE RL Algorithm"
   ]
  },
  {
   "cell_type": "code",
   "execution_count": 446,
   "id": "f9395ab9-3a67-4329-b051-9675216294a9",
   "metadata": {
    "tags": []
   },
   "outputs": [
    {
     "name": "stdout",
     "output_type": "stream",
     "text": [
      "[0000] Loss:   2.27e+01 | Reward:   3.83e-01 | Ep.length: 0348\n",
      "[0100] Loss:   2.96e-03 | Reward:   6.07e-01 | Ep.length: 0348\n",
      "[0200] Loss:   1.02e-03 | Reward:   6.07e-01 | Ep.length: 0348\n",
      "[0300] Loss:   5.47e-04 | Reward:   6.07e-01 | Ep.length: 0348\n",
      "[0400] Loss:   3.48e-04 | Reward:   6.07e-01 | Ep.length: 0348\n",
      "[0500] Loss:   2.24e-04 | Reward:   6.07e-01 | Ep.length: 0348\n",
      "[0600] Loss:   1.74e-04 | Reward:   6.07e-01 | Ep.length: 0348\n",
      "[0700] Loss:   1.24e-04 | Reward:   6.07e-01 | Ep.length: 0348\n"
     ]
    }
   ],
   "source": [
    "### Main loop\n",
    "rewards_history = []\n",
    "loss_history = []\n",
    "training_stats = []\n",
    "\n",
    "input_dim = env.observation_space.shape[0]\n",
    "output_dim = env.action_space.n\n",
    "\n",
    "agent_RF = Agent(input_dim, output_dim, alpha, gamma)\n",
    "\n",
    "for episode in range(EPISODES):\n",
    "    state = env.reset()\n",
    "\n",
    "    # Sample a trajectory\n",
    "    for t in range(MILLING_OPERATIONS_MAX): # Max. milling operations desired\n",
    "        action = agent_RF.act(state)\n",
    "        state, reward, done, info = env.step(action)\n",
    "        agent_RF.rewards.append(reward)\n",
    "        #env.render()\n",
    "        if done:\n",
    "            # print('** DONE **', info)\n",
    "            break\n",
    "\n",
    "    # Learn during this episode \n",
    "    loss = agent_RF.learn() # train per episode\n",
    "    total_reward = sum(agent_RF.rewards)\n",
    "\n",
    "    # Record statistics for this episode\n",
    "    rewards_history.append(total_reward)\n",
    "    loss_history.append(loss.item()) # Extract values from list of torch items for plotting\n",
    "\n",
    "    # On-policy - so discard all data \n",
    "    agent_RF.onpolicy_reset()\n",
    "\n",
    "    if (episode%100 == 0):\n",
    "        # print(f'[{episode:04d}] Loss: {loss:>10.2f} | Reward: {total_reward:>10.2f} | Ep.length: {env.ep_length:04d}')\n",
    "        print(f'[{episode:04d}] Loss: {loss:>10.2e} | Reward: {total_reward:>10.2e} | Ep.length: {env.ep_length:04d}')"
   ]
  },
  {
   "cell_type": "code",
   "execution_count": 447,
   "id": "c3c60e56-6f76-4caf-b199-f9f9130a8264",
   "metadata": {
    "tags": []
   },
   "outputs": [
    {
     "data": {
      "image/png": "[encoded data removed]",
      "text/plain": [
       "<Figure size 800x320 with 1 Axes>"
      ]
     },
     "metadata": {},
     "output_type": "display_data"
    },
    {
     "data": {
      "image/png": "[encoded data removed]",
      "text/plain": [
       "<Figure size 800x320 with 1 Axes>"
      ]
     },
     "metadata": {},
     "output_type": "display_data"
    },
    {
     "data": {
      "image/png": "[encoded data removed]",
      "text/plain": [
       "<Figure size 800x320 with 1 Axes>"
      ]
     },
     "metadata": {},
     "output_type": "display_data"
    }
   ],
   "source": [
    "x = [i for i in range(EPISODES)]\n",
    "\n",
    "## Moving average for rewards\n",
    "ma_window_size = 10\n",
    "# # Convert error array to pandas series\n",
    "rewards = pd.Series(rewards_history)\n",
    "windows = rewards.rolling(ma_window_size)\n",
    "moving_avg = windows.mean()\n",
    "moving_avg_lst = moving_avg.tolist()\n",
    "y1 = rewards\n",
    "y2 = moving_avg_lst\n",
    "\n",
    "filename = f'{RESULTS_FOLDER}/{VERSION}_Avg_episode_rewards.png'\n",
    "two_variable_plot(x, y1, y2, 'Avg. rewards per episode', VERSION, 'Episode', 'Avg. Rewards', 'Moving Avg.', 50, filename)\n",
    "\n",
    "# plot_error_bounds(x, y1)\n",
    "\n",
    "filename = f'{RESULTS_FOLDER}/{VERSION}_Episode_Length.png'\n",
    "single_axes_plot(x, env.ep_length_history, 'Episode length', VERSION, 'Episode', 'No of milling operations', 50, 0.0, filename)\n",
    "\n",
    "filename = f'{RESULTS_FOLDER}/{VERSION}_Tool_Replacements.png' \n",
    "single_axes_plot(x, env.ep_tool_replaced_history, 'Tool replacements per episode', VERSION, 'Episode', 'Replacements', 50, 0.0, filename)\n"
   ]
  },
  {
   "cell_type": "markdown",
   "id": "ea41d3b6-c92a-4207-9753-1db372650a3d",
   "metadata": {},
   "source": [
    "### Generate a balanced test set"
   ]
  },
  {
   "cell_type": "code",
   "execution_count": 448,
   "id": "2e537d71-df73-4299-b98f-780a7d5b2d66",
   "metadata": {
    "tags": []
   },
   "outputs": [],
   "source": [
    "idx_replace_cases = df_test.index[df_test['ACTION_CODE'] >= 1.0]\n",
    "idx_normal_cases = df_test.index[df_test['ACTION_CODE'] < 1.0]"
   ]
  },
  {
   "cell_type": "code",
   "execution_count": 449,
   "id": "72ac8e11-523a-4111-9aeb-05acf5393dd4",
   "metadata": {},
   "outputs": [
    {
     "name": "stdout",
     "output_type": "stream",
     "text": [
      "\n",
      " === REINFORCE model trained ===\n",
      "\n",
      "--------------------------------------------------------------------------------\n",
      "Algorithm\tNormal\terr.%\tReplace\terr.%\tOverall err.%\n",
      "--------------------------------------------------------------------------------\n",
      "REINFORCE\t20\t1.000\t20\t0.000\t0.500\n",
      "REINFORCE\t20\t1.000\t20\t0.000\t0.500\n",
      "REINFORCE\t20\t1.000\t20\t0.000\t0.500\n",
      "REINFORCE\t20\t1.000\t20\t0.000\t0.500\n",
      "REINFORCE\t20\t1.000\t20\t0.000\t0.500\n",
      "REINFORCE\t20\t1.000\t20\t0.000\t0.500\n",
      "REINFORCE\t20\t1.000\t20\t0.000\t0.500\n",
      "REINFORCE\t20\t1.000\t20\t0.000\t0.500\n",
      "REINFORCE\t20\t1.000\t20\t0.000\t0.500\n",
      "REINFORCE\t20\t1.000\t20\t0.000\t0.500\n",
      "\n",
      "- Test results written to file: results/20-May-2023/PHM-MS-C01_Repl_p10_LowNBD_0.12_800_348_test_results_21-May-2023_2017.csv\n"
     ]
    }
   ],
   "source": [
    "# Process results\n",
    "# eps = [i for i in range(EPISODES)]\n",
    "# store_results(RF_TRAINING_FILE, training_round, eps, rewards_history, env.ep_tool_replaced_history)\n",
    "print('\\n === REINFORCE model trained ===\\n')\n",
    "print(80*'-')\n",
    "print(f'Algorithm\\tNormal\\terr.%\\tReplace\\terr.%\\tOverall err.%')\n",
    "print(80*'-')\n",
    "for test_round in range(TEST_ROUNDS):\n",
    "    # Create test cases\n",
    "    idx_replace_cases = np.random.choice(idx_replace_cases, int(TEST_CASES/2), replace=False)\n",
    "    idx_normal_cases = np.random.choice(idx_normal_cases, int(TEST_CASES/2), replace=False)\n",
    "    test_cases = [*idx_normal_cases, *idx_replace_cases]\n",
    "    \n",
    "    results = test_script(METRICS_METHOD, test_round, df_test, 'REINFORCE', EPISODES, env_test, ENVIRONMENT_INFO, agent_RF, \n",
    "                          test_cases, TEST_INFO, DATA_FILE, WEAR_THRESHOLD, RESULTS_FILE)\n",
    "    write_test_results(results, RESULTS_FILE)\n",
    "    \n",
    "print(f'\\n- Test results written to file: {RESULTS_FILE}')"
   ]
  },
  {
   "cell_type": "markdown",
   "id": "63bee41b-1cfe-4dc2-afb4-d1f0a3bd8318",
   "metadata": {},
   "source": [
    "## Stable-Baselines Algorithms"
   ]
  },
  {
   "cell_type": "code",
   "execution_count": 450,
   "id": "7d6c629b-ef55-4ecc-bff7-98dc2c924b80",
   "metadata": {},
   "outputs": [],
   "source": [
    "from stable_baselines3.common.vec_env import DummyVecEnv\n",
    "from stable_baselines3 import A2C, PPO, DQN"
   ]
  },
  {
   "cell_type": "code",
   "execution_count": 451,
   "id": "8ac6bae0-24c8-49f4-beb0-3f6ac95a5c4f",
   "metadata": {
    "tags": []
   },
   "outputs": [
    {
     "name": "stdout",
     "output_type": "stream",
     "text": [
      "\n",
      "A2C - Training and Testing Stable-Baselines-3 A2C algorithm\n",
      "<stable_baselines3.a2c.a2c.A2C object at 0x00000173098179A0>\n",
      "\n",
      "DQN - Training and Testing Stable-Baselines-3 DQN algorithm\n",
      "<stable_baselines3.dqn.dqn.DQN object at 0x0000017314FC3700>\n",
      "\n",
      "PPO - Training and Testing Stable-Baselines-3 PPO algorithm\n",
      "<stable_baselines3.ppo.ppo.PPO object at 0x0000017307699730>\n"
     ]
    }
   ],
   "source": [
    "algos = ['A2C','DQN','PPO']\n",
    "\n",
    "SB_agents = []\n",
    "\n",
    "for SB_ALGO in algos:\n",
    "    if SB_ALGO.upper() == 'A2C': agent_SB = A2C('MlpPolicy', env)\n",
    "    if SB_ALGO.upper() == 'DQN': agent_SB = DQN('MlpPolicy', env)\n",
    "    if SB_ALGO.upper() == 'PPO': agent_SB = PPO('MlpPolicy', env)\n",
    "    \n",
    "    print(f'\\n{SB_ALGO} - Training and Testing Stable-Baselines-3 {SB_ALGO} algorithm')\n",
    "    agent_SB.learn(total_timesteps=EPISODES)\n",
    "\n",
    "    SB_agents.append(agent_SB)\n",
    "    print(agent_SB)"
   ]
  },
  {
   "cell_type": "code",
   "execution_count": 452,
   "id": "7b18416d-5554-470b-b0a8-3fc92cb79405",
   "metadata": {
    "tags": []
   },
   "outputs": [
    {
     "name": "stdout",
     "output_type": "stream",
     "text": [
      "\n",
      "\n",
      " - Testing Stable-Baselines-3 <stable_baselines3.a2c.a2c.A2C object at 0x00000173098179A0>\n",
      "--------------------------------------------------------------------------------\n",
      "Algo.\tNormal\tErr.%\tReplace\tErr.%\tOverall err.%\n",
      "--------------------------------------------------------------------------------\n",
      "A2C\t20\t0.450\t20\t0.400\t0.425\n",
      "A2C\t20\t0.650\t20\t0.300\t0.475\n",
      "A2C\t20\t0.450\t20\t0.600\t0.525\n",
      "A2C\t20\t0.500\t20\t0.500\t0.500\n",
      "A2C\t20\t0.450\t20\t0.400\t0.425\n",
      "A2C\t20\t0.350\t20\t0.550\t0.450\n",
      "A2C\t20\t0.400\t20\t0.650\t0.525\n",
      "A2C\t20\t0.500\t20\t0.550\t0.525\n",
      "A2C\t20\t0.350\t20\t0.450\t0.400\n",
      "A2C\t20\t0.600\t20\t0.700\t0.650\n",
      "\n",
      "\n",
      " - Testing Stable-Baselines-3 <stable_baselines3.dqn.dqn.DQN object at 0x0000017314FC3700>\n",
      "--------------------------------------------------------------------------------\n",
      "Algo.\tNormal\tErr.%\tReplace\tErr.%\tOverall err.%\n",
      "--------------------------------------------------------------------------------\n",
      "DQN\t20\t1.000\t20\t0.000\t0.500\n",
      "DQN\t20\t0.950\t20\t0.100\t0.525\n",
      "DQN\t20\t0.950\t20\t0.000\t0.475\n",
      "DQN\t20\t1.000\t20\t0.000\t0.500\n",
      "DQN\t20\t0.900\t20\t0.000\t0.450\n",
      "DQN\t20\t1.000\t20\t0.000\t0.500\n",
      "DQN\t20\t1.000\t20\t0.000\t0.500\n",
      "DQN\t20\t1.000\t20\t0.000\t0.500\n",
      "DQN\t20\t1.000\t20\t0.100\t0.550\n",
      "DQN\t20\t0.950\t20\t0.000\t0.475\n",
      "\n",
      "\n",
      " - Testing Stable-Baselines-3 <stable_baselines3.ppo.ppo.PPO object at 0x0000017307699730>\n",
      "--------------------------------------------------------------------------------\n",
      "Algo.\tNormal\tErr.%\tReplace\tErr.%\tOverall err.%\n",
      "--------------------------------------------------------------------------------\n",
      "PPO\t20\t0.450\t20\t0.500\t0.475\n",
      "PPO\t20\t0.550\t20\t0.300\t0.425\n",
      "PPO\t20\t0.750\t20\t0.300\t0.525\n",
      "PPO\t20\t0.700\t20\t0.550\t0.625\n",
      "PPO\t20\t0.600\t20\t0.500\t0.550\n",
      "PPO\t20\t0.350\t20\t0.350\t0.350\n",
      "PPO\t20\t0.750\t20\t0.500\t0.625\n",
      "PPO\t20\t0.550\t20\t0.400\t0.475\n",
      "PPO\t20\t0.700\t20\t0.250\t0.475\n",
      "PPO\t20\t0.450\t20\t0.350\t0.400\n"
     ]
    }
   ],
   "source": [
    "n = 0\n",
    "for agent_SB in SB_agents:\n",
    "    print(f'\\n\\n - Testing Stable-Baselines-3 {agent_SB}')\n",
    "    print(80*'-')\n",
    "    print(f'Algo.\\tNormal\\tErr.%\\tReplace\\tErr.%\\tOverall err.%')\n",
    "    print(80*'-')\n",
    "    for test_round in range(TEST_ROUNDS):\n",
    "        # Create test cases\n",
    "        idx_replace_cases = np.random.choice(idx_replace_cases, int(TEST_CASES/2), replace=False)\n",
    "        idx_normal_cases = np.random.choice(idx_normal_cases, int(TEST_CASES/2), replace=False)\n",
    "        test_cases = [*idx_normal_cases, *idx_replace_cases]\n",
    "        results = test_script(METRICS_METHOD, test_round, df_test, algos[n], EPISODES, env_test, ENVIRONMENT_INFO, \n",
    "                              agent_SB, test_cases, TEST_INFO, DATA_FILE, WEAR_THRESHOLD, RESULTS_FILE)\n",
    "        write_test_results(results, RESULTS_FILE)\n",
    "    n += 1"
   ]
  },
  {
   "cell_type": "markdown",
   "id": "06c3a3f2-22eb-44b3-9210-c8f5d62ec781",
   "metadata": {},
   "source": [
    "### Create a consolidated algorithm wise metrics summary"
   ]
  },
  {
   "cell_type": "code",
   "execution_count": 453,
   "id": "eaee1d27-cd9c-421f-b341-83f2971c0ba0",
   "metadata": {},
   "outputs": [
    {
     "name": "stdout",
     "output_type": "stream",
     "text": [
      "-------------------------------------------------------------------------------- \n",
      " Algorithm level consolidated metrics being reported to file:\n",
      " results/20-May-2023/PHM-MS-C01_Repl_p10_LowNBD_0.12_800_348_metrics.csv\n",
      " --------------------------------------------------------------------------------\n",
      "- Experiment related meta info written\n",
      "- Algorithm level consolidated metrics reported to file\n",
      "- results/20-May-2023/CONSOLIDATED_METRICS.csv file updated\n",
      "\n",
      "\n",
      " ================= END OF PROGRAM =================\n"
     ]
    },
    {
     "data": {
      "text/html": [
       "<div>\n",
       "<style scoped>\n",
       "    .dataframe tbody tr th:only-of-type {\n",
       "        vertical-align: middle;\n",
       "    }\n",
       "\n",
       "    .dataframe tbody tr th {\n",
       "        vertical-align: top;\n",
       "    }\n",
       "\n",
       "    .dataframe thead tr th {\n",
       "        text-align: left;\n",
       "    }\n",
       "\n",
       "    .dataframe thead tr:last-of-type th {\n",
       "        text-align: right;\n",
       "    }\n",
       "</style>\n",
       "<table border=\"1\" class=\"dataframe\">\n",
       "  <thead>\n",
       "    <tr>\n",
       "      <th></th>\n",
       "      <th colspan=\"2\" halign=\"left\">Precision</th>\n",
       "      <th colspan=\"2\" halign=\"left\">Recall</th>\n",
       "      <th colspan=\"2\" halign=\"left\">F_Beta_0_5</th>\n",
       "      <th colspan=\"2\" halign=\"left\">F_Beta_0_75</th>\n",
       "      <th colspan=\"2\" halign=\"left\">F_1_Score</th>\n",
       "      <th>Normal_error</th>\n",
       "      <th>Replace_error</th>\n",
       "      <th>Overall_error</th>\n",
       "    </tr>\n",
       "    <tr>\n",
       "      <th></th>\n",
       "      <th>mean</th>\n",
       "      <th>std</th>\n",
       "      <th>mean</th>\n",
       "      <th>std</th>\n",
       "      <th>mean</th>\n",
       "      <th>std</th>\n",
       "      <th>mean</th>\n",
       "      <th>std</th>\n",
       "      <th>mean</th>\n",
       "      <th>std</th>\n",
       "      <th>mean</th>\n",
       "      <th>mean</th>\n",
       "      <th>mean</th>\n",
       "    </tr>\n",
       "    <tr>\n",
       "      <th>Algorithm</th>\n",
       "      <th></th>\n",
       "      <th></th>\n",
       "      <th></th>\n",
       "      <th></th>\n",
       "      <th></th>\n",
       "      <th></th>\n",
       "      <th></th>\n",
       "      <th></th>\n",
       "      <th></th>\n",
       "      <th></th>\n",
       "      <th></th>\n",
       "      <th></th>\n",
       "      <th></th>\n",
       "    </tr>\n",
       "  </thead>\n",
       "  <tbody>\n",
       "    <tr>\n",
       "      <th>A2C</th>\n",
       "      <td>0.508</td>\n",
       "      <td>0.079</td>\n",
       "      <td>0.49</td>\n",
       "      <td>0.124</td>\n",
       "      <td>0.502</td>\n",
       "      <td>0.083</td>\n",
       "      <td>0.498</td>\n",
       "      <td>0.088</td>\n",
       "      <td>0.496</td>\n",
       "      <td>0.094</td>\n",
       "      <td>0.470</td>\n",
       "      <td>0.51</td>\n",
       "      <td>0.490</td>\n",
       "    </tr>\n",
       "    <tr>\n",
       "      <th>DQN</th>\n",
       "      <td>0.501</td>\n",
       "      <td>0.014</td>\n",
       "      <td>0.98</td>\n",
       "      <td>0.042</td>\n",
       "      <td>0.555</td>\n",
       "      <td>0.016</td>\n",
       "      <td>0.608</td>\n",
       "      <td>0.019</td>\n",
       "      <td>0.663</td>\n",
       "      <td>0.021</td>\n",
       "      <td>0.975</td>\n",
       "      <td>0.02</td>\n",
       "      <td>0.497</td>\n",
       "    </tr>\n",
       "    <tr>\n",
       "      <th>PPO</th>\n",
       "      <td>0.509</td>\n",
       "      <td>0.081</td>\n",
       "      <td>0.60</td>\n",
       "      <td>0.105</td>\n",
       "      <td>0.524</td>\n",
       "      <td>0.079</td>\n",
       "      <td>0.537</td>\n",
       "      <td>0.080</td>\n",
       "      <td>0.549</td>\n",
       "      <td>0.081</td>\n",
       "      <td>0.585</td>\n",
       "      <td>0.40</td>\n",
       "      <td>0.492</td>\n",
       "    </tr>\n",
       "    <tr>\n",
       "      <th>REINFORCE</th>\n",
       "      <td>0.500</td>\n",
       "      <td>0.000</td>\n",
       "      <td>1.00</td>\n",
       "      <td>0.000</td>\n",
       "      <td>0.556</td>\n",
       "      <td>0.000</td>\n",
       "      <td>0.610</td>\n",
       "      <td>0.000</td>\n",
       "      <td>0.667</td>\n",
       "      <td>0.000</td>\n",
       "      <td>1.000</td>\n",
       "      <td>0.00</td>\n",
       "      <td>0.500</td>\n",
       "    </tr>\n",
       "  </tbody>\n",
       "</table>\n",
       "</div>"
      ],
      "text/plain": [
       "          Precision        Recall        F_Beta_0_5        F_Beta_0_75         \\\n",
       "               mean    std   mean    std       mean    std        mean    std   \n",
       "Algorithm                                                                       \n",
       "A2C           0.508  0.079   0.49  0.124      0.502  0.083       0.498  0.088   \n",
       "DQN           0.501  0.014   0.98  0.042      0.555  0.016       0.608  0.019   \n",
       "PPO           0.509  0.081   0.60  0.105      0.524  0.079       0.537  0.080   \n",
       "REINFORCE     0.500  0.000   1.00  0.000      0.556  0.000       0.610  0.000   \n",
       "\n",
       "          F_1_Score        Normal_error Replace_error Overall_error  \n",
       "               mean    std         mean          mean          mean  \n",
       "Algorithm                                                            \n",
       "A2C           0.496  0.094        0.470          0.51         0.490  \n",
       "DQN           0.663  0.021        0.975          0.02         0.497  \n",
       "PPO           0.549  0.081        0.585          0.40         0.492  \n",
       "REINFORCE     0.667  0.000        1.000          0.00         0.500  "
      ]
     },
     "execution_count": 453,
     "metadata": {},
     "output_type": "execute_result"
    }
   ],
   "source": [
    "print(80*'-', f'\\n Algorithm level consolidated metrics being reported to file:\\n {METRICS_FILE}\\n', 80*'-')\n",
    "\n",
    "header_columns = [VERSION]\n",
    "write_test_results(header_columns, METRICS_FILE)\n",
    "header_columns = ['Date', 'Time', 'Environment', 'Noise', 'Breakdown_chance', 'Train_data', 'env.R1', 'env.R2', 'env.R3', 'Wear threshold', 'Wear threshold (train)', 'Episodes', 'Terminate on',\n",
    "                  'Test_info', 'Test_cases', 'Metrics_method']\n",
    "write_test_results(header_columns, METRICS_FILE)\n",
    "\n",
    "dt_t = dt.strftime('%H:%M:%S')\n",
    "noise_info = 'None' if ADD_NOISE == 0 else (1/ADD_NOISE)\n",
    "header_info = [dt_d, dt_t, ENVIRONMENT_INFO, noise_info, BREAKDOWN_CHANCE, DATA_FILE, env.R1, env.R2, env.R3, WEAR_THRESHOLD, THRESHOLD_FACTOR*WEAR_THRESHOLD, EPISODES, MILLING_OPERATIONS_MAX, TEST_INFO, TEST_CASES, METRICS_METHOD]\n",
    "write_test_results(header_info, METRICS_FILE)\n",
    "write_test_results([], METRICS_FILE) # leave a blank line\n",
    "\n",
    "print('- Experiment related meta info written')\n",
    "\n",
    "df_algo_results = pd.read_csv(RESULTS_FILE)\n",
    "# algo_metrics = compute_metrics_simple(df_algo_results)\n",
    "algo_metrics = compute_metrics(df_algo_results)\n",
    "\n",
    "write_metrics_report(algo_metrics, METRICS_FILE, 4)\n",
    "write_test_results([], METRICS_FILE) # leave a blank line\n",
    "print('- Algorithm level consolidated metrics reported to file')\n",
    "\n",
    "## ------------------------------------------------------------------------------------------\n",
    "write_test_results(header_columns, CONSOLIDATED_METRICS_FILE)\n",
    "write_test_results(header_info, CONSOLIDATED_METRICS_FILE)\n",
    "write_test_results([], CONSOLIDATED_METRICS_FILE) # leave a blank line\n",
    "write_metrics_report(algo_metrics, CONSOLIDATED_METRICS_FILE, 4)\n",
    "write_test_results([120*'-'], CONSOLIDATED_METRICS_FILE) # leave a blank line\n",
    "print(f'- {CONSOLIDATED_METRICS_FILE} file updated')\n",
    "print('\\n\\n ================= END OF PROGRAM =================')\n",
    "\n",
    "algo_metrics.round(3)"
   ]
  },
  {
   "cell_type": "code",
   "execution_count": 454,
   "id": "de677eb1-6434-407c-92e7-7d1f5741c1a2",
   "metadata": {
    "tags": []
   },
   "outputs": [
    {
     "data": {
      "text/plain": [
       "(0.12,\n",
       " 90.0,\n",
       " 0.108,\n",
       " 1000.0,\n",
       " 0.05,\n",
       " 800,\n",
       " 348,\n",
       " 'PHM-MS-C01_Repl_p10_LowNBD_0.12_800_348')"
      ]
     },
     "execution_count": 454,
     "metadata": {},
     "output_type": "execute_result"
    }
   ],
   "source": [
    "WEAR_THRESHOLD, THRESHOLD_FACTOR*100, THRESHOLD_FACTOR*WEAR_THRESHOLD, ADD_NOISE, BREAKDOWN_CHANCE, EPISODES, MILLING_OPERATIONS_MAX, VERSION"
   ]
  },
  {
   "cell_type": "code",
   "execution_count": 455,
   "id": "97659551-ff8e-4e2f-b9ce-f2c7038d9ca7",
   "metadata": {
    "tags": []
   },
   "outputs": [
    {
     "data": {
      "text/plain": [
       "'data\\\\PHM_Tool_Wear_Data_C01_0p12.csv'"
      ]
     },
     "execution_count": 455,
     "metadata": {},
     "output_type": "execute_result"
    }
   ],
   "source": [
    "DATA_FILE"
   ]
  },
  {
   "cell_type": "code",
   "execution_count": 456,
   "id": "d7afe937-a0dc-47fc-8cba-9d136db81818",
   "metadata": {},
   "outputs": [
    {
     "data": {
      "text/plain": [
       "(1.0, -1.0, 10.0)"
      ]
     },
     "execution_count": 456,
     "metadata": {},
     "output_type": "execute_result"
    }
   ],
   "source": [
    "env.R1, env.R2, env.R3 "
   ]
  }
 ],
 "metadata": {
  "kernelspec": {
   "display_name": "RL",
   "language": "python",
   "name": "rl"
  },
  "language_info": {
   "codemirror_mode": {
    "name": "ipython",
    "version": 3
   },
   "file_extension": ".py",
   "mimetype": "text/x-python",
   "name": "python",
   "nbconvert_exporter": "python",
   "pygments_lexer": "ipython3",
   "version": "3.9.1"
  }
 },
 "nbformat": 4,
 "nbformat_minor": 5
}
